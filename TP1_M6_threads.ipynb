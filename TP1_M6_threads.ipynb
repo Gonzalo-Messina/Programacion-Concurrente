{
  "nbformat": 4,
  "nbformat_minor": 0,
  "metadata": {
    "colab": {
      "provenance": [],
      "include_colab_link": true
    },
    "kernelspec": {
      "name": "python3",
      "display_name": "Python 3"
    },
    "language_info": {
      "name": "python"
    }
  },
  "cells": [
    {
      "cell_type": "markdown",
      "metadata": {
        "id": "view-in-github",
        "colab_type": "text"
      },
      "source": [
        "<a href=\"https://colab.research.google.com/github/Gonzalo-Messina/Programacion-Concurrente/blob/main/TP1_M6_threads.ipynb\" target=\"_parent\"><img src=\"https://colab.research.google.com/assets/colab-badge.svg\" alt=\"Open In Colab\"/></a>"
      ]
    },
    {
      "cell_type": "markdown",
      "source": [
        "# Ejemplo de Threads en Java"
      ],
      "metadata": {
        "id": "yqnvS0EFP-bq"
      }
    },
    {
      "cell_type": "markdown",
      "source": [
        "## Creacion de archivos"
      ],
      "metadata": {
        "id": "v-bv9bLqQmWK"
      }
    },
    {
      "cell_type": "code",
      "execution_count": null,
      "metadata": {
        "colab": {
          "base_uri": "https://localhost:8080/"
        },
        "id": "5ODsf48sP2tV",
        "outputId": "2e6a9c4a-b490-4e90-94fc-77a8e6f23bad"
      },
      "outputs": [
        {
          "output_type": "stream",
          "name": "stdout",
          "text": [
            "Overwriting App.java\n"
          ]
        }
      ],
      "source": [
        "%%writefile App.java\n",
        "import java.util.ArrayList;\n",
        "import java.util.List;\n",
        "import java.util.Map;\n",
        "import java.util.Random;\n",
        "\n",
        "public class App {\n",
        "  public static final int MIN_VALUE = -32;\n",
        "  public static final int MAX_VALUE = 32;\n",
        "  public static final int NUMBER_OF_MATRICES = 2;\n",
        "\n",
        "  public static void main(String[] args) throws Exception\n",
        "  {\n",
        "    // Inicializamos matrices\n",
        "    int matrixSize = parseInteger(args);\n",
        "    List<int[][]> matrices = initializeMatrices(NUMBER_OF_MATRICES, matrixSize, MIN_VALUE, MAX_VALUE);\n",
        "    int[][] matrixA = matrices.get(0);\n",
        "    int[][] matrixB = matrices.get(1);\n",
        "\n",
        "    // Creamos la caluladora\n",
        "    MatrixCalculatorFactory calculatorFactory = new MatrixCalculatorFactory();\n",
        "    MatrixCalculator sequentialMatrixCalculator = calculatorFactory.createMatrixCalculator(MatrixCalculatorFactory.SEQUENTIAL_CALCULATOR);\n",
        "    MatrixCalculator parallelMatrixCalculator = calculatorFactory.createMatrixCalculator((MatrixCalculatorFactory.PARALLEL_CALCULATOR));\n",
        "    \n",
        "    // Calculamos resultados\n",
        "    int[][] sequentialResult = sequentialMatrixCalculator.multiply(matrixA, matrixB);\n",
        "    int[][] parallelResult = parallelMatrixCalculator.multiply(matrixA, matrixB);\n",
        "\n",
        "    // Mostramos por pantalla los resultados o el error si hubiera.\n",
        "    if (compare(sequentialResult, parallelResult))\n",
        "    {\n",
        "      List<Map.Entry<String, int[][]>> labeledMatrices = List.of(\n",
        "        Map.entry(\"Matriz A\", matrixA),\n",
        "        Map.entry(\"Matriz B\", matrixB),\n",
        "        Map.entry(\"Resultado secuencial\", sequentialResult),\n",
        "        Map.entry(\"Resultado paralelo\", parallelResult)\n",
        "      );\n",
        "      printMatrices(labeledMatrices);\n",
        "    } \n",
        "    else\n",
        "    {\n",
        "      System.out.println(\"Las dos matrices no dieron igual!!\");\n",
        "    }\n",
        "  }\n",
        "  \n",
        "  public static int parseInteger(String args[])\n",
        "  {\n",
        "    int squareMatrixSize = Integer.MIN_VALUE;\n",
        "    try\n",
        "    {\n",
        "      squareMatrixSize = Integer.parseInt(args[0]);\n",
        "      if(squareMatrixSize < 5 || squareMatrixSize > 20) \n",
        "      {\n",
        "        System.err.println(\"El tamaño de la matriz debe ser un número entero entre 5 y 20\");\n",
        "        System.exit(1);\n",
        "      }\n",
        "    }\n",
        "    catch (NumberFormatException e)\n",
        "    {\n",
        "      System.err.println(\"El primer parámetro debe ser un número entero\");\n",
        "      System.exit(1);\n",
        "    }\n",
        "    return squareMatrixSize;\n",
        "  }\n",
        "  \n",
        "  // Inicializa una matrix cuadrada de tamaño n con números aleatorios entre min (inclusivo) y max (inclusivo)\n",
        "  public static int[][] initializeMatrix(int n, int min, int max)\n",
        "  {\n",
        "    int[][] matrix = new int[n][n];\n",
        "    Random randomizer = new Random();\n",
        "    for(int i = 0; i < n; i++)\n",
        "    {\n",
        "      for(int j = 0; j < n; j++)\n",
        "      {\n",
        "        matrix[i][j] = randomizer.nextInt((max + 1) - min) + min;\n",
        "      }\n",
        "    }\n",
        "    return matrix;\n",
        "  }\n",
        "\n",
        "  // Inicializa una lista de matrices cuadradas de tamaño n con números aleatorios entre min (inclusivo) y max (inclusivo)\n",
        "  public static List<int[][]> initializeMatrices(int numberOfMatrices, int matrixDimension, int minValue, int maxValue)\n",
        "  {\n",
        "    List<int[][]> matrices = new ArrayList<>();\n",
        "    for(int i = 0; i < numberOfMatrices; i++)\n",
        "    {\n",
        "      matrices.add(initializeMatrix(matrixDimension, minValue, maxValue));\n",
        "    }\n",
        "    return matrices;\n",
        "  }\n",
        "  \n",
        "\n",
        "  // Compara dos matrices y devuelve true si son iguales, false en caso de que cualquier elemento de igual indice sea distinto\n",
        "  public static boolean compare(int[][] matrixA, int[][] matrixB)\n",
        "  {\n",
        "    for(int i = 0; i < matrixA.length; i++)\n",
        "    {\n",
        "      for(int j = 0; j < matrixA.length; j++)\n",
        "      {\n",
        "        if(matrixA[i][j] != matrixB[i][j])\n",
        "        {\n",
        "          return false;\n",
        "        }\n",
        "      }\n",
        "    }\n",
        "    return true;\n",
        "  }\n",
        "  \n",
        "  // Recibe una matriz y la imprime por consola\n",
        "  public static void printMatrix(int[][] matrix)\n",
        "  {\n",
        "    for(int i = 0; i < matrix.length; i++)\n",
        "    {\n",
        "      System.out.print(\"|\");\n",
        "      for(int j = 0; j < matrix.length; j++)\n",
        "      {\n",
        "        System.out.print(String.format(\"%5d|\",matrix[i][j]));\n",
        "      }\n",
        "      System.out.println();\n",
        "    }\n",
        "    System.out.println();\n",
        "  }\n",
        "\n",
        "    // Recibe una lista de tuplas de nombre, matriz y las imprime por consola\n",
        "  public static void printMatrices(List<Map.Entry<String, int[][]>> matrices)\n",
        "  {\n",
        "    for(Map.Entry<String, int[][]> entryMap : matrices)\n",
        "    {\n",
        "      System.out.println(entryMap.getKey());\n",
        "      printMatrix(entryMap.getValue());\n",
        "    }\n",
        "  }\n",
        "}\n"
      ]
    },
    {
      "cell_type": "markdown",
      "source": [
        "ConcurrentMatrixMultiplicator es una estrategia de multiplicacion que consiste en crear una pool de tantos Threads como filas tengan las matrices cuadradas y luego iniciarlos todos de manera que iteren por las columnas de sus filas para hacer la multiplicación con la otra matriz."
      ],
      "metadata": {
        "id": "hdp4UdR8Uq-g"
      }
    },
    {
      "cell_type": "code",
      "source": [
        "%%writefile ConcurrentMatrixMultiplicator.java\n",
        "import java.util.ArrayList;\n",
        "import java.util.List;\n",
        "\n",
        "public class ConcurrentMatrixMultiplicator implements IMatrixMultiplicationStrategy\n",
        "  {\n",
        "    public int[][] matrixMultiplication(int[][] a, int[][] b) {\n",
        "      int rowsA = a.length;\n",
        "      int rowsB = b.length;\n",
        "      int[][] ch = new int[rowsA][rowsB];\n",
        "      \n",
        "      // LLevamos registro de todos los threads lanzados para esperarlos antes de devolver el resultado\n",
        "      List<Thread> threadPool = new ArrayList<Thread>(a.length*b.length);\n",
        "      for (int i = 0; i < a.length; i++) {\n",
        "        // Las variables en el Thread tienen que ser inmutables.\n",
        "        final int iCopy = i;\n",
        "        Thread t = new Thread(() -> {\n",
        "          for (int j = 0; j < b[0].length; j++) {\n",
        "            for (int k = 0; k < a[0].length; k++) {\n",
        "              ch[iCopy][j] += a[iCopy][k] * b[k][j];\n",
        "  \n",
        "            }\n",
        "          }\n",
        "        });\n",
        "\n",
        "        // Agregamos el thread a la pool para lanzarlo luego.\n",
        "        // Si bien podriamos lanzar el hilo recien creado ahora mismo, testeos locales con N > 1000 tuvieron mejor rendimiento\n",
        "        //  al crear la pool con todos los hilos y lanzarlos luego.\n",
        "        threadPool.add(t);\n",
        "      }\n",
        "\n",
        "      // Iniciamos los hilos en la pool.\n",
        "      threadPool.forEach(t -> t.start());\n",
        "\n",
        "      // Esperamos los hilos que todavía estén procesando la multiplicación\n",
        "      threadPool.forEach(t -> {\n",
        "        try \n",
        "        {\n",
        "          t.join();\n",
        "        } catch (InterruptedException e)\n",
        "        {\n",
        "          System.out.println(\"Ocurrio un error durante la multiplicacion en paralelo\");\n",
        "          e.printStackTrace();\n",
        "        }\n",
        "      });\n",
        "\n",
        "      return ch;\n",
        "    }\n",
        "  }"
      ],
      "metadata": {
        "colab": {
          "base_uri": "https://localhost:8080/"
        },
        "id": "4XDShE5pQxWW",
        "outputId": "1550697b-a2ce-44e1-d326-82ff824d3157"
      },
      "execution_count": null,
      "outputs": [
        {
          "output_type": "stream",
          "name": "stdout",
          "text": [
            "Writing ConcurrentMatrixMultiplicator.java\n"
          ]
        }
      ]
    },
    {
      "cell_type": "code",
      "source": [
        "%%writefile IMatrixMultiplicationStrategy.java\n",
        "public interface IMatrixMultiplicationStrategy\n",
        "{\n",
        "  // Returns product of two matrices\n",
        "  public int[][] matrixMultiplication(int[][] a, int[][] b);\n",
        "}"
      ],
      "metadata": {
        "colab": {
          "base_uri": "https://localhost:8080/"
        },
        "id": "I7qjsQQhQ3ao",
        "outputId": "1208236d-b62c-4803-e338-e177aa7b21f1"
      },
      "execution_count": null,
      "outputs": [
        {
          "output_type": "stream",
          "name": "stdout",
          "text": [
            "Writing IMatrixMultiplicationStrategy.java\n"
          ]
        }
      ]
    },
    {
      "cell_type": "markdown",
      "source": [
        "Calculadora de matrices que utiliza una estrategia para hacer los calculos"
      ],
      "metadata": {
        "id": "0h5Wm8sRVGNT"
      }
    },
    {
      "cell_type": "code",
      "source": [
        "%%writefile MatrixCalculator.java\n",
        "public class MatrixCalculator\n",
        "{\n",
        "  private IMatrixMultiplicationStrategy multiplicationStrategy_;\n",
        "\n",
        "  public MatrixCalculator(IMatrixMultiplicationStrategy multiplicationStrategy) \n",
        "  {\n",
        "    this.multiplicationStrategy_ = multiplicationStrategy;\n",
        "  }\n",
        "\n",
        "  public int[][] multiply(int[][] a, int[][] b)\n",
        "  {\n",
        "    return this.multiplicationStrategy_.matrixMultiplication(a, b);\n",
        "  }\n",
        "}"
      ],
      "metadata": {
        "colab": {
          "base_uri": "https://localhost:8080/"
        },
        "id": "LH7_yYKqQ7bO",
        "outputId": "bd9a5418-6e19-4a56-d52d-308a27bbb0f6"
      },
      "execution_count": null,
      "outputs": [
        {
          "output_type": "stream",
          "name": "stdout",
          "text": [
            "Writing MatrixCalculator.java\n"
          ]
        }
      ]
    },
    {
      "cell_type": "markdown",
      "source": [
        "Factory de calculadora de matrices que setea las estrategias según se indique en el parametro"
      ],
      "metadata": {
        "id": "bmCRSt85VTke"
      }
    },
    {
      "cell_type": "code",
      "source": [
        "%%writefile MatrixCalculatorFactory.java\n",
        "public class MatrixCalculatorFactory\n",
        "  {\n",
        "    public static final String SEQUENTIAL_CALCULATOR = \"sequential\";\n",
        "    public static final String PARALLEL_CALCULATOR = \"parallel\"; \n",
        "\n",
        "    public MatrixCalculator createMatrixCalculator(String strategy)\n",
        "    {\n",
        "      MatrixCalculator calculator = null;\n",
        "      switch (strategy) {\n",
        "        case SEQUENTIAL_CALCULATOR:\n",
        "          calculator = new MatrixCalculator(new SequentialMatrixMultiplicator());\n",
        "          break;\n",
        "        case PARALLEL_CALCULATOR:\n",
        "          calculator = new MatrixCalculator(new ConcurrentMatrixMultiplicator());\n",
        "          break;\n",
        "        default:\n",
        "          System.out.println(\"Por favor, ingrese un algoritmo de multiplicacion valido\");\n",
        "          break;\n",
        "      }\n",
        "      return calculator;\n",
        "    }\n",
        "}"
      ],
      "metadata": {
        "colab": {
          "base_uri": "https://localhost:8080/"
        },
        "id": "_YRHmJzAQ-UG",
        "outputId": "88591a1d-5478-4419-8391-173d8bcad596"
      },
      "execution_count": null,
      "outputs": [
        {
          "output_type": "stream",
          "name": "stdout",
          "text": [
            "Writing MatrixCalculatorFactory.java\n"
          ]
        }
      ]
    },
    {
      "cell_type": "markdown",
      "source": [
        "SequentialMatrixMultiplicator es una estrategia de multiplicación que consiste en iterar secuencialmente por todos los elementos de una matriz y hacer la multiplicación con la otra"
      ],
      "metadata": {
        "id": "XKxhFLNYVZO-"
      }
    },
    {
      "cell_type": "code",
      "source": [
        "%%writefile SequentialMatrixMultiplicator.java\n",
        "public class SequentialMatrixMultiplicator implements IMatrixMultiplicationStrategy\n",
        "  {\n",
        "    public int[][] matrixMultiplication(int[][] a, int[][] b) {\n",
        "      //Multiply matrix a by matrix b\n",
        "      int rowsA = a.length;\n",
        "      int rowsB = b.length;\n",
        "      int[][] cs = new int[rowsA][rowsB];\n",
        "      \n",
        "      for (int i = 0; i < a.length; i++) {\n",
        "        for (int j = 0; j < b[0].length; j++) {\n",
        "          for (int k = 0; k < a[0].length; k++) {\n",
        "            cs[i][j] += a[i][k] * b[k][j];\n",
        "          }\n",
        "        }\n",
        "      }\n",
        "      return cs;\n",
        "    }\n",
        "  }"
      ],
      "metadata": {
        "colab": {
          "base_uri": "https://localhost:8080/"
        },
        "id": "6rfhe1BgRCf1",
        "outputId": "a2c0f094-216c-459d-9107-976530f56634"
      },
      "execution_count": null,
      "outputs": [
        {
          "output_type": "stream",
          "name": "stdout",
          "text": [
            "Writing SequentialMatrixMultiplicator.java\n"
          ]
        }
      ]
    },
    {
      "cell_type": "markdown",
      "source": [
        "## Compilacion"
      ],
      "metadata": {
        "id": "C4bApt1ZRMO8"
      }
    },
    {
      "cell_type": "code",
      "source": [
        "!javac *.java"
      ],
      "metadata": {
        "id": "932YFPmvRQ7y"
      },
      "execution_count": null,
      "outputs": []
    },
    {
      "cell_type": "markdown",
      "source": [
        "## Ejecucion"
      ],
      "metadata": {
        "id": "kKGJ4MbvVpVo"
      }
    },
    {
      "cell_type": "code",
      "source": [
        "!java App 20"
      ],
      "metadata": {
        "colab": {
          "base_uri": "https://localhost:8080/"
        },
        "id": "sUwKdXMPRTBj",
        "outputId": "a3a79713-b5ff-4357-d33a-a25de701997e"
      },
      "execution_count": null,
      "outputs": [
        {
          "output_type": "stream",
          "name": "stdout",
          "text": [
            "Matrix A\n",
            "|   12|   -4|   -2|   -8|   19|   -5|   23|   32|  -26|   -3|   -2|   23|   27|    0|    8|   27|  -28|   -8|    4|  -30|\n",
            "|  -24|  -13|    0|   11|   -4|    2|   31|  -13|   22|   18|   -9|   19|  -10|   22|   26|   20|    1|   -5|   -9|  -26|\n",
            "|   12|  -16|   13|  -14|  -24|   23|   19|   27|  -22|   10|   -4|  -10|   -7|   10|  -10|    3|  -25|   -6|    9|    9|\n",
            "|  -17|    6|    5|  -13|  -27|   -3|  -14|   17|  -25|   13|  -20|    8|   19|   26|   20|  -31|   18|   15|  -14|   29|\n",
            "|   30|    0|  -30|  -32|   25|   24|    0|  -11|  -30|  -20|    6|   20|   15|    3|   -7|   32|   20|    8|   21|  -11|\n",
            "|  -15|   31|  -27|    2|   11|   27|  -30|   -2|    8|    3|    6|   -3|    5|   -2|  -24|  -16|    9|    9|  -28|  -18|\n",
            "|  -18|  -22|   17|  -28|  -12|  -21|  -17|    7|   23|   11|  -14|   27|   21|   25|   14|   -6|  -27|   26|   31|  -14|\n",
            "|   -2|   23|    0|  -25|   10|   29|  -27|   23|   11|    3|  -12|    8|   -3|  -23|   24|  -22|   12|   -3|   -7|   18|\n",
            "|    7|   -1|   11|  -28|   32|   18|   32|   30|   26|  -14|   10|  -13|  -31|  -15|    5|  -16|    9|   29|   15|   28|\n",
            "|  -14|   21|    5|   25|   23|   -4|  -13|   28|   19|   28|   11|    5|    8|   -9|   32|   22|    3|  -31|  -16|  -23|\n",
            "|   11|   30|   14|   26|  -28|  -17|   23|    1|    3|  -15|  -29|  -25|   -7|   17|  -29|   26|  -24|   25|   17|  -13|\n",
            "|   14|   23|  -25|   29|  -24|  -24|   -5|   30|  -30|   10|   -4|    0|   13|   28|    4|   24|   25|   -1|   -9|    9|\n",
            "|   17|   16|  -29|  -29|   24|   -9|  -17|    9|  -18|  -27|  -31|   11|   20|    2|   29|    3|   23|   -1|  -24|    6|\n",
            "|  -31|  -12|   16|  -29|   25|  -21|  -17|   24|   14|   29|   26|    4|   19|  -29|  -26|  -27|   29|  -11|    4|    2|\n",
            "|   23|  -22|   -1|  -19|  -25|   -1|  -18|   17|  -20|    4|  -23|    1|   -8|    3|    3|    2|   24|  -30|    5|   -2|\n",
            "|   21|  -21|   20|   -7|   19|  -28|  -24|  -19|   -4|   -8|  -17|   25|    1|  -32|   16|  -14|  -29|  -11|  -31|   12|\n",
            "|  -29|    9|    6|  -20|   -6|   -5|    4|  -23|  -14|  -27|   29|    2|    3|   13|   22|   24|   27|   -6|   -6|   -1|\n",
            "|  -10|  -27|   20|  -28|  -19|  -25|  -16|   16|  -26|   27|  -17|    2|    4|  -19|   11|   -5|  -21|    4|    3|    4|\n",
            "|  -20|   -6|  -13|  -14|   20|    8|  -30|   19|   20|  -18|  -30|    2|  -30|   15|  -10|   13|   17|    8|    7|    4|\n",
            "|  -13|  -12|   23|   27|   20|  -21|   -5|  -18|   18|    0|  -24|   -7|    1|    1|   23|  -26|   11|  -29|   25|    2|\n",
            "\n",
            "Matrix B\n",
            "|    3|   23|   -4|   17|  -14|   -2|  -25|   20|  -19|   13|  -21|  -11|   -8|  -14|  -21|   30|   17|   18|   31|   31|\n",
            "|  -31|    3|    8|  -18|  -13|   11|   29|  -22|   23|    8|   21|    0|  -32|  -19|  -13|    5|  -16|   24|    9|   11|\n",
            "|  -11|  -25|   -8|   -3|  -23|   25|   -1|   -9|   30|    0|    4|  -26|   27|   15|   14|  -17|   26|  -12|  -23|   -5|\n",
            "|  -21|  -14|  -31|  -28|   -1|  -29|   28|  -30|    6|    9|   29|   10|   24|   24|   31|    8|    1|  -15|  -22|   12|\n",
            "|    2|   16|  -24|  -22|   18|    9|  -31|   21|    0|    3|   32|   28|  -12|  -12|    0|   14|  -21|  -26|   14|   18|\n",
            "|  -29|  -14|  -10|   31|   11|  -16|  -17|   26|   30|   21|   12|    6|   28|   16|  -12|    8|  -26|  -23|  -18|   19|\n",
            "|   -6|   32|   23|   10|   -6|   -7|  -32|   32|  -30|   24|   -8|   -1|   23|  -23|    7|    6|  -13|   -1|  -14|    6|\n",
            "|  -17|  -15|   -6|   -3|  -29|   -9|  -20|   18|   21|   21|  -25|  -21|   28|   13|   15|   20|   25|  -19|    1|    2|\n",
            "|  -17|   28|   14|    0|   31|  -25|  -12|   -7|    4|   19|   28|   28|   16|  -14|   31|  -20|   10|  -16|   -8|   -4|\n",
            "|    2|   -7|   -9|   18|   19|    3|  -10|   11|    8|  -32|   31|  -21|   12|  -30|  -19|   19|  -13|   -4|   -5|    5|\n",
            "|   -5|   18|  -30|    0|    0|   11|    9|   -1|   13|   23|  -25|   -4|    1|  -24|   17|    3|  -23|  -16|    6|   22|\n",
            "|  -31|    7|   18|   23|    1|    0|  -17|   -7|  -27|    8|  -18|   -4|   16|  -24|   -6|   -5|  -27|   24|  -26|    0|\n",
            "|   18|    7|   29|   11|  -30|   12|   10|   27|  -19|    2|    4|   16|   26|    9|   26|  -20|    0|  -19|  -29|   21|\n",
            "|  -21|   14|   19|  -29|   18|   -2|  -27|    9|  -19|  -30|  -28|  -20|  -25|  -20|    1|    3|   11|   17|  -30|   -4|\n",
            "|    5|    2|   30|   12|  -12|    9|    0|   14|  -22|   -9|   14|   18|   12|   -4|   20|    6|  -29|   15|  -10|   16|\n",
            "|   -7|  -12|   -6|   23|   30|    3|   -4|    2|    9|  -10|   23|    3|    4|    8|  -16|  -31|   29|   20|  -12|   -8|\n",
            "|   -4|   -6|   -4|    1|  -16|   21|   -7|   -1|   -6|    0|  -29|   31|  -26|    5|   22|   -5|    6|   -9|   19|   10|\n",
            "|  -19|   11|   11|   20|    7|   -4|  -28|   24|   13|  -24|    8|   -7|    3|   18|  -27|   29|   30|   12|  -21|  -27|\n",
            "|   -9|  -25|   -2|   20|  -28|   19|   -6|  -23|    3|  -20|    5|  -15|  -13|   12|   19|   31|  -26|  -18|  -15|  -24|\n",
            "|    6|   30|   22|  -28|   -3|  -28|  -21|  -22|   12|    6|   11|   -7|  -12|   -7|   24|   -1|  -18|    2|    3|    0|\n",
            "\n",
            "Resultado secuencial\n",
            "|  -31| -565|  469| 2288|-1407| 1372|-1397| 3456|-2101|  612| -918|-1107| 2675| -384|-1310|  389|  223|  437|-1464| 1055|\n",
            "|-1449|  245| 1451| 1251| 2941| -449|-1000| 1112|-2348| -999| 1348| 1025| 2158|-1528|  409|-1632| -579|  936|-3145| -506|\n",
            "| -101|-1068|  200| 1510|-1144| -660|-1918| 1664| 1004|  190|-1845|-3914| 2027|  522|-1335| 1355|  891| -193| -880| -489|\n",
            "|  168| -318| 3600|-1112|-2540|  299| -379|  359| -433|-2218|-2266|-1604| -604|  266|  566|  493|   16| 1384|-1441| -536|\n",
            "|  -86|  527|   92| 3461| -126| 2116|-2623| 2954|-1900| -177|-2203| 1157|-2426| -369|-2963| 1083|-1268| 1148| 1112| 1147|\n",
            "|-1304|  -91|-1693| -912| 1840| -667| 1935|  126| 2173|  761|  948| 1980|-1352|    4|-1762| -128| -474| -693| 1207| 1053|\n",
            "| -323| -706| 3386| 2105| -164| 1239|-1699|  602|-1337|-3523| -220|-2071| 1524|  -33|  280| -100| 1093|  588|-4094|-3372|\n",
            "| -730| -376|  966|  554|-1189|  -21| -445|  315| 2128| 1316|  919| 1181|  -26|   64|  183|  721|-2081| -646| 1582| 1171|\n",
            "|-1418| 2529|  239|  312| -396| -785|-5176| 2144| 2013| 2446|  -72|  234|  234| -476|  837| 2821| -594|-2148| 1449| -405|\n",
            "|-1064|-1496|-1734| -610|  671|  494| 2032| -187|  983|  934| 3177| 1860| 2221| -969| 1991|-1332| -962|-1222| -329| 2485|\n",
            "|-1896| -945|  385| -792| -201| -903|  994|-1475| 1114|-1122| 1220|-2519| -407| 1908|-1557|  369| 4600| 2004|-1767|-2709|\n",
            "| -735| -493|  550|-1585|-1621| -258| 1086| -628|-1078|-1253|-2069|-1043|-1712|  -18|  155|  674| 1934| 2496|   53|  910|\n",
            "| 1428| 1426| 2926| -403|-1179| 1053| -932| 2133|-2738| -122|-1401| 2715|-2804| -240|-1109| -315|  -95| 2432| 2398| 1617|\n",
            "| 1710| -604|-1718| -426|-1384| 2302|   73| -191| 1759|  546| -709|  622|  359| -893| 2362| -733| -693|-4114| 1617|  -57|\n",
            "| 1602|-2149|  238| 1192|-1793|  967| -225|  -56|-1090| -793|-3433|-1253| -902|  758| -544|   13| 1312|  865| 1962|   81|\n",
            "| 2864|  991|  473| -563|    5|  -35|  610| -596|-1626|  439| 1081|  451|  945| -356| -737|-1334|   16| 1350| 1683|  734|\n",
            "|  242|  121| 1063| -180|    3| 2465| 1307| -473| -726| -278|-1821| 1527|-1998| -459| 1024|-2930|-1025| 1307| -479|   11|\n",
            "| 2771|-2275| 1038| 1626|-1693| 1434|  230|  304|  137|-2564| -484|-3052| 1505|  906|-1251|  125| 1308|  618| -166|-2073|\n",
            "|-1315|-1079| -285|-1009| 2284| -833|-1819| -906| 1492|-1103|  322| 1124|-2183| 1479| -485| -277| 1631| -133|  632|-2417|\n",
            "| 1117|-1112|   29|-2543|-1139|  590| 1284|-2696|-1208| -934| 2300| 1747|  -87|  708| 4178| -496|-1642|-2035| -558| -145|\n",
            "\n",
            "Resultado paralelo\n",
            "|  -31| -565|  469| 2288|-1407| 1372|-1397| 3456|-2101|  612| -918|-1107| 2675| -384|-1310|  389|  223|  437|-1464| 1055|\n",
            "|-1449|  245| 1451| 1251| 2941| -449|-1000| 1112|-2348| -999| 1348| 1025| 2158|-1528|  409|-1632| -579|  936|-3145| -506|\n",
            "| -101|-1068|  200| 1510|-1144| -660|-1918| 1664| 1004|  190|-1845|-3914| 2027|  522|-1335| 1355|  891| -193| -880| -489|\n",
            "|  168| -318| 3600|-1112|-2540|  299| -379|  359| -433|-2218|-2266|-1604| -604|  266|  566|  493|   16| 1384|-1441| -536|\n",
            "|  -86|  527|   92| 3461| -126| 2116|-2623| 2954|-1900| -177|-2203| 1157|-2426| -369|-2963| 1083|-1268| 1148| 1112| 1147|\n",
            "|-1304|  -91|-1693| -912| 1840| -667| 1935|  126| 2173|  761|  948| 1980|-1352|    4|-1762| -128| -474| -693| 1207| 1053|\n",
            "| -323| -706| 3386| 2105| -164| 1239|-1699|  602|-1337|-3523| -220|-2071| 1524|  -33|  280| -100| 1093|  588|-4094|-3372|\n",
            "| -730| -376|  966|  554|-1189|  -21| -445|  315| 2128| 1316|  919| 1181|  -26|   64|  183|  721|-2081| -646| 1582| 1171|\n",
            "|-1418| 2529|  239|  312| -396| -785|-5176| 2144| 2013| 2446|  -72|  234|  234| -476|  837| 2821| -594|-2148| 1449| -405|\n",
            "|-1064|-1496|-1734| -610|  671|  494| 2032| -187|  983|  934| 3177| 1860| 2221| -969| 1991|-1332| -962|-1222| -329| 2485|\n",
            "|-1896| -945|  385| -792| -201| -903|  994|-1475| 1114|-1122| 1220|-2519| -407| 1908|-1557|  369| 4600| 2004|-1767|-2709|\n",
            "| -735| -493|  550|-1585|-1621| -258| 1086| -628|-1078|-1253|-2069|-1043|-1712|  -18|  155|  674| 1934| 2496|   53|  910|\n",
            "| 1428| 1426| 2926| -403|-1179| 1053| -932| 2133|-2738| -122|-1401| 2715|-2804| -240|-1109| -315|  -95| 2432| 2398| 1617|\n",
            "| 1710| -604|-1718| -426|-1384| 2302|   73| -191| 1759|  546| -709|  622|  359| -893| 2362| -733| -693|-4114| 1617|  -57|\n",
            "| 1602|-2149|  238| 1192|-1793|  967| -225|  -56|-1090| -793|-3433|-1253| -902|  758| -544|   13| 1312|  865| 1962|   81|\n",
            "| 2864|  991|  473| -563|    5|  -35|  610| -596|-1626|  439| 1081|  451|  945| -356| -737|-1334|   16| 1350| 1683|  734|\n",
            "|  242|  121| 1063| -180|    3| 2465| 1307| -473| -726| -278|-1821| 1527|-1998| -459| 1024|-2930|-1025| 1307| -479|   11|\n",
            "| 2771|-2275| 1038| 1626|-1693| 1434|  230|  304|  137|-2564| -484|-3052| 1505|  906|-1251|  125| 1308|  618| -166|-2073|\n",
            "|-1315|-1079| -285|-1009| 2284| -833|-1819| -906| 1492|-1103|  322| 1124|-2183| 1479| -485| -277| 1631| -133|  632|-2417|\n",
            "| 1117|-1112|   29|-2543|-1139|  590| 1284|-2696|-1208| -934| 2300| 1747|  -87|  708| 4178| -496|-1642|-2035| -558| -145|\n",
            "\n"
          ]
        }
      ]
    },
    {
      "cell_type": "markdown",
      "source": [
        "# Ejemplo threads en Python"
      ],
      "metadata": {
        "id": "srk7-KmEVs1y"
      }
    },
    {
      "cell_type": "code",
      "source": [
        "%%writefile threads.py\n",
        "import random\n",
        "import sys\n",
        "import threading\n",
        "import os\n",
        "\n",
        "def generate_random_matrix(N, min_value, max_value):\n",
        "    matrix = []\n",
        "    for i in range(N):\n",
        "        row = []\n",
        "        for j in range(N):\n",
        "            row.append(random.randint(min_value, max_value))\n",
        "        matrix.append(row)\n",
        "    return matrix\n",
        "\n",
        "def matrix_multiplication(matrixA, matrixB):\n",
        "    result = []\n",
        "    for i in range(len(matrixA)):\n",
        "        row = []\n",
        "        for j in range(len(matrixB[0])):\n",
        "            sum = 0\n",
        "            for k in range(len(matrixB)):\n",
        "                sum += matrixA[i][k] * matrixB[k][j]\n",
        "            row.append(sum)\n",
        "        result.append(row)\n",
        "    return result\n",
        "\n",
        "def concurrent_matrix_multiplication(matrixA, matrixB):\n",
        "    result = []\n",
        "    threads = []\n",
        "    for i in range(len(matrixA)):\n",
        "        row = []\n",
        "        # row va a contener la fila i de la matriz resultante. La inicializamos con ceros\n",
        "        for j in range(len(matrixB[0])):\n",
        "            row.append(0)\n",
        "        result.append(row)\n",
        "\n",
        "        # Creamos tantos hilos como filas tenga la matriz A. Estos hilos calcularan el producto entre la fila i de la matriz A y la matriz B\n",
        "        t = threading.Thread(target=calculate_row, args=(matrixA, matrixB, result, i))\n",
        "        t.start()\n",
        "        threads.append(t)\n",
        "    for t in threads:\n",
        "        # Esperamos a los hilos que todavia esten calculando antes de devolver el resultado\n",
        "        t.join()\n",
        "    return result\n",
        "\n",
        "def calculate_row(matrixA, matrixB, result, row_index):\n",
        "    for j in range(len(matrixB[0])):\n",
        "        sum = 0\n",
        "        for k in range(len(matrixB)):\n",
        "            sum += matrixA[row_index][k] * matrixB[k][j]\n",
        "        result[row_index][j] = sum\n",
        "\n",
        "def print_matrix(matrix):\n",
        "    for row in matrix:\n",
        "        print(row)\n",
        "\n",
        "def parse_parameters():\n",
        "    if len(sys.argv) != 2:\n",
        "        print(f\"Uso: python {os.path.basename(__file__)} N\")\n",
        "        sys.exit(1)\n",
        "    N = int(sys.argv[1])\n",
        "    if N < 5 or N > 20:\n",
        "        print(\"N debe estar entre 5 y 20\")\n",
        "        sys.exit(1)\n",
        "    return N\n",
        "\n",
        "MIN_VALUE = -32\n",
        "MAX_VALUE = 32\n",
        "if __name__ == \"__main__\":\n",
        "    N = parse_parameters()\n",
        "\n",
        "    matrixA = generate_random_matrix(N, MIN_VALUE, MAX_VALUE)\n",
        "    matrixB = generate_random_matrix(N, MIN_VALUE, MAX_VALUE)\n",
        "\n",
        "    sequential_result = matrix_multiplication(matrixA, matrixB)\n",
        "    concurrent_result = concurrent_matrix_multiplication(matrixA, matrixB)\n",
        "\n",
        "    if sequential_result == concurrent_result:\n",
        "        print(\"Matriz A:\")\n",
        "        print_matrix(matrixA)\n",
        "        print(\"Matriz B:\")\n",
        "        print_matrix(matrixB)\n",
        "        print(\"Resultado secuencial:\")\n",
        "        print_matrix(sequential_result)\n",
        "        print(\"Resultado concurrente:\")\n",
        "        print_matrix(parallel_result)\n",
        "    else:\n",
        "        print(\"Las dos matrices no dieron igual!!\")"
      ],
      "metadata": {
        "colab": {
          "base_uri": "https://localhost:8080/"
        },
        "id": "ne1UOeG7p9pT",
        "outputId": "4acbd414-c5ef-4b6c-c364-80083dd4bcb5"
      },
      "execution_count": null,
      "outputs": [
        {
          "output_type": "stream",
          "name": "stdout",
          "text": [
            "Overwriting threads.py\n"
          ]
        }
      ]
    },
    {
      "cell_type": "code",
      "source": [
        "!python threads.py 6"
      ],
      "metadata": {
        "colab": {
          "base_uri": "https://localhost:8080/"
        },
        "id": "-qLRQZSNqB-x",
        "outputId": "3f18d992-23e9-42d6-ca8d-ff4ba924ffa9"
      },
      "execution_count": null,
      "outputs": [
        {
          "output_type": "stream",
          "name": "stdout",
          "text": [
            "Matriz A:\n",
            "[14, -12, 3, 14, -1, -7]\n",
            "[16, 2, -5, -27, -12, -20]\n",
            "[-9, 32, -5, 23, -11, -20]\n",
            "[-10, 29, -23, 10, -19, -28]\n",
            "[-17, 0, 25, -29, -7, -32]\n",
            "[-31, 25, -25, 0, -15, -31]\n",
            "Matriz B:\n",
            "[-9, -22, -21, -25, -3, 19]\n",
            "[-16, 6, 6, 11, 30, 9]\n",
            "[24, -4, -24, -32, -27, 30]\n",
            "[16, -6, -11, -27, -29, -4]\n",
            "[-32, 2, 1, -21, 25, 2]\n",
            "[-25, -8, -29, -23, -19, 25]\n",
            "Resultado secuencial:\n",
            "[569, -422, -390, -774, -781, 15]\n",
            "[156, -22, 661, 1223, 1010, -244]\n",
            "[669, 410, 817, 807, 560, -647]\n",
            "[542, 612, 1619, 2078, 1288, -1397]\n",
            "[1313, 690, 997, 1291, 650, -271]\n",
            "[534, 1150, 2285, 2878, 1732, -1919]\n",
            "Resultado concurrente:\n",
            "Traceback (most recent call last):\n",
            "  File \"/content/threads.py\", line 86, in <module>\n",
            "    print_matrix(parallel_result)\n",
            "NameError: name 'parallel_result' is not defined\n"
          ]
        }
      ]
    },
    {
      "cell_type": "markdown",
      "source": [
        "#Ejemplo threads en C++"
      ],
      "metadata": {
        "id": "TOsUVvIzVwEp"
      }
    },
    {
      "cell_type": "code",
      "source": [
        "%%writefile threads.cpp\n",
        "#include <iostream>\n",
        "#include <vector>\n",
        "#include <random>\n",
        "#include <thread>\n",
        "\n",
        "std::vector<std::vector<int>> generate_random_matrix(int N, int min_value, int max_value) \n",
        "{\n",
        "    //Generamos un numero realmente aleatorio con el hardware del dispositivo\n",
        "    std::vector<std::vector<int>> matrix(N, std::vector<int>(N));\n",
        "    std::random_device rd;\n",
        "    std::mt19937 gen(rd());\n",
        "    std::uniform_int_distribution<> dis(min_value, max_value);\n",
        "    for (int i = 0; i < N; i++) {\n",
        "        for (int j = 0; j < N; j++) {\n",
        "            matrix[i][j] = dis(gen);\n",
        "        }\n",
        "    }\n",
        "    return matrix;\n",
        "}\n",
        "\n",
        "std::vector<std::vector<int>> matrix_multiplication(const std::vector<std::vector<int>>& matrixA, const std::vector<std::vector<int>>& matrixB) \n",
        "{\n",
        "    //Algoritmo estandar para multiplicar secuencialmente dos matrices\n",
        "    int N = matrixA.size();\n",
        "    std::vector<std::vector<int>> result(N, std::vector<int>(N));\n",
        "    for (int i = 0; i < N; i++) {\n",
        "        for (int j = 0; j < N; j++) {\n",
        "            int sum = 0;\n",
        "            for (int k = 0; k < N; k++) {\n",
        "                sum += matrixA[i][k] * matrixB[k][j];\n",
        "            }\n",
        "            result[i][j] = sum;\n",
        "        }\n",
        "    }\n",
        "    return result;\n",
        "}\n",
        "\n",
        "std::vector<std::vector<int>> concurrent_matrix_multiplication(const std::vector<std::vector<int>>& matrixA, const std::vector<std::vector<int>>& matrixB) \n",
        "{\n",
        "    //Inicializamos las variables\n",
        "    int N = matrixA.size();\n",
        "    std::vector<std::thread> threads;\n",
        "    std::vector<std::vector<int>> result(N, std::vector<int>(N));\n",
        "\n",
        "    //Guardamos una funcion anonima en calculate_row que puede acceder a N y recibe un row_index.\n",
        "    // Esta funcion sera usada en los threads, y acceder a N es seguro en este contexto puesto que es solo lectura.\n",
        "    auto calculate_row = [&](int row_index) {\n",
        "        for (int j = 0; j < N; j++) {\n",
        "            int sum = 0;\n",
        "            for (int k = 0; k < N; k++) {\n",
        "                sum += matrixA[row_index][k] * matrixB[k][j];\n",
        "            }\n",
        "            result[row_index][j] = sum;\n",
        "        }\n",
        "    };\n",
        "\n",
        "    for (int i = 0; i < N; i++) {\n",
        "        //Construimos el objeto y lo insertamos al final del vector. El hilo inicia inmediatamente despues de creado el objeto\n",
        "        threads.emplace_back(calculate_row, i);\n",
        "    }\n",
        "\n",
        "    //Esperamos a que todos los hilos terminen antes de devolver el resultado\n",
        "    for (auto& t : threads) {\n",
        "        t.join();\n",
        "    }\n",
        "    return result;\n",
        "}\n",
        "\n",
        "void print_matrix(const std::vector<std::vector<int>>& matrix) \n",
        "{\n",
        "    for (const auto& row : matrix) {\n",
        "        std::cout << \"| \";\n",
        "        for (int x : row) {\n",
        "            std::cout << x << \"| \";\n",
        "        }\n",
        "        std::cout << '\\n';\n",
        "    }\n",
        "}\n",
        "\n",
        "int parse_arguments(int argc, char* argv[]) \n",
        "{\n",
        "    if (argc != 2) {\n",
        "        std::cerr << \"Uso: \" << argv[0] << \" N\\n\";\n",
        "        return 1;\n",
        "    }\n",
        "    int N = std::stoi(argv[1]);\n",
        "    if (N < 5 || N > 20) {\n",
        "        std::cerr << \"N debe estar entre 5 y 20\\n\";\n",
        "        return 1;\n",
        "    }\n",
        "    return N;\n",
        "}\n",
        "\n",
        "int main(int argc, char* argv[]) \n",
        "{\n",
        "    int N = parse_arguments(argc, argv);\n",
        "\n",
        "    constexpr int MIN_VALUE = -32;\n",
        "    constexpr int MAX_VALUE = 32;\n",
        "\n",
        "    auto matrixA = generate_random_matrix(N, MIN_VALUE, MAX_VALUE);\n",
        "    auto matrixB = generate_random_matrix(N, MIN_VALUE, MAX_VALUE);\n",
        "\n",
        "    auto sequential_result = matrix_multiplication(matrixA, matrixB);\n",
        "    auto concurrent_result = concurrent_matrix_multiplication(matrixA, matrixB);\n",
        "\n",
        "    if (sequential_result == concurrent_result) {\n",
        "        std::cout << \"Matrix A:\\n\";\n",
        "        print_matrix(matrixA);\n",
        "        std::cout << \"Matrix B:\\n\";\n",
        "        print_matrix(matrixB);\n",
        "        std::cout << \"Resultado secuencial:\\n\";\n",
        "        print_matrix(sequential_result);\n",
        "        std::cout << \"Resultado concurrente:\\n\";\n",
        "        print_matrix(concurrent_result);\n",
        "    } else {\n",
        "        std::cout << \"Las dos matrices no dieron igual!!\\n\";\n",
        "    }\n",
        "}"
      ],
      "metadata": {
        "colab": {
          "base_uri": "https://localhost:8080/"
        },
        "id": "xDgOaUhJrm7t",
        "outputId": "319cbc77-b9e8-4564-bae4-c53ce092a5bb"
      },
      "execution_count": null,
      "outputs": [
        {
          "output_type": "stream",
          "name": "stdout",
          "text": [
            "Overwriting threads.cpp\n"
          ]
        }
      ]
    },
    {
      "cell_type": "code",
      "source": [
        "!g++ -std=c++11 -pthread threads.cpp -o program"
      ],
      "metadata": {
        "id": "ABIOXk1Rrr6Y"
      },
      "execution_count": null,
      "outputs": []
    },
    {
      "cell_type": "code",
      "source": [
        "!./program 5"
      ],
      "metadata": {
        "colab": {
          "base_uri": "https://localhost:8080/"
        },
        "id": "Hp4SjZ6ertJF",
        "outputId": "373b8e47-e463-43a6-eef1-17eb00d0d653"
      },
      "execution_count": null,
      "outputs": [
        {
          "output_type": "stream",
          "name": "stdout",
          "text": [
            "Matrix A:\n",
            "| 7| -18| -24| -14| 8| \n",
            "| -25| 22| -23| 16| 14| \n",
            "| -16| 16| 13| -10| 19| \n",
            "| 14| 11| 22| 3| 12| \n",
            "| 0| 14| 8| 25| 2| \n",
            "Matrix B:\n",
            "| 28| 7| -16| -24| 1| \n",
            "| 29| -8| 22| 24| -25| \n",
            "| -17| -7| 8| -15| -21| \n",
            "| 16| -1| -31| 25| 26| \n",
            "| 15| -21| 31| -1| -12| \n",
            "Resultado secuencial:\n",
            "| -22| 207| -18| -598| 501| \n",
            "| 795| -500| 638| 1859| 156| \n",
            "| -80| -720| 1611| 304| -1177| \n",
            "| 565| -399| 473| -339| -789| \n",
            "| 700| -235| -341| 839| 108| \n",
            "Resultado concurrente:\n",
            "| -22| 207| -18| -598| 501| \n",
            "| 795| -500| 638| 1859| 156| \n",
            "| -80| -720| 1611| 304| -1177| \n",
            "| 565| -399| 473| -339| -789| \n",
            "| 700| -235| -341| 839| 108| \n"
          ]
        }
      ]
    }
  ]
}