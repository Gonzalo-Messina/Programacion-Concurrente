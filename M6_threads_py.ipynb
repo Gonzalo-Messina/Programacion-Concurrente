{
  "nbformat": 4,
  "nbformat_minor": 0,
  "metadata": {
    "colab": {
      "provenance": [],
      "include_colab_link": true
    },
    "kernelspec": {
      "name": "python3",
      "display_name": "Python 3"
    },
    "language_info": {
      "name": "python"
    }
  },
  "cells": [
    {
      "cell_type": "markdown",
      "metadata": {
        "id": "view-in-github",
        "colab_type": "text"
      },
      "source": [
        "<a href=\"https://colab.research.google.com/github/Gonzalo-Messina/Programacion-Concurrente/blob/main/M6_threads_py.ipynb\" target=\"_parent\"><img src=\"https://colab.research.google.com/assets/colab-badge.svg\" alt=\"Open In Colab\"/></a>"
      ]
    },
    {
      "cell_type": "markdown",
      "source": [
        "# Ejemplo threads en Python"
      ],
      "metadata": {
        "id": "srk7-KmEVs1y"
      }
    },
    {
      "cell_type": "code",
      "source": [
        "%%writefile threads.py\n",
        "import random\n",
        "import sys\n",
        "import threading\n",
        "import os\n",
        "\n",
        "def generate_random_matrix(N, min_value, max_value):\n",
        "    matrix = []\n",
        "    for i in range(N):\n",
        "        row = []\n",
        "        for j in range(N):\n",
        "            row.append(random.randint(min_value, max_value))\n",
        "        matrix.append(row)\n",
        "    return matrix\n",
        "\n",
        "def matrix_multiplication(matrixA, matrixB):\n",
        "    result = []\n",
        "    for i in range(len(matrixA)):\n",
        "        row = []\n",
        "        for j in range(len(matrixB[0])):\n",
        "            sum = 0\n",
        "            for k in range(len(matrixB)):\n",
        "                sum += matrixA[i][k] * matrixB[k][j]\n",
        "            row.append(sum)\n",
        "        result.append(row)\n",
        "    return result\n",
        "\n",
        "def concurrent_matrix_multiplication(matrixA, matrixB):\n",
        "    result = []\n",
        "    threads = []\n",
        "    for i in range(len(matrixA)):\n",
        "        row = []\n",
        "        # row va a contener la fila i de la matriz resultante. La inicializamos con ceros\n",
        "        for j in range(len(matrixB[0])):\n",
        "            row.append(0)\n",
        "        result.append(row)\n",
        "\n",
        "        # Creamos tantos hilos como filas tenga la matriz A. Estos hilos calcularan el producto entre la fila i de la matriz A y la matriz B\n",
        "        t = threading.Thread(target=calculate_row, args=(matrixA, matrixB, result, i))\n",
        "        t.start()\n",
        "        threads.append(t)\n",
        "    for t in threads:\n",
        "        # Esperamos a los hilos que todavia esten calculando antes de devolver el resultado\n",
        "        t.join()\n",
        "    return result\n",
        "\n",
        "def calculate_row(matrixA, matrixB, result, row_index):\n",
        "    for j in range(len(matrixB[0])):\n",
        "        sum = 0\n",
        "        for k in range(len(matrixB)):\n",
        "            sum += matrixA[row_index][k] * matrixB[k][j]\n",
        "        result[row_index][j] = sum\n",
        "\n",
        "def print_matrix(matrix):\n",
        "    for row in matrix:\n",
        "        print(row)\n",
        "\n",
        "def parse_parameters():\n",
        "    if len(sys.argv) != 2:\n",
        "        print(f\"Uso: python {os.path.basename(__file__)} N\")\n",
        "        sys.exit(1)\n",
        "    N = int(sys.argv[1])\n",
        "    if N < 5 or N > 20:\n",
        "        print(\"N debe estar entre 5 y 20\")\n",
        "        sys.exit(1)\n",
        "    return N\n",
        "\n",
        "MIN_VALUE = -32\n",
        "MAX_VALUE = 32\n",
        "if __name__ == \"__main__\":\n",
        "    N = parse_parameters()\n",
        "\n",
        "    matrixA = generate_random_matrix(N, MIN_VALUE, MAX_VALUE)\n",
        "    matrixB = generate_random_matrix(N, MIN_VALUE, MAX_VALUE)\n",
        "\n",
        "    sequential_result = matrix_multiplication(matrixA, matrixB)\n",
        "    concurrent_result = concurrent_matrix_multiplication(matrixA, matrixB)\n",
        "\n",
        "    if sequential_result == concurrent_result:\n",
        "        print(\"Matriz A:\")\n",
        "        print_matrix(matrixA)\n",
        "        print(\"Matriz B:\")\n",
        "        print_matrix(matrixB)\n",
        "        print(\"Resultado secuencial:\")\n",
        "        print_matrix(sequential_result)\n",
        "        print(\"Resultado concurrente:\")\n",
        "        print_matrix(concurrent_result)\n",
        "    else:\n",
        "        print(\"Las dos matrices no dieron igual!!\")"
      ],
      "metadata": {
        "colab": {
          "base_uri": "https://localhost:8080/"
        },
        "id": "ne1UOeG7p9pT",
        "outputId": "7f701b5f-5a4f-4fa3-bdfd-744a52a760f6"
      },
      "execution_count": null,
      "outputs": [
        {
          "output_type": "stream",
          "name": "stdout",
          "text": [
            "Writing threads.py\n"
          ]
        }
      ]
    },
    {
      "cell_type": "code",
      "source": [
        "!python threads.py 10"
      ],
      "metadata": {
        "colab": {
          "base_uri": "https://localhost:8080/"
        },
        "id": "-qLRQZSNqB-x",
        "outputId": "37c4ddf3-601e-4372-a58f-2b08989fdd7b"
      },
      "execution_count": null,
      "outputs": [
        {
          "output_type": "stream",
          "name": "stdout",
          "text": [
            "Matriz A:\n",
            "[-14, -12, -13, 22, 17, 30, 4, -22, -13, -29]\n",
            "[-20, 28, 28, 28, 15, -30, 15, -29, -8, 32]\n",
            "[29, -30, 19, -13, -24, 12, 22, 19, 26, 26]\n",
            "[-29, -2, -14, -30, 8, -7, -30, 2, 22, 7]\n",
            "[8, -17, 17, 27, 24, -8, 9, -6, -6, -10]\n",
            "[-7, 26, 30, -8, 26, 24, -8, 17, -1, 6]\n",
            "[-2, -28, 14, -23, 14, -3, -14, -11, 23, -2]\n",
            "[30, 22, 0, 31, -26, 20, 2, 13, -19, 25]\n",
            "[6, -26, 1, -18, 7, 25, 21, 9, 21, 24]\n",
            "[11, 16, 15, -3, 10, -28, -27, 25, -20, 20]\n",
            "Matriz B:\n",
            "[-3, 19, 31, 9, -32, -14, 5, -3, 17, 12]\n",
            "[21, -21, 20, -13, -27, -17, -5, 22, 14, -24]\n",
            "[21, 23, 26, 16, -30, 8, 4, -26, 11, -16]\n",
            "[3, 0, 5, -11, -25, 5, 6, 31, 2, 9]\n",
            "[-18, -17, -7, -10, 3, -2, 32, 23, 15, 31]\n",
            "[-14, -5, 7, -27, 29, 24, 16, -27, 25, -19]\n",
            "[-21, 9, -11, 24, 16, -6, 0, -32, 25, 32]\n",
            "[5, 7, -9, -1, 5, 17, -2, 17, -24, -9]\n",
            "[30, -18, -1, -31, 30, -6, 23, -27, 7, -13]\n",
            "[-18, -22, -20, -9, 23, 28, -30, -2, -5, -18]\n",
            "Resultado secuencial:\n",
            "[-1205, 2, -64, -618, 430, -40, 1709, 286, 1182, 1500]\n",
            "[194, -1057, -43, 605, -1890, -221, -1046, 1150, 746, 196]\n",
            "[-148, 1257, 21, 483, 1738, 1290, -503, -3655, 342, -598]\n",
            "[789, -1738, -1408, -1487, 2324, 272, 65, 236, -1469, -1355]\n",
            "[-482, 899, 422, 742, -1438, -192, 1169, 557, 676, 1971]\n",
            "[484, -618, 845, -973, -339, 891, 886, 75, 904, -1414]\n",
            "[398, 76, -222, -256, 1295, 104, 1059, -1640, -98, 96]\n",
            "[-344, 351, 1227, -238, -1725, 916, -1499, 837, 470, -1331]\n",
            "[-1271, -215, -1085, -511, 3239, 1435, 425, -2822, 779, 146]\n",
            "[553, 40, 462, 587, -2388, 254, -1221, 2611, -1495, -866]\n",
            "Resultado concurrente:\n",
            "[-1205, 2, -64, -618, 430, -40, 1709, 286, 1182, 1500]\n",
            "[194, -1057, -43, 605, -1890, -221, -1046, 1150, 746, 196]\n",
            "[-148, 1257, 21, 483, 1738, 1290, -503, -3655, 342, -598]\n",
            "[789, -1738, -1408, -1487, 2324, 272, 65, 236, -1469, -1355]\n",
            "[-482, 899, 422, 742, -1438, -192, 1169, 557, 676, 1971]\n",
            "[484, -618, 845, -973, -339, 891, 886, 75, 904, -1414]\n",
            "[398, 76, -222, -256, 1295, 104, 1059, -1640, -98, 96]\n",
            "[-344, 351, 1227, -238, -1725, 916, -1499, 837, 470, -1331]\n",
            "[-1271, -215, -1085, -511, 3239, 1435, 425, -2822, 779, 146]\n",
            "[553, 40, 462, 587, -2388, 254, -1221, 2611, -1495, -866]\n"
          ]
        }
      ]
    }
  ]
}