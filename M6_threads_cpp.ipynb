{
  "nbformat": 4,
  "nbformat_minor": 0,
  "metadata": {
    "colab": {
      "provenance": [],
      "include_colab_link": true
    },
    "kernelspec": {
      "name": "python3",
      "display_name": "Python 3"
    },
    "language_info": {
      "name": "python"
    }
  },
  "cells": [
    {
      "cell_type": "markdown",
      "metadata": {
        "id": "view-in-github",
        "colab_type": "text"
      },
      "source": [
        "<a href=\"https://colab.research.google.com/github/Gonzalo-Messina/Programacion-Concurrente/blob/main/M6_threads_cpp.ipynb\" target=\"_parent\"><img src=\"https://colab.research.google.com/assets/colab-badge.svg\" alt=\"Open In Colab\"/></a>"
      ]
    },
    {
      "cell_type": "markdown",
      "source": [
        "#Ejemplo threads en C++"
      ],
      "metadata": {
        "id": "TOsUVvIzVwEp"
      }
    },
    {
      "cell_type": "code",
      "source": [
        "%%writefile threads.cpp\n",
        "#include <iostream>\n",
        "#include <vector>\n",
        "#include <random>\n",
        "#include <thread>\n",
        "\n",
        "std::vector<std::vector<int>> generate_random_matrix(int N, int min_value, int max_value) \n",
        "{\n",
        "    //Generamos un numero realmente aleatorio con el hardware del dispositivo\n",
        "    std::vector<std::vector<int>> matrix(N, std::vector<int>(N));\n",
        "    std::random_device rd;\n",
        "    std::mt19937 gen(rd());\n",
        "    std::uniform_int_distribution<> dis(min_value, max_value);\n",
        "    for (int i = 0; i < N; i++) {\n",
        "        for (int j = 0; j < N; j++) {\n",
        "            matrix[i][j] = dis(gen);\n",
        "        }\n",
        "    }\n",
        "    return matrix;\n",
        "}\n",
        "\n",
        "std::vector<std::vector<int>> matrix_multiplication(const std::vector<std::vector<int>>& matrixA, const std::vector<std::vector<int>>& matrixB) \n",
        "{\n",
        "    //Algoritmo estandar para multiplicar secuencialmente dos matrices\n",
        "    int N = matrixA.size();\n",
        "    std::vector<std::vector<int>> result(N, std::vector<int>(N));\n",
        "    for (int i = 0; i < N; i++) {\n",
        "        for (int j = 0; j < N; j++) {\n",
        "            int sum = 0;\n",
        "            for (int k = 0; k < N; k++) {\n",
        "                sum += matrixA[i][k] * matrixB[k][j];\n",
        "            }\n",
        "            result[i][j] = sum;\n",
        "        }\n",
        "    }\n",
        "    return result;\n",
        "}\n",
        "\n",
        "std::vector<std::vector<int>> concurrent_matrix_multiplication(const std::vector<std::vector<int>>& matrixA, const std::vector<std::vector<int>>& matrixB) \n",
        "{\n",
        "    //Inicializamos las variables\n",
        "    int N = matrixA.size();\n",
        "    std::vector<std::thread> threads;\n",
        "    std::vector<std::vector<int>> result(N, std::vector<int>(N));\n",
        "\n",
        "    //Guardamos una funcion anonima en calculate_row que puede acceder a N y recibe un row_index.\n",
        "    // Esta funcion sera usada en los threads, y acceder a N es seguro en este contexto puesto que es solo lectura.\n",
        "    auto calculate_row = [&](int row_index) {\n",
        "        for (int j = 0; j < N; j++) {\n",
        "            int sum = 0;\n",
        "            for (int k = 0; k < N; k++) {\n",
        "                sum += matrixA[row_index][k] * matrixB[k][j];\n",
        "            }\n",
        "            result[row_index][j] = sum;\n",
        "        }\n",
        "    };\n",
        "\n",
        "    for (int i = 0; i < N; i++) {\n",
        "        //Construimos el objeto y lo insertamos al final del vector. El hilo inicia inmediatamente despues de creado el objeto\n",
        "        threads.emplace_back(calculate_row, i);\n",
        "    }\n",
        "\n",
        "    //Esperamos a que todos los hilos terminen antes de devolver el resultado\n",
        "    for (auto& t : threads) {\n",
        "        t.join();\n",
        "    }\n",
        "    return result;\n",
        "}\n",
        "\n",
        "void print_matrix(const std::vector<std::vector<int>>& matrix) \n",
        "{\n",
        "    for (const auto& row : matrix) {\n",
        "        std::cout << \"| \";\n",
        "        for (int x : row) {\n",
        "            std::cout << x << \" |  \";\n",
        "        }\n",
        "        std::cout << '\\n';\n",
        "    }\n",
        "}\n",
        "\n",
        "int parse_arguments(int argc, char* argv[]) \n",
        "{\n",
        "    if (argc != 2) {\n",
        "        std::cerr << \"Uso: \" << argv[0] << \" N\\n\";\n",
        "        return 1;\n",
        "    }\n",
        "    int N = std::stoi(argv[1]);\n",
        "    if (N < 5 || N > 20) {\n",
        "        std::cerr << \"N debe estar entre 5 y 20\\n\";\n",
        "        return 1;\n",
        "    }\n",
        "    return N;\n",
        "}\n",
        "\n",
        "int main(int argc, char* argv[]) \n",
        "{\n",
        "    int N = parse_arguments(argc, argv);\n",
        "\n",
        "    constexpr int MIN_VALUE = -32;\n",
        "    constexpr int MAX_VALUE = 32;\n",
        "\n",
        "    auto matrixA = generate_random_matrix(N, MIN_VALUE, MAX_VALUE);\n",
        "    auto matrixB = generate_random_matrix(N, MIN_VALUE, MAX_VALUE);\n",
        "\n",
        "    auto sequential_result = matrix_multiplication(matrixA, matrixB);\n",
        "    auto concurrent_result = concurrent_matrix_multiplication(matrixA, matrixB);\n",
        "\n",
        "    if (sequential_result == concurrent_result) {\n",
        "        std::cout << \"Matrix A:\\n\";\n",
        "        print_matrix(matrixA);\n",
        "        std::cout << \"Matrix B:\\n\";\n",
        "        print_matrix(matrixB);\n",
        "        std::cout << \"Resultado secuencial:\\n\";\n",
        "        print_matrix(sequential_result);\n",
        "        std::cout << \"Resultado concurrente:\\n\";\n",
        "        print_matrix(concurrent_result);\n",
        "    } else {\n",
        "        std::cout << \"Las dos matrices no dieron igual!!\\n\";\n",
        "    }\n",
        "}"
      ],
      "metadata": {
        "colab": {
          "base_uri": "https://localhost:8080/"
        },
        "id": "xDgOaUhJrm7t",
        "outputId": "3b9c0f12-fc4f-405f-8601-badc9bdd8522"
      },
      "execution_count": null,
      "outputs": [
        {
          "output_type": "stream",
          "name": "stdout",
          "text": [
            "Overwriting threads.cpp\n"
          ]
        }
      ]
    },
    {
      "cell_type": "code",
      "source": [
        "!g++ -std=c++11 -pthread threads.cpp -o program"
      ],
      "metadata": {
        "id": "ABIOXk1Rrr6Y"
      },
      "execution_count": null,
      "outputs": []
    },
    {
      "cell_type": "code",
      "source": [
        "!./program 5"
      ],
      "metadata": {
        "colab": {
          "base_uri": "https://localhost:8080/"
        },
        "id": "Hp4SjZ6ertJF",
        "outputId": "cb85d66d-9edb-4c06-ce75-234a52538e23"
      },
      "execution_count": null,
      "outputs": [
        {
          "output_type": "stream",
          "name": "stdout",
          "text": [
            "Matrix A:\n",
            "| 27 |  -23 |  -16 |  28 |  1 |  \n",
            "| -31 |  27 |  28 |  28 |  28 |  \n",
            "| 20 |  -15 |  -30 |  -4 |  15 |  \n",
            "| 11 |  -12 |  -18 |  -6 |  -14 |  \n",
            "| 3 |  21 |  -31 |  -5 |  18 |  \n",
            "Matrix B:\n",
            "| 22 |  30 |  23 |  -28 |  29 |  \n",
            "| 21 |  4 |  -9 |  24 |  2 |  \n",
            "| -8 |  -15 |  2 |  -24 |  -24 |  \n",
            "| -31 |  28 |  -31 |  -3 |  13 |  \n",
            "| -7 |  -16 |  24 |  31 |  14 |  \n",
            "Resultado secuencial:\n",
            "| -636 |  1726 |  -48 |  -977 |  1499 |  \n",
            "| -1403 |  -906 |  -1096 |  1628 |  -761 |  \n",
            "| 384 |  638 |  1019 |  277 |  1428 |  \n",
            "| 418 |  608 |  175 |  -580 |  453 |  \n",
            "| 784 |  211 |  405 |  1737 |  1060 |  \n",
            "Resultado concurrente:\n",
            "| -636 |  1726 |  -48 |  -977 |  1499 |  \n",
            "| -1403 |  -906 |  -1096 |  1628 |  -761 |  \n",
            "| 384 |  638 |  1019 |  277 |  1428 |  \n",
            "| 418 |  608 |  175 |  -580 |  453 |  \n",
            "| 784 |  211 |  405 |  1737 |  1060 |  \n"
          ]
        }
      ]
    }
  ]
}