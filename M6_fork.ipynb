{
  "nbformat": 4,
  "nbformat_minor": 0,
  "metadata": {
    "colab": {
      "provenance": [],
      "collapsed_sections": [
        "FqhM64fZwaO8"
      ]
    },
    "kernelspec": {
      "name": "python3",
      "display_name": "Python 3"
    },
    "language_info": {
      "name": "python"
    }
  },
  "cells": [
    {
      "cell_type": "code",
      "execution_count": null,
      "metadata": {
        "colab": {
          "base_uri": "https://localhost:8080/"
        },
        "id": "qJC7eD6oy4-G",
        "outputId": "7d4367ca-174d-4c7f-ebc3-d853745ee6a3"
      },
      "outputs": [
        {
          "output_type": "stream",
          "name": "stdout",
          "text": [
            "Writing M6_fork.cpp\n"
          ]
        }
      ],
      "source": [
        "%%writefile M6_fork.cpp\n",
        "#include <stdio.h>\n",
        "#include <unistd.h>\n",
        "#include <stdlib.h>\n",
        "#include <sys/wait.h>\n",
        "#include <iostream>\n",
        "using namespace std;\n",
        "\n",
        "int main()\n",
        "{\n",
        "  pid_t pid_A, pid_B, pid_C, pid_D, pid_E, pid_F, pid_G;\n",
        "\n",
        "  pid_A = getpid();\n",
        "  cout << endl << \"Proceso A - PID: \" << pid_A << endl;\n",
        "\n",
        "  pid_B = fork();\n",
        "  if (pid_B == 0) \n",
        "  {\n",
        "    pid_E = fork();\n",
        "    if (pid_E == 0) \n",
        "    {\n",
        "        cout << \"Proceso E - PID: \" << getpid() << \" - PID padre: \" << getppid() << endl;\n",
        "    } \n",
        "    else \n",
        "    {\n",
        "      pid_F = fork();\n",
        "      if (pid_F == 0) \n",
        "      {\n",
        "          cout << \"Proceso F - PID: \" << getpid() << \" - PID padre: \" << getppid() << endl;\n",
        "\n",
        "      }\n",
        "      else \n",
        "      {\n",
        "          cout << \"Proceso B - PID: \" << getpid() << \" - PID padre: \" << getppid() << endl;\n",
        "          wait(NULL);\n",
        "          wait(NULL);\n",
        "      }\n",
        "    }\n",
        "  } \n",
        "  else \n",
        "  {\n",
        "    pid_C = fork();      \n",
        "    if (pid_C == 0) {\n",
        "        cout << \"Proceso C - PID: \" << getpid() << \" - PID padre: \" << getppid() << endl;\n",
        "    } \n",
        "    else \n",
        "    {          \n",
        "      pid_D = fork();\n",
        "      if (pid_D == 0) \n",
        "      {\n",
        "          pid_G = fork();\n",
        "          if (pid_G == 0) \n",
        "          {\n",
        "              cout << \"Proceso G - PID: \" << getpid() << \" - PID padre: \" << getppid() << endl;\n",
        "    \n",
        "          } \n",
        "          else \n",
        "          {\n",
        "              cout << \"Proceso D - PID: \" << getpid() << \" - PID padre: \" << getppid() << endl;\n",
        "              wait(NULL);\n",
        "          }\n",
        "      } \n",
        "      else \n",
        "      {\n",
        "          wait(NULL);\n",
        "          wait(NULL);\n",
        "          wait(NULL);\n",
        "      }\n",
        "    }\n",
        "  }\n",
        "  sleep(20);\n",
        "  return 0;\n",
        "}"
      ]
    },
    {
      "cell_type": "code",
      "source": [
        "!g++ M6_fork.cpp -o M6_fork"
      ],
      "metadata": {
        "id": "m4DLwY8n0-4O"
      },
      "execution_count": null,
      "outputs": []
    },
    {
      "cell_type": "code",
      "source": [
        "!ls -l"
      ],
      "metadata": {
        "colab": {
          "base_uri": "https://localhost:8080/"
        },
        "id": "KA4ubOb61--_",
        "outputId": "ce17f0ba-b365-4bea-de26-3b3b51f16992"
      },
      "execution_count": null,
      "outputs": [
        {
          "output_type": "stream",
          "name": "stdout",
          "text": [
            "total 28\n",
            "-rwxr-xr-x 1 root root 17584 Apr  9 11:10 \u001b[0m\u001b[01;32mM6_fork\u001b[0m*\n",
            "-rw-r--r-- 1 root root  1518 Apr  9 11:09 M6_fork.cpp\n",
            "drwxr-xr-x 1 root root  4096 Apr  6 13:39 \u001b[01;34msample_data\u001b[0m/\n"
          ]
        }
      ]
    },
    {
      "cell_type": "code",
      "source": [
        "!nohup ./M6_fork 1>salida-fork 2>/dev/null & "
      ],
      "metadata": {
        "id": "ArS2qzeL2CSe"
      },
      "execution_count": null,
      "outputs": []
    },
    {
      "cell_type": "code",
      "source": [
        "!ps -ef | grep M6_fork"
      ],
      "metadata": {
        "id": "Lo0GkWSu2gJH",
        "colab": {
          "base_uri": "https://localhost:8080/"
        },
        "outputId": "503827b9-82e1-4a53-f517-297babef187a"
      },
      "execution_count": null,
      "outputs": [
        {
          "output_type": "stream",
          "name": "stdout",
          "text": [
            "root        5412       1  0 11:10 ?        00:00:00 ./M6_fork\n",
            "root        5413    5412  0 11:10 ?        00:00:00 ./M6_fork\n",
            "root        5414    5412  0 11:10 ?        00:00:00 ./M6_fork\n",
            "root        5415    5412  0 11:10 ?        00:00:00 ./M6_fork\n",
            "root        5416    5413  0 11:10 ?        00:00:00 ./M6_fork\n",
            "root        5417    5413  0 11:10 ?        00:00:00 ./M6_fork\n",
            "root        5418    5415  0 11:10 ?        00:00:00 ./M6_fork\n",
            "root        5431    5075  0 11:10 ?        00:00:00 /bin/bash -c ps -ef | grep M6_fork\n",
            "root        5433    5431  0 11:10 ?        00:00:00 grep M6_fork\n"
          ]
        }
      ]
    },
    {
      "cell_type": "code",
      "source": [
        "!pstree -pc 5412"
      ],
      "metadata": {
        "colab": {
          "base_uri": "https://localhost:8080/"
        },
        "id": "GaMJgxN5tdfv",
        "outputId": "c826cdb4-484a-4b96-e746-85d7173e34ff"
      },
      "execution_count": null,
      "outputs": [
        {
          "output_type": "stream",
          "name": "stdout",
          "text": [
            "M6_fork(5412)─┬─M6_fork(5413)─┬─M6_fork(5416)\n",
            "              │               └─M6_fork(5417)\n",
            "              ├─M6_fork(5414)\n",
            "              └─M6_fork(5415)───M6_fork(5418)\n"
          ]
        }
      ]
    },
    {
      "cell_type": "code",
      "source": [
        "!vi salida-fork"
      ],
      "metadata": {
        "id": "v9dqBfYt2Lsk",
        "colab": {
          "base_uri": "https://localhost:8080/"
        },
        "outputId": "9db6fac3-82c4-44a2-d3c9-64f6d2587a37"
      },
      "execution_count": null,
      "outputs": [
        {
          "output_type": "stream",
          "name": "stdout",
          "text": [
            "\u001b7\u001b[?47h\u001b[>4;2m\u001b[?1h\u001b=\u001b[?2004h\u001b[1;24r\u001b[?12h\u001b[?12l\u001b[22;2t\u001b[22;1t\u001b[29m\u001b[m\u001b[H\u001b[2J\u001b[?25l\u001b[24;1H\"salida-fork\" 8L, 263C\u001b[2;1H▽\u001b[6n\u001b[2;1H  \u001b[1;1H\u001b[>c\u001b]10;?\u0007\u001b]11;?\u0007\u001b[2;1HProceso A - PID: 5412\r\n",
            "Proceso C - PID: 5414 - PID padre: 5412\r\n",
            "Proceso B - PID: 5413 - PID padre: 5412\r\n",
            "Proceso G - PID: 5418 - PID padre: 5415\r\n",
            "Proceso D - PID: 5415 - PID padre: 5412\r\n",
            "Proceso E - PID: 5416 - PID padre: 5413\r\n",
            "Proceso F - PID: 5417 - PID padre: 5413\n",
            "\u001b[1m\u001b[34m~                                                                               \u001b[10;1H~                                                                               \u001b[11;1H~                                                                               \u001b[12;1H~                                                                               \u001b[13;1H~                                                                               \u001b[14;1H~                                                                               \u001b[15;1H~                                                                               \u001b[16;1H~                                                                               \u001b[17;1H~                                                                               \u001b[18;1H~                                                                               \u001b[19;1H~                                                                               \u001b[20;1H~                                                                               \u001b[21;1H~                                                                               \u001b[22;1H~                                                                               \u001b[23;1H~                                                                               \u001b[m\u001b[24;63H1,0-1\u001b[9CAll\u001b[1;1H\u001b[?25h\u001b[24;1H\u001b[?2004l\u001b[?1l\u001b>\u001b[>4;m\u001b[2J\u001b[?47l\u001b8Vim: Caught deadly signal TERM\n",
            "Vim: Finished.\n",
            "\u001b[24;1H\u001b[23;2t\u001b[23;1t\n",
            "^C\n"
          ]
        }
      ]
    },
    {
      "cell_type": "code",
      "source": [
        "!rm salida*"
      ],
      "metadata": {
        "id": "GNg597rHyh5R"
      },
      "execution_count": null,
      "outputs": []
    },
    {
      "cell_type": "markdown",
      "source": [
        "# Ejemplo con Python"
      ],
      "metadata": {
        "id": "4TA50dImvJFF"
      }
    },
    {
      "cell_type": "code",
      "source": [
        "%%writefile fork.py\n",
        "import os\n",
        "from time import sleep\n",
        "\n",
        "pid_A = os.getpid()\n",
        "print(f\"\\nProceso A - PID: {pid_A}\")\n",
        "\n",
        "pid_B = os.fork()\n",
        "if pid_B == 0:\n",
        "    pid_E = os.fork()\n",
        "    if pid_E == 0:\n",
        "        print(f\"Proceso E - PID: {os.getpid()} - PID padre: {os.getppid()}\")\n",
        "    else:\n",
        "        pid_F = os.fork()\n",
        "        if pid_F == 0:\n",
        "            print(f\"Proceso F - PID: {os.getpid()} - PID padre: {os.getppid()}\")\n",
        "        else:\n",
        "            print(f\"Proceso B - PID: {os.getpid()} - PID padre: {os.getppid()}\")\n",
        "            os.wait()\n",
        "            os.wait()\n",
        "else:\n",
        "    pid_C = os.fork()\n",
        "    if pid_C == 0:\n",
        "        print(f\"Proceso C - PID: {os.getpid()} - PID padre: {os.getppid()}\")\n",
        "    else:\n",
        "        pid_D = os.fork()\n",
        "        if pid_D == 0:\n",
        "            pid_G = os.fork()\n",
        "            if pid_G == 0:\n",
        "                print(f\"Proceso G - PID: {os.getpid()} - PID padre: {os.getppid()}\")\n",
        "            else:\n",
        "                print(f\"Proceso D - PID: {os.getpid()} - PID padre: {os.getppid()}\")\n",
        "                os.wait()\n",
        "        else:\n",
        "            os.wait()\n",
        "            os.wait()\n",
        "            os.wait()\n",
        "\n",
        "sleep(20)"
      ],
      "metadata": {
        "colab": {
          "base_uri": "https://localhost:8080/"
        },
        "id": "U2QYGJwvucR1",
        "outputId": "1c7d485d-dea8-4b9c-fec8-ec493c9ddece"
      },
      "execution_count": null,
      "outputs": [
        {
          "output_type": "stream",
          "name": "stdout",
          "text": [
            "Writing fork.py\n"
          ]
        }
      ]
    },
    {
      "cell_type": "code",
      "source": [
        "!nohup python ./fork.py 1>salida-fork 2>/dev/null & "
      ],
      "metadata": {
        "id": "vxnsH1CzvM8v"
      },
      "execution_count": null,
      "outputs": []
    },
    {
      "cell_type": "code",
      "source": [
        "!ps -ef | grep fork.py"
      ],
      "metadata": {
        "colab": {
          "base_uri": "https://localhost:8080/"
        },
        "id": "3i2WewbevTSf",
        "outputId": "649aee26-7e26-444a-f7a2-06e99e3b8bd2"
      },
      "execution_count": null,
      "outputs": [
        {
          "output_type": "stream",
          "name": "stdout",
          "text": [
            "root        7631       1  1 11:18 ?        00:00:00 python3 ./fork.py\n",
            "root        7633    7631  0 11:18 ?        00:00:00 python3 ./fork.py\n",
            "root        7634    7631  0 11:18 ?        00:00:00 python3 ./fork.py\n",
            "root        7635    7633  0 11:18 ?        00:00:00 python3 ./fork.py\n",
            "root        7636    7631  0 11:18 ?        00:00:00 python3 ./fork.py\n",
            "root        7637    7633  0 11:18 ?        00:00:00 python3 ./fork.py\n",
            "root        7638    7636  0 11:18 ?        00:00:00 python3 ./fork.py\n",
            "root        7649    6710  0 11:18 ?        00:00:00 /bin/bash -c ps -ef | grep fork.py\n",
            "root        7651    7649  0 11:18 ?        00:00:00 grep fork.py\n"
          ]
        }
      ]
    },
    {
      "cell_type": "code",
      "source": [
        "!pstree -pc 7631"
      ],
      "metadata": {
        "colab": {
          "base_uri": "https://localhost:8080/"
        },
        "id": "wqqXB_NKvXtQ",
        "outputId": "0196cd33-a2ae-4946-c093-0fff3bf577d4"
      },
      "execution_count": null,
      "outputs": [
        {
          "output_type": "stream",
          "name": "stdout",
          "text": [
            "python3(7631)─┬─python3(7633)─┬─python3(7635)\n",
            "              │               └─python3(7637)\n",
            "              ├─python3(7634)\n",
            "              └─python3(7636)───python3(7638)\n"
          ]
        }
      ]
    },
    {
      "cell_type": "markdown",
      "source": [
        "# Mismo ejemplo en Java\n",
        "\n",
        "Dado que en Java se usa la clase ProcessBuilder() para crear otro proceso pesado, y esta ejecuta un programa, no se tiene una relación exacta al comportamiento del \"fork()\" en C o Python.\n",
        "En este caso creamos un archivo por cada nodo el cual contiene el codigo para instanciar los procesos hijos"
      ],
      "metadata": {
        "id": "FqhM64fZwaO8"
      }
    },
    {
      "cell_type": "code",
      "source": [
        "%%writefile A.java\n",
        "import java.io.IOException;\n",
        "\n",
        "public class A {\n",
        "  //Instanciamos B, C, D y esperamos 20 segundos\n",
        "  public static void main(String[] args) throws IOException, InterruptedException {\n",
        "    int pid = Integer.parseInt(java.lang.management.ManagementFactory.getRuntimeMXBean().getName().split(\"@\")[0]);\n",
        "    System.out.println(\"Proceso A, PID: \" + pid);\n",
        "\n",
        "    ProcessBuilder pbB = new ProcessBuilder(\"java\", \"B\");\n",
        "    pbB.inheritIO();\n",
        "    Process B = pbB.start();\n",
        "        \n",
        "    ProcessBuilder pbC = new ProcessBuilder(\"java\", \"C\");\n",
        "    pbC.inheritIO();\n",
        "    Process C = pbC.start();\n",
        "\n",
        "\n",
        "    ProcessBuilder pbD = new ProcessBuilder(\"java\", \"D\");\n",
        "    pbD.inheritIO();\n",
        "    Process D = pbD.start();\n",
        "        \n",
        "    B.waitFor();\n",
        "    C.waitFor();\n",
        "    D.waitFor();\n",
        "    Thread.sleep(20000);\n",
        "  }\n",
        "}"
      ],
      "metadata": {
        "colab": {
          "base_uri": "https://localhost:8080/"
        },
        "id": "La4Mbjlbwcev",
        "outputId": "53163def-0950-47b7-f027-1c8c6052c4e3"
      },
      "execution_count": null,
      "outputs": [
        {
          "output_type": "stream",
          "name": "stdout",
          "text": [
            "Overwriting A.java\n"
          ]
        }
      ]
    },
    {
      "cell_type": "code",
      "source": [
        "%%writefile B.java\n",
        "import java.io.IOException;\n",
        "\n",
        "public class B {\n",
        "  //Instanciamos procesos E y F, luego esperamos 20 segundos.\n",
        "  public static void main(String[] args) throws IOException, InterruptedException {\n",
        "    int pid = Integer.parseInt(java.lang.management.ManagementFactory.getRuntimeMXBean().getName().split(\"@\")[0]);\n",
        "    System.out.println(\"Proceso B, PID: \" + pid);\n",
        "\n",
        "    ProcessBuilder pbE = new ProcessBuilder(\"java\", \"E\");\n",
        "    pbE.inheritIO();\n",
        "    Process E = pbE.start();\n",
        "\n",
        "    ProcessBuilder pbF = new ProcessBuilder(\"java\", \"F\");\n",
        "    pbF.inheritIO();\n",
        "    Process F = pbF.start();\n",
        "      \n",
        "    E.waitFor();\n",
        "    F.waitFor();\n",
        "    Thread.sleep(20000);\n",
        "  } \n",
        "}"
      ],
      "metadata": {
        "colab": {
          "base_uri": "https://localhost:8080/"
        },
        "id": "XA_p0ND70OKT",
        "outputId": "3a917695-34bd-4a20-b814-2c050e0fa9c7"
      },
      "execution_count": null,
      "outputs": [
        {
          "output_type": "stream",
          "name": "stdout",
          "text": [
            "Overwriting B.java\n"
          ]
        }
      ]
    },
    {
      "cell_type": "code",
      "source": [
        "%%writefile E.java\n",
        "import java.io.IOException;\n",
        "\n",
        "public class E {\n",
        "  public static void main(String[] args) throws IOException, InterruptedException {\n",
        "    int pid = Integer.parseInt(java.lang.management.ManagementFactory.getRuntimeMXBean().getName().split(\"@\")[0]);\n",
        "    System.out.println(\"Proceso E, PID: \" + pid);\n",
        "\n",
        "    //Proceso hoja, no hace nada, solo esperamos para que se pueda visualizar.\n",
        "    Thread.sleep(20000);\n",
        "  } \n",
        "}"
      ],
      "metadata": {
        "colab": {
          "base_uri": "https://localhost:8080/"
        },
        "id": "mIQh-OV-11kW",
        "outputId": "24fdc8a8-9921-406a-8f80-838c1d93b686"
      },
      "execution_count": null,
      "outputs": [
        {
          "output_type": "stream",
          "name": "stdout",
          "text": [
            "Overwriting E.java\n"
          ]
        }
      ]
    },
    {
      "cell_type": "code",
      "source": [
        "%%writefile F.java\n",
        "import java.io.IOException;\n",
        "\n",
        "public class F {\n",
        "  public static void main(String[] args) throws IOException, InterruptedException {\n",
        "    int pid = Integer.parseInt(java.lang.management.ManagementFactory.getRuntimeMXBean().getName().split(\"@\")[0]);\n",
        "    System.out.println(\"Proceso F, PID: \" + pid);\n",
        "\n",
        "    //Proceso hoja, no hace nada, solo esperamos para que se pueda visualizar.\n",
        "    Thread.sleep(20000);\n",
        "  } \n",
        "}"
      ],
      "metadata": {
        "colab": {
          "base_uri": "https://localhost:8080/"
        },
        "id": "L1jO2uG_17Bn",
        "outputId": "053d7e1f-a4e4-4050-d717-6e01674c1773"
      },
      "execution_count": null,
      "outputs": [
        {
          "output_type": "stream",
          "name": "stdout",
          "text": [
            "Overwriting F.java\n"
          ]
        }
      ]
    },
    {
      "cell_type": "code",
      "source": [
        "%%writefile C.java\n",
        "import java.io.IOException;\n",
        "\n",
        "public class C {\n",
        "  public static void main(String[] args) throws IOException, InterruptedException {\n",
        "    int pid = Integer.parseInt(java.lang.management.ManagementFactory.getRuntimeMXBean().getName().split(\"@\")[0]);\n",
        "    System.out.println(\"Proceso C, PID: \" + pid);\n",
        "\n",
        "    //Proceso hoja, no hace nada, solo esperamos para que se pueda visualizar.\n",
        "    Thread.sleep(20000);\n",
        "  } \n",
        "}"
      ],
      "metadata": {
        "colab": {
          "base_uri": "https://localhost:8080/"
        },
        "id": "i-TSIjfM01Fg",
        "outputId": "691826cc-e87e-46df-da96-8187fcdd490e"
      },
      "execution_count": null,
      "outputs": [
        {
          "output_type": "stream",
          "name": "stdout",
          "text": [
            "Overwriting C.java\n"
          ]
        }
      ]
    },
    {
      "cell_type": "code",
      "source": [
        "%%writefile D.java\n",
        "import java.io.IOException;\n",
        "\n",
        "public class D {\n",
        "  //Instanciamos proceso G y esperamos 20 segundos.\n",
        "  public static void main(String[] args) throws IOException, InterruptedException, InterruptedException {\n",
        "    int pid = Integer.parseInt(java.lang.management.ManagementFactory.getRuntimeMXBean().getName().split(\"@\")[0]);\n",
        "    System.out.println(\"Proceso D, PID: \" + pid);\n",
        "\n",
        "    ProcessBuilder pbG = new ProcessBuilder(\"java\", \"G\");\n",
        "    pbG.inheritIO();\n",
        "    Process G = pbG.start();\n",
        "    G.waitFor();\n",
        "\n",
        "    Thread.sleep(20000);\n",
        "  } \n",
        "}\n"
      ],
      "metadata": {
        "colab": {
          "base_uri": "https://localhost:8080/"
        },
        "id": "Osiyace91M21",
        "outputId": "f0cfcab8-6686-4235-e1f7-46be9135d8af"
      },
      "execution_count": null,
      "outputs": [
        {
          "output_type": "stream",
          "name": "stdout",
          "text": [
            "Overwriting D.java\n"
          ]
        }
      ]
    },
    {
      "cell_type": "code",
      "source": [
        "%%writefile G.java\n",
        "import java.io.IOException;\n",
        "\n",
        "public class G {\n",
        "  public static void main(String[] args) throws IOException, InterruptedException {\n",
        "    int pid = Integer.parseInt(java.lang.management.ManagementFactory.getRuntimeMXBean().getName().split(\"@\")[0]);\n",
        "    System.out.println(\"Proceso G, PID: \" + pid);\n",
        "\n",
        "    //Proceso hoja no hace nada, solo esperamos para que se pueda visualizar.\n",
        "    Thread.sleep(20000);\n",
        "  } \n",
        "}"
      ],
      "metadata": {
        "colab": {
          "base_uri": "https://localhost:8080/"
        },
        "id": "lnaaeyMc1ZmO",
        "outputId": "ab7519a2-9864-46a6-98f3-fabf87f8836c"
      },
      "execution_count": null,
      "outputs": [
        {
          "output_type": "stream",
          "name": "stdout",
          "text": [
            "Overwriting G.java\n"
          ]
        }
      ]
    },
    {
      "cell_type": "code",
      "source": [
        "!javac A.java && javac B.java && javac C.java && javac D.java && javac E.java && javac F.java && javac G.java"
      ],
      "metadata": {
        "id": "70BdGEViwhXm"
      },
      "execution_count": null,
      "outputs": []
    },
    {
      "cell_type": "code",
      "source": [
        "!nohup java A 1>salida-fork 2>/dev/null & "
      ],
      "metadata": {
        "id": "xeM_W5UwwiZj"
      },
      "execution_count": null,
      "outputs": []
    },
    {
      "cell_type": "code",
      "source": [
        "!ps -ef | grep A"
      ],
      "metadata": {
        "colab": {
          "base_uri": "https://localhost:8080/"
        },
        "id": "qUGtP2ibxq0k",
        "outputId": "dad3fe33-c50e-4e38-ed35-35cb81cb29ed"
      },
      "execution_count": null,
      "outputs": [
        {
          "output_type": "stream",
          "name": "stdout",
          "text": [
            "root       26082       1 14 12:18 ?        00:00:00 java A\n",
            "root       26221    6710  0 12:18 ?        00:00:00 /bin/bash -c ps -ef | grep A\n",
            "root       26223   26221  0 12:18 ?        00:00:00 grep A\n"
          ]
        }
      ]
    },
    {
      "cell_type": "markdown",
      "source": [
        "Pareciera que cada proceso en Java levanta muchos subprocesos en si mismo, asumimos que por la VM. Esto hace que en el arbol de pstree aparezcan muchos más procesos que los que generamos nosotros. Aún así, se puede hacer un seguimiento mapeando los PID del output de los procesos"
      ],
      "metadata": {
        "id": "9GsDKlVh8CvL"
      }
    },
    {
      "cell_type": "code",
      "source": [
        "!cat  salida-fork"
      ],
      "metadata": {
        "colab": {
          "base_uri": "https://localhost:8080/"
        },
        "id": "0Ze-iGnD8UG1",
        "outputId": "dc519efb-e371-4d8c-8ed8-896ce1c49f8b"
      },
      "execution_count": null,
      "outputs": [
        {
          "output_type": "stream",
          "name": "stdout",
          "text": [
            "Proceso A, PID: 25680\n",
            "Proceso B, PID: 25697\n",
            "Proceso D, PID: 25706\n",
            "Proceso C, PID: 25699\n",
            "Proceso E, PID: 25755\n",
            "Proceso G, PID: 25756\n",
            "Proceso F, PID: 25762\n"
          ]
        }
      ]
    },
    {
      "cell_type": "code",
      "source": [
        "!pstree -pc 26082       "
      ],
      "metadata": {
        "colab": {
          "base_uri": "https://localhost:8080/"
        },
        "id": "yDWigMh7xy_J",
        "outputId": "b9499263-43fd-4b74-da4a-ece76d59b1ea"
      },
      "execution_count": null,
      "outputs": [
        {
          "output_type": "stream",
          "name": "stdout",
          "text": [
            "java(26082)─┬─java(26103)─┬─java(26157)─┬─{java}(26158)\n",
            "            │             │             ├─{java}(26162)\n",
            "            │             │             ├─{java}(26164)\n",
            "            │             │             ├─{java}(26166)\n",
            "            │             │             ├─{java}(26167)\n",
            "            │             │             ├─{java}(26168)\n",
            "            │             │             ├─{java}(26174)\n",
            "            │             │             ├─{java}(26175)\n",
            "            │             │             ├─{java}(26176)\n",
            "            │             │             ├─{java}(26178)\n",
            "            │             │             ├─{java}(26179)\n",
            "            │             │             ├─{java}(26180)\n",
            "            │             │             ├─{java}(26181)\n",
            "            │             │             ├─{java}(26183)\n",
            "            │             │             ├─{java}(26189)\n",
            "            │             │             └─{java}(26190)\n",
            "            │             ├─java(26160)─┬─{java}(26163)\n",
            "            │             │             ├─{java}(26165)\n",
            "            │             │             ├─{java}(26169)\n",
            "            │             │             ├─{java}(26170)\n",
            "            │             │             ├─{java}(26171)\n",
            "            │             │             ├─{java}(26172)\n",
            "            │             │             ├─{java}(26173)\n",
            "            │             │             ├─{java}(26177)\n",
            "            │             │             ├─{java}(26182)\n",
            "            │             │             ├─{java}(26184)\n",
            "            │             │             ├─{java}(26185)\n",
            "            │             │             ├─{java}(26186)\n",
            "            │             │             ├─{java}(26187)\n",
            "            │             │             ├─{java}(26188)\n",
            "            │             │             ├─{java}(26192)\n",
            "            │             │             └─{java}(26194)\n",
            "            │             ├─{java}(26104)\n",
            "            │             ├─{java}(26105)\n",
            "            │             ├─{java}(26106)\n",
            "            │             ├─{java}(26107)\n",
            "            │             ├─{java}(26108)\n",
            "            │             ├─{java}(26109)\n",
            "            │             ├─{java}(26115)\n",
            "            │             ├─{java}(26118)\n",
            "            │             ├─{java}(26119)\n",
            "            │             ├─{java}(26123)\n",
            "            │             ├─{java}(26124)\n",
            "            │             ├─{java}(26126)\n",
            "            │             ├─{java}(26127)\n",
            "            │             ├─{java}(26132)\n",
            "            │             ├─{java}(26145)\n",
            "            │             ├─{java}(26152)\n",
            "            │             ├─{java}(26159)\n",
            "            │             └─{java}(26161)\n",
            "            ├─java(26111)─┬─{java}(26113)\n",
            "            │             ├─{java}(26116)\n",
            "            │             ├─{java}(26120)\n",
            "            │             ├─{java}(26121)\n",
            "            │             ├─{java}(26125)\n",
            "            │             ├─{java}(26129)\n",
            "            │             ├─{java}(26135)\n",
            "            │             ├─{java}(26137)\n",
            "            │             ├─{java}(26138)\n",
            "            │             ├─{java}(26141)\n",
            "            │             ├─{java}(26142)\n",
            "            │             ├─{java}(26143)\n",
            "            │             ├─{java}(26144)\n",
            "            │             ├─{java}(26149)\n",
            "            │             ├─{java}(26153)\n",
            "            │             └─{java}(26156)\n",
            "            ├─java(26114)─┬─java(26191)─┬─{java}(26193)\n",
            "            │             │             ├─{java}(26195)\n",
            "            │             │             ├─{java}(26196)\n",
            "            │             │             ├─{java}(26197)\n",
            "            │             │             ├─{java}(26199)\n",
            "            │             │             ├─{java}(26200)\n",
            "            │             │             ├─{java}(26201)\n",
            "            │             │             ├─{java}(26202)\n",
            "            │             │             ├─{java}(26203)\n",
            "            │             │             ├─{java}(26204)\n",
            "            │             │             ├─{java}(26209)\n",
            "            │             │             ├─{java}(26210)\n",
            "            │             │             ├─{java}(26211)\n",
            "            │             │             ├─{java}(26212)\n",
            "            │             │             ├─{java}(26213)\n",
            "            │             │             └─{java}(26214)\n",
            "            │             ├─{java}(26122)\n",
            "            │             ├─{java}(26128)\n",
            "            │             ├─{java}(26130)\n",
            "            │             ├─{java}(26131)\n",
            "            │             ├─{java}(26133)\n",
            "            │             ├─{java}(26134)\n",
            "            │             ├─{java}(26136)\n",
            "            │             ├─{java}(26139)\n",
            "            │             ├─{java}(26140)\n",
            "            │             ├─{java}(26146)\n",
            "            │             ├─{java}(26147)\n",
            "            │             ├─{java}(26148)\n",
            "            │             ├─{java}(26150)\n",
            "            │             ├─{java}(26151)\n",
            "            │             ├─{java}(26154)\n",
            "            │             ├─{java}(26155)\n",
            "            │             └─{java}(26198)\n",
            "            ├─{java}(26083)\n",
            "            ├─{java}(26084)\n",
            "            ├─{java}(26085)\n",
            "            ├─{java}(26086)\n",
            "            ├─{java}(26087)\n",
            "            ├─{java}(26088)\n",
            "            ├─{java}(26089)\n",
            "            ├─{java}(26090)\n",
            "            ├─{java}(26091)\n",
            "            ├─{java}(26092)\n",
            "            ├─{java}(26093)\n",
            "            ├─{java}(26094)\n",
            "            ├─{java}(26095)\n",
            "            ├─{java}(26096)\n",
            "            ├─{java}(26101)\n",
            "            ├─{java}(26102)\n",
            "            ├─{java}(26110)\n",
            "            ├─{java}(26112)\n",
            "            └─{java}(26117)\n"
          ]
        }
      ]
    }
  ]
}