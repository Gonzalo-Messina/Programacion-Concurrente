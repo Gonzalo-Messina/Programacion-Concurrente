{
  "nbformat": 4,
  "nbformat_minor": 0,
  "metadata": {
    "colab": {
      "provenance": [],
      "collapsed_sections": [
        "FqhM64fZwaO8"
      ],
      "include_colab_link": true
    },
    "kernelspec": {
      "name": "python3",
      "display_name": "Python 3"
    },
    "language_info": {
      "name": "python"
    }
  },
  "cells": [
    {
      "cell_type": "markdown",
      "metadata": {
        "id": "view-in-github",
        "colab_type": "text"
      },
      "source": [
        "<a href=\"https://colab.research.google.com/github/Gonzalo-Messina/Programacion-Concurrente/blob/main/M6_fork.ipynb\" target=\"_parent\"><img src=\"https://colab.research.google.com/assets/colab-badge.svg\" alt=\"Open In Colab\"/></a>"
      ]
    },
    {
      "cell_type": "code",
      "execution_count": null,
      "metadata": {
        "colab": {
          "base_uri": "https://localhost:8080/"
        },
        "id": "qJC7eD6oy4-G",
        "outputId": "7d4367ca-174d-4c7f-ebc3-d853745ee6a3"
      },
      "outputs": [
        {
          "output_type": "stream",
          "name": "stdout",
          "text": [
            "Writing M6_fork.cpp\n"
          ]
        }
      ],
      "source": [
        "%%writefile M6_fork.cpp\n",
        "#include <stdio.h>\n",
        "#include <unistd.h>\n",
        "#include <stdlib.h>\n",
        "#include <sys/wait.h>\n",
        "#include <iostream>\n",
        "using namespace std;\n",
        "\n",
        "int main()\n",
        "{\n",
        "  pid_t pid_A, pid_B, pid_C, pid_D, pid_E, pid_F, pid_G;\n",
        "\n",
        "  pid_A = getpid();\n",
        "  cout << endl << \"Proceso A - PID: \" << pid_A << endl;\n",
        "\n",
        "  pid_B = fork();\n",
        "  if (pid_B == 0) \n",
        "  {\n",
        "    pid_E = fork();\n",
        "    if (pid_E == 0) \n",
        "    {\n",
        "        cout << \"Proceso E - PID: \" << getpid() << \" - PID padre: \" << getppid() << endl;\n",
        "    } \n",
        "    else \n",
        "    {\n",
        "      pid_F = fork();\n",
        "      if (pid_F == 0) \n",
        "      {\n",
        "          cout << \"Proceso F - PID: \" << getpid() << \" - PID padre: \" << getppid() << endl;\n",
        "\n",
        "      }\n",
        "      else \n",
        "      {\n",
        "          cout << \"Proceso B - PID: \" << getpid() << \" - PID padre: \" << getppid() << endl;\n",
        "          wait(NULL);\n",
        "          wait(NULL);\n",
        "      }\n",
        "    }\n",
        "  } \n",
        "  else \n",
        "  {\n",
        "    pid_C = fork();      \n",
        "    if (pid_C == 0) {\n",
        "        cout << \"Proceso C - PID: \" << getpid() << \" - PID padre: \" << getppid() << endl;\n",
        "    } \n",
        "    else \n",
        "    {          \n",
        "      pid_D = fork();\n",
        "      if (pid_D == 0) \n",
        "      {\n",
        "          pid_G = fork();\n",
        "          if (pid_G == 0) \n",
        "          {\n",
        "              cout << \"Proceso G - PID: \" << getpid() << \" - PID padre: \" << getppid() << endl;\n",
        "    \n",
        "          } \n",
        "          else \n",
        "          {\n",
        "              cout << \"Proceso D - PID: \" << getpid() << \" - PID padre: \" << getppid() << endl;\n",
        "              wait(NULL);\n",
        "          }\n",
        "      } \n",
        "      else \n",
        "      {\n",
        "          wait(NULL);\n",
        "          wait(NULL);\n",
        "          wait(NULL);\n",
        "      }\n",
        "    }\n",
        "  }\n",
        "  sleep(20);\n",
        "  return 0;\n",
        "}"
      ]
    },
    {
      "cell_type": "code",
      "source": [
        "!g++ M6_fork.cpp -o M6_fork"
      ],
      "metadata": {
        "id": "m4DLwY8n0-4O"
      },
      "execution_count": null,
      "outputs": []
    },
    {
      "cell_type": "code",
      "source": [
        "!ls -l"
      ],
      "metadata": {
        "colab": {
          "base_uri": "https://localhost:8080/"
        },
        "id": "KA4ubOb61--_",
        "outputId": "ce17f0ba-b365-4bea-de26-3b3b51f16992"
      },
      "execution_count": null,
      "outputs": [
        {
          "output_type": "stream",
          "name": "stdout",
          "text": [
            "total 28\n",
            "-rwxr-xr-x 1 root root 17584 Apr  9 11:10 \u001b[0m\u001b[01;32mM6_fork\u001b[0m*\n",
            "-rw-r--r-- 1 root root  1518 Apr  9 11:09 M6_fork.cpp\n",
            "drwxr-xr-x 1 root root  4096 Apr  6 13:39 \u001b[01;34msample_data\u001b[0m/\n"
          ]
        }
      ]
    },
    {
      "cell_type": "code",
      "source": [
        "!nohup ./M6_fork 1>salida-fork 2>/dev/null & "
      ],
      "metadata": {
        "id": "ArS2qzeL2CSe"
      },
      "execution_count": null,
      "outputs": []
    },
    {
      "cell_type": "code",
      "source": [
        "!ps -ef | grep M6_fork"
      ],
      "metadata": {
        "id": "Lo0GkWSu2gJH",
        "colab": {
          "base_uri": "https://localhost:8080/"
        },
        "outputId": "503827b9-82e1-4a53-f517-297babef187a"
      },
      "execution_count": null,
      "outputs": [
        {
          "output_type": "stream",
          "name": "stdout",
          "text": [
            "root        5412       1  0 11:10 ?        00:00:00 ./M6_fork\n",
            "root        5413    5412  0 11:10 ?        00:00:00 ./M6_fork\n",
            "root        5414    5412  0 11:10 ?        00:00:00 ./M6_fork\n",
            "root        5415    5412  0 11:10 ?        00:00:00 ./M6_fork\n",
            "root        5416    5413  0 11:10 ?        00:00:00 ./M6_fork\n",
            "root        5417    5413  0 11:10 ?        00:00:00 ./M6_fork\n",
            "root        5418    5415  0 11:10 ?        00:00:00 ./M6_fork\n",
            "root        5431    5075  0 11:10 ?        00:00:00 /bin/bash -c ps -ef | grep M6_fork\n",
            "root        5433    5431  0 11:10 ?        00:00:00 grep M6_fork\n"
          ]
        }
      ]
    },
    {
      "cell_type": "code",
      "source": [
        "!pstree -pc 5412"
      ],
      "metadata": {
        "colab": {
          "base_uri": "https://localhost:8080/"
        },
        "id": "GaMJgxN5tdfv",
        "outputId": "c826cdb4-484a-4b96-e746-85d7173e34ff"
      },
      "execution_count": null,
      "outputs": [
        {
          "output_type": "stream",
          "name": "stdout",
          "text": [
            "M6_fork(5412)─┬─M6_fork(5413)─┬─M6_fork(5416)\n",
            "              │               └─M6_fork(5417)\n",
            "              ├─M6_fork(5414)\n",
            "              └─M6_fork(5415)───M6_fork(5418)\n"
          ]
        }
      ]
    },
    {
      "cell_type": "code",
      "source": [
        "!vi salida-fork"
      ],
      "metadata": {
        "id": "v9dqBfYt2Lsk",
        "colab": {
          "base_uri": "https://localhost:8080/"
        },
        "outputId": "9db6fac3-82c4-44a2-d3c9-64f6d2587a37"
      },
      "execution_count": null,
      "outputs": [
        {
          "output_type": "stream",
          "name": "stdout",
          "text": [
            "\u001b7\u001b[?47h\u001b[>4;2m\u001b[?1h\u001b=\u001b[?2004h\u001b[1;24r\u001b[?12h\u001b[?12l\u001b[22;2t\u001b[22;1t\u001b[29m\u001b[m\u001b[H\u001b[2J\u001b[?25l\u001b[24;1H\"salida-fork\" 8L, 263C\u001b[2;1H▽\u001b[6n\u001b[2;1H  \u001b[1;1H\u001b[>c\u001b]10;?\u0007\u001b]11;?\u0007\u001b[2;1HProceso A - PID: 5412\r\n",
            "Proceso C - PID: 5414 - PID padre: 5412\r\n",
            "Proceso B - PID: 5413 - PID padre: 5412\r\n",
            "Proceso G - PID: 5418 - PID padre: 5415\r\n",
            "Proceso D - PID: 5415 - PID padre: 5412\r\n",
            "Proceso E - PID: 5416 - PID padre: 5413\r\n",
            "Proceso F - PID: 5417 - PID padre: 5413\n",
            "\u001b[1m\u001b[34m~                                                                               \u001b[10;1H~                                                                               \u001b[11;1H~                                                                               \u001b[12;1H~                                                                               \u001b[13;1H~                                                                               \u001b[14;1H~                                                                               \u001b[15;1H~                                                                               \u001b[16;1H~                                                                               \u001b[17;1H~                                                                               \u001b[18;1H~                                                                               \u001b[19;1H~                                                                               \u001b[20;1H~                                                                               \u001b[21;1H~                                                                               \u001b[22;1H~                                                                               \u001b[23;1H~                                                                               \u001b[m\u001b[24;63H1,0-1\u001b[9CAll\u001b[1;1H\u001b[?25h\u001b[24;1H\u001b[?2004l\u001b[?1l\u001b>\u001b[>4;m\u001b[2J\u001b[?47l\u001b8Vim: Caught deadly signal TERM\n",
            "Vim: Finished.\n",
            "\u001b[24;1H\u001b[23;2t\u001b[23;1t\n",
            "^C\n"
          ]
        }
      ]
    },
    {
      "cell_type": "code",
      "source": [
        "!rm salida*"
      ],
      "metadata": {
        "id": "GNg597rHyh5R"
      },
      "execution_count": null,
      "outputs": []
    },
    {
      "cell_type": "markdown",
      "source": [
        "# Ejemplo con Python"
      ],
      "metadata": {
        "id": "4TA50dImvJFF"
      }
    },
    {
      "cell_type": "code",
      "source": [
        "%%writefile fork.py\n",
        "import os\n",
        "from time import sleep\n",
        "\n",
        "pid_A = os.getpid()\n",
        "print(f\"\\nProceso A - PID: {pid_A}\")\n",
        "\n",
        "pid_B = os.fork()\n",
        "if pid_B == 0:\n",
        "    pid_E = os.fork()\n",
        "    if pid_E == 0:\n",
        "        print(f\"Proceso E - PID: {os.getpid()} - PID padre: {os.getppid()}\")\n",
        "    else:\n",
        "        pid_F = os.fork()\n",
        "        if pid_F == 0:\n",
        "            print(f\"Proceso F - PID: {os.getpid()} - PID padre: {os.getppid()}\")\n",
        "        else:\n",
        "            print(f\"Proceso B - PID: {os.getpid()} - PID padre: {os.getppid()}\")\n",
        "            os.wait()\n",
        "            os.wait()\n",
        "else:\n",
        "    pid_C = os.fork()\n",
        "    if pid_C == 0:\n",
        "        print(f\"Proceso C - PID: {os.getpid()} - PID padre: {os.getppid()}\")\n",
        "    else:\n",
        "        pid_D = os.fork()\n",
        "        if pid_D == 0:\n",
        "            pid_G = os.fork()\n",
        "            if pid_G == 0:\n",
        "                print(f\"Proceso G - PID: {os.getpid()} - PID padre: {os.getppid()}\")\n",
        "            else:\n",
        "                print(f\"Proceso D - PID: {os.getpid()} - PID padre: {os.getppid()}\")\n",
        "                os.wait()\n",
        "        else:\n",
        "            os.wait()\n",
        "            os.wait()\n",
        "            os.wait()\n",
        "\n",
        "sleep(20)"
      ],
      "metadata": {
        "colab": {
          "base_uri": "https://localhost:8080/"
        },
        "id": "U2QYGJwvucR1",
        "outputId": "1c7d485d-dea8-4b9c-fec8-ec493c9ddece"
      },
      "execution_count": null,
      "outputs": [
        {
          "output_type": "stream",
          "name": "stdout",
          "text": [
            "Writing fork.py\n"
          ]
        }
      ]
    },
    {
      "cell_type": "code",
      "source": [
        "!nohup python ./fork.py 1>salida-fork 2>/dev/null & "
      ],
      "metadata": {
        "id": "vxnsH1CzvM8v"
      },
      "execution_count": null,
      "outputs": []
    },
    {
      "cell_type": "code",
      "source": [
        "!ps -ef | grep fork.py"
      ],
      "metadata": {
        "colab": {
          "base_uri": "https://localhost:8080/"
        },
        "id": "3i2WewbevTSf",
        "outputId": "649aee26-7e26-444a-f7a2-06e99e3b8bd2"
      },
      "execution_count": null,
      "outputs": [
        {
          "output_type": "stream",
          "name": "stdout",
          "text": [
            "root        7631       1  1 11:18 ?        00:00:00 python3 ./fork.py\n",
            "root        7633    7631  0 11:18 ?        00:00:00 python3 ./fork.py\n",
            "root        7634    7631  0 11:18 ?        00:00:00 python3 ./fork.py\n",
            "root        7635    7633  0 11:18 ?        00:00:00 python3 ./fork.py\n",
            "root        7636    7631  0 11:18 ?        00:00:00 python3 ./fork.py\n",
            "root        7637    7633  0 11:18 ?        00:00:00 python3 ./fork.py\n",
            "root        7638    7636  0 11:18 ?        00:00:00 python3 ./fork.py\n",
            "root        7649    6710  0 11:18 ?        00:00:00 /bin/bash -c ps -ef | grep fork.py\n",
            "root        7651    7649  0 11:18 ?        00:00:00 grep fork.py\n"
          ]
        }
      ]
    },
    {
      "cell_type": "code",
      "source": [
        "!pstree -pc 7631"
      ],
      "metadata": {
        "colab": {
          "base_uri": "https://localhost:8080/"
        },
        "id": "wqqXB_NKvXtQ",
        "outputId": "0196cd33-a2ae-4946-c093-0fff3bf577d4"
      },
      "execution_count": null,
      "outputs": [
        {
          "output_type": "stream",
          "name": "stdout",
          "text": [
            "python3(7631)─┬─python3(7633)─┬─python3(7635)\n",
            "              │               └─python3(7637)\n",
            "              ├─python3(7634)\n",
            "              └─python3(7636)───python3(7638)\n"
          ]
        }
      ]
    },
    {
      "cell_type": "markdown",
      "source": [
        "# Mismo ejemplo en Java\n",
        "\n",
        "Dado que en Java se usa la clase ProcessBuilder() para crear otro proceso pesado, y esta ejecuta un programa, no se tiene una relación exacta al comportamiento del \"fork()\" en C o Python.\n",
        "En este caso creamos un archivo por cada nodo el cual contiene el codigo para instanciar los procesos hijos"
      ],
      "metadata": {
        "id": "FqhM64fZwaO8"
      }
    },
    {
      "cell_type": "code",
      "source": [
        "%%writefile A.java\n",
        "import java.io.IOException;\n",
        "\n",
        "public class A \n",
        "{\n",
        "  //Instanciamos B, C, D y esperamos 20 segundos\n",
        "  public static void main(String[] args) throws IOException, InterruptedException \n",
        "  {\n",
        "    int pid = Integer.parseInt(java.lang.management.ManagementFactory.getRuntimeMXBean().getName().split(\"@\")[0]);\n",
        "    System.out.println(\"Proceso A, PID: \" + pid);\n",
        "\n",
        "    ProcessBuilder pbB = new ProcessBuilder(\"java\", \"B\");\n",
        "    pbB.inheritIO();\n",
        "    Process B = pbB.start();\n",
        "        \n",
        "    ProcessBuilder pbC = new ProcessBuilder(\"java\", \"C\");\n",
        "    pbC.inheritIO();\n",
        "    Process C = pbC.start();\n",
        "\n",
        "\n",
        "    ProcessBuilder pbD = new ProcessBuilder(\"java\", \"D\");\n",
        "    pbD.inheritIO();\n",
        "    Process D = pbD.start();\n",
        "        \n",
        "    B.waitFor();\n",
        "    C.waitFor();\n",
        "    D.waitFor();\n",
        "    Thread.sleep(20000);\n",
        "  }\n",
        "}"
      ],
      "metadata": {
        "colab": {
          "base_uri": "https://localhost:8080/"
        },
        "id": "La4Mbjlbwcev",
        "outputId": "9224ce1f-603e-4831-efd6-61ff9a9c5b0b"
      },
      "execution_count": 1,
      "outputs": [
        {
          "output_type": "stream",
          "name": "stdout",
          "text": [
            "Writing A.java\n"
          ]
        }
      ]
    },
    {
      "cell_type": "code",
      "source": [
        "%%writefile B.java\n",
        "import java.io.IOException;\n",
        "\n",
        "public class B \n",
        "{\n",
        "  //Instanciamos procesos E y F, luego esperamos 20 segundos.\n",
        "  public static void main(String[] args) throws IOException, InterruptedException \n",
        "  {\n",
        "    int pid = Integer.parseInt(java.lang.management.ManagementFactory.getRuntimeMXBean().getName().split(\"@\")[0]);\n",
        "    System.out.println(\"Proceso B, PID: \" + pid);\n",
        "\n",
        "    ProcessBuilder pbE = new ProcessBuilder(\"java\", \"E\");\n",
        "    pbE.inheritIO();\n",
        "    Process E = pbE.start();\n",
        "\n",
        "    ProcessBuilder pbF = new ProcessBuilder(\"java\", \"F\");\n",
        "    pbF.inheritIO();\n",
        "    Process F = pbF.start();\n",
        "      \n",
        "    E.waitFor();\n",
        "    F.waitFor();\n",
        "    Thread.sleep(20000);\n",
        "  } \n",
        "}"
      ],
      "metadata": {
        "colab": {
          "base_uri": "https://localhost:8080/"
        },
        "id": "XA_p0ND70OKT",
        "outputId": "4c6e5a36-4276-4449-db80-de3c851660b9"
      },
      "execution_count": 2,
      "outputs": [
        {
          "output_type": "stream",
          "name": "stdout",
          "text": [
            "Writing B.java\n"
          ]
        }
      ]
    },
    {
      "cell_type": "code",
      "source": [
        "%%writefile E.java\n",
        "import java.io.IOException;\n",
        "\n",
        "public class E \n",
        "{\n",
        "  public static void main(String[] args) throws IOException, InterruptedException \n",
        "  {\n",
        "    int pid = Integer.parseInt(java.lang.management.ManagementFactory.getRuntimeMXBean().getName().split(\"@\")[0]);\n",
        "    System.out.println(\"Proceso E, PID: \" + pid);\n",
        "\n",
        "    //Proceso hoja, no hace nada, solo esperamos para que se pueda visualizar.\n",
        "    Thread.sleep(20000);\n",
        "  } \n",
        "}"
      ],
      "metadata": {
        "colab": {
          "base_uri": "https://localhost:8080/"
        },
        "id": "mIQh-OV-11kW",
        "outputId": "9582c3e3-be3d-41ae-f2ce-35ffd53e2929"
      },
      "execution_count": 3,
      "outputs": [
        {
          "output_type": "stream",
          "name": "stdout",
          "text": [
            "Writing E.java\n"
          ]
        }
      ]
    },
    {
      "cell_type": "code",
      "source": [
        "%%writefile F.java\n",
        "import java.io.IOException;\n",
        "\n",
        "public class F \n",
        "{\n",
        "  public static void main(String[] args) throws IOException, InterruptedException \n",
        "  {\n",
        "    int pid = Integer.parseInt(java.lang.management.ManagementFactory.getRuntimeMXBean().getName().split(\"@\")[0]);\n",
        "    System.out.println(\"Proceso F, PID: \" + pid);\n",
        "\n",
        "    //Proceso hoja, no hace nada, solo esperamos para que se pueda visualizar.\n",
        "    Thread.sleep(20000);\n",
        "  } \n",
        "}"
      ],
      "metadata": {
        "colab": {
          "base_uri": "https://localhost:8080/"
        },
        "id": "L1jO2uG_17Bn",
        "outputId": "0d598544-03ad-4eb1-9605-ef371f747306"
      },
      "execution_count": 4,
      "outputs": [
        {
          "output_type": "stream",
          "name": "stdout",
          "text": [
            "Writing F.java\n"
          ]
        }
      ]
    },
    {
      "cell_type": "code",
      "source": [
        "%%writefile C.java\n",
        "import java.io.IOException;\n",
        "\n",
        "public class C \n",
        "{\n",
        "  public static void main(String[] args) throws IOException, InterruptedException \n",
        "  {\n",
        "    int pid = Integer.parseInt(java.lang.management.ManagementFactory.getRuntimeMXBean().getName().split(\"@\")[0]);\n",
        "    System.out.println(\"Proceso C, PID: \" + pid);\n",
        "\n",
        "    //Proceso hoja, no hace nada, solo esperamos para que se pueda visualizar.\n",
        "    Thread.sleep(20000);\n",
        "  } \n",
        "}"
      ],
      "metadata": {
        "colab": {
          "base_uri": "https://localhost:8080/"
        },
        "id": "i-TSIjfM01Fg",
        "outputId": "2fc09494-8a4d-430c-ce0b-190d59952f7d"
      },
      "execution_count": 5,
      "outputs": [
        {
          "output_type": "stream",
          "name": "stdout",
          "text": [
            "Writing C.java\n"
          ]
        }
      ]
    },
    {
      "cell_type": "code",
      "source": [
        "%%writefile D.java\n",
        "import java.io.IOException;\n",
        "\n",
        "public class D \n",
        "{\n",
        "  //Instanciamos proceso G y esperamos 20 segundos.\n",
        "  public static void main(String[] args) throws IOException, InterruptedException, InterruptedException \n",
        "  {\n",
        "    int pid = Integer.parseInt(java.lang.management.ManagementFactory.getRuntimeMXBean().getName().split(\"@\")[0]);\n",
        "    System.out.println(\"Proceso D, PID: \" + pid);\n",
        "\n",
        "    ProcessBuilder pbG = new ProcessBuilder(\"java\", \"G\");\n",
        "    pbG.inheritIO();\n",
        "    Process G = pbG.start();\n",
        "    G.waitFor();\n",
        "\n",
        "    Thread.sleep(20000);\n",
        "  } \n",
        "}\n"
      ],
      "metadata": {
        "colab": {
          "base_uri": "https://localhost:8080/"
        },
        "id": "Osiyace91M21",
        "outputId": "f0318d2f-d5af-4ad4-f6c5-dbe662661278"
      },
      "execution_count": 6,
      "outputs": [
        {
          "output_type": "stream",
          "name": "stdout",
          "text": [
            "Writing D.java\n"
          ]
        }
      ]
    },
    {
      "cell_type": "code",
      "source": [
        "%%writefile G.java\n",
        "import java.io.IOException;\n",
        "\n",
        "public class G \n",
        "{\n",
        "  public static void main(String[] args) throws IOException, InterruptedException \n",
        "  {\n",
        "    int pid = Integer.parseInt(java.lang.management.ManagementFactory.getRuntimeMXBean().getName().split(\"@\")[0]);\n",
        "    System.out.println(\"Proceso G, PID: \" + pid);\n",
        "\n",
        "    //Proceso hoja no hace nada, solo esperamos para que se pueda visualizar.\n",
        "    Thread.sleep(20000);\n",
        "  } \n",
        "}"
      ],
      "metadata": {
        "colab": {
          "base_uri": "https://localhost:8080/"
        },
        "id": "lnaaeyMc1ZmO",
        "outputId": "f8a31195-f23c-4df4-d69e-a57d4d91375d"
      },
      "execution_count": 7,
      "outputs": [
        {
          "output_type": "stream",
          "name": "stdout",
          "text": [
            "Writing G.java\n"
          ]
        }
      ]
    },
    {
      "cell_type": "code",
      "source": [
        "!javac A.java && javac B.java && javac C.java && javac D.java && javac E.java && javac F.java && javac G.java"
      ],
      "metadata": {
        "id": "70BdGEViwhXm"
      },
      "execution_count": 8,
      "outputs": []
    },
    {
      "cell_type": "code",
      "source": [
        "!nohup java A 1>salida-fork 2>/dev/null & "
      ],
      "metadata": {
        "id": "xeM_W5UwwiZj"
      },
      "execution_count": 9,
      "outputs": []
    },
    {
      "cell_type": "code",
      "source": [
        "!ps -ef | grep A"
      ],
      "metadata": {
        "colab": {
          "base_uri": "https://localhost:8080/"
        },
        "id": "qUGtP2ibxq0k",
        "outputId": "ef3bcefe-6803-4709-b39a-0e732a4ef137"
      },
      "execution_count": 10,
      "outputs": [
        {
          "output_type": "stream",
          "name": "stdout",
          "text": [
            "root        1621       1  9 00:30 ?        00:00:00 java A\n",
            "root        1760    1252  0 00:30 ?        00:00:00 /bin/bash -c ps -ef | grep A\n",
            "root        1762    1760  0 00:30 ?        00:00:00 grep A\n"
          ]
        }
      ]
    },
    {
      "cell_type": "markdown",
      "source": [
        "Pareciera que cada proceso en Java levanta muchos subprocesos en si mismo, asumimos que por la VM. Esto hace que en el arbol de pstree aparezcan muchos más procesos que los que generamos nosotros. Aún así, se puede hacer un seguimiento mapeando los PID del output de los procesos"
      ],
      "metadata": {
        "id": "9GsDKlVh8CvL"
      }
    },
    {
      "cell_type": "code",
      "source": [
        "!cat  salida-fork"
      ],
      "metadata": {
        "id": "0Ze-iGnD8UG1",
        "colab": {
          "base_uri": "https://localhost:8080/"
        },
        "outputId": "fced4cd4-1b4a-45f8-90ce-68ee3dab97fb"
      },
      "execution_count": 11,
      "outputs": [
        {
          "output_type": "stream",
          "name": "stdout",
          "text": [
            "Proceso A, PID: 1621\n",
            "Proceso C, PID: 1649\n",
            "Proceso B, PID: 1638\n",
            "Proceso D, PID: 1656\n",
            "Proceso E, PID: 1692\n",
            "Proceso G, PID: 1715\n",
            "Proceso F, PID: 1695\n"
          ]
        }
      ]
    },
    {
      "cell_type": "code",
      "source": [
        "!pstree -pc 1621       "
      ],
      "metadata": {
        "id": "yDWigMh7xy_J",
        "colab": {
          "base_uri": "https://localhost:8080/"
        },
        "outputId": "3dad184f-d591-43bf-cd1a-bcdcc4ddf150"
      },
      "execution_count": 13,
      "outputs": [
        {
          "output_type": "stream",
          "name": "stdout",
          "text": [
            "java(1621)─┬─java(1638)─┬─{java}(1639)\n",
            "           │            ├─{java}(1640)\n",
            "           │            ├─{java}(1641)\n",
            "           │            ├─{java}(1642)\n",
            "           │            ├─{java}(1643)\n",
            "           │            ├─{java}(1644)\n",
            "           │            ├─{java}(1645)\n",
            "           │            ├─{java}(1646)\n",
            "           │            ├─{java}(1647)\n",
            "           │            ├─{java}(1651)\n",
            "           │            ├─{java}(1652)\n",
            "           │            ├─{java}(1653)\n",
            "           │            ├─{java}(1654)\n",
            "           │            ├─{java}(1658)\n",
            "           │            ├─{java}(1670)\n",
            "           │            ├─{java}(1674)\n",
            "           │            ├─{java}(1694)\n",
            "           │            └─{java}(1697)\n",
            "           ├─java(1656)─┬─{java}(1659)\n",
            "           │            ├─{java}(1663)\n",
            "           │            ├─{java}(1664)\n",
            "           │            ├─{java}(1665)\n",
            "           │            ├─{java}(1668)\n",
            "           │            ├─{java}(1669)\n",
            "           │            ├─{java}(1673)\n",
            "           │            ├─{java}(1675)\n",
            "           │            ├─{java}(1677)\n",
            "           │            ├─{java}(1678)\n",
            "           │            ├─{java}(1679)\n",
            "           │            ├─{java}(1681)\n",
            "           │            ├─{java}(1683)\n",
            "           │            ├─{java}(1685)\n",
            "           │            ├─{java}(1688)\n",
            "           │            ├─{java}(1689)\n",
            "           │            └─{java}(1726)\n",
            "           ├─{java}(1622)\n",
            "           ├─{java}(1623)\n",
            "           ├─{java}(1624)\n",
            "           ├─{java}(1625)\n",
            "           ├─{java}(1626)\n",
            "           ├─{java}(1627)\n",
            "           ├─{java}(1628)\n",
            "           ├─{java}(1629)\n",
            "           ├─{java}(1630)\n",
            "           ├─{java}(1631)\n",
            "           ├─{java}(1632)\n",
            "           ├─{java}(1633)\n",
            "           ├─{java}(1634)\n",
            "           ├─{java}(1635)\n",
            "           ├─{java}(1636)\n",
            "           ├─{java}(1637)\n",
            "           ├─{java}(1648)\n",
            "           ├─{java}(1650)\n",
            "           └─{java}(1657)\n"
          ]
        }
      ]
    }
  ]
}