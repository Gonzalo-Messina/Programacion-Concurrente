{
  "nbformat": 4,
  "nbformat_minor": 0,
  "metadata": {
    "colab": {
      "provenance": [],
      "toc_visible": true,
      "include_colab_link": true
    },
    "kernelspec": {
      "name": "python3",
      "display_name": "Python 3"
    },
    "language_info": {
      "name": "python"
    }
  },
  "cells": [
    {
      "cell_type": "markdown",
      "metadata": {
        "id": "view-in-github",
        "colab_type": "text"
      },
      "source": [
        "<a href=\"https://colab.research.google.com/github/Gonzalo-Messina/Programacion-Concurrente/blob/main/M6_TP1_P4_1.ipynb\" target=\"_parent\"><img src=\"https://colab.research.google.com/assets/colab-badge.svg\" alt=\"Open In Colab\"/></a>"
      ]
    },
    {
      "cell_type": "markdown",
      "source": [
        "# Ejercicio C++"
      ],
      "metadata": {
        "id": "BQFk7rscDqJy"
      }
    },
    {
      "cell_type": "markdown",
      "source": [
        "Crear un programa que dado un conjunto de valores almacenados en un array realice la suma de los mismos. Para esto crear dos hilos que se dividirán el array y realizarán la suma del rango que le corresponda almacenando los resultados en una variable compartida, la cual será informada por el\n",
        "proceso principal al finalizar la ejecución.\n"
      ],
      "metadata": {
        "id": "VzNF_YXgVvrX"
      }
    },
    {
      "cell_type": "code",
      "execution_count": null,
      "metadata": {
        "colab": {
          "base_uri": "https://localhost:8080/"
        },
        "id": "bfLzxQ_kTSaC",
        "outputId": "887f59ff-d037-49c0-9e48-f0bacac69814"
      },
      "outputs": [
        {
          "output_type": "stream",
          "name": "stdout",
          "text": [
            "Overwriting m6_mutex.cpp\n"
          ]
        }
      ],
      "source": [
        "%%writefile m6_mutex.cpp\n",
        "#include <iostream>\n",
        "#include <thread>\n",
        "#include <mutex>\n",
        "\n",
        "using namespace std;\n",
        "\n",
        "const int tamano_array = 10;\n",
        "int array_datos[tamano_array];\n",
        "int resultado = 0;\n",
        "mutex mtx;\n",
        "\n",
        "void sumar_datos(int inicio, int fin) \n",
        "{\n",
        "    int suma_local = 0;\n",
        "    for (int i = inicio; i < fin; i++) \n",
        "    {\n",
        "      suma_local += array_datos[i];\n",
        "    }\n",
        "    mtx.lock();\n",
        "    resultado += suma_local;\n",
        "    mtx.unlock();\n",
        "}\n",
        "\n",
        "int main() \n",
        "{\n",
        "    // Inicializar array con numeros random entre 0 y 100\n",
        "    cout << \"El array esta compuesto por los siguientes numeros:\" << endl;\n",
        "    for (int i = 0; i < tamano_array; i++) \n",
        "    {\n",
        "      int random = rand() % 101;\n",
        "      array_datos[i] = random;\n",
        "      cout << random << \" \";\n",
        "    }\n",
        "\n",
        "    // Crear 2 hilos dividiento el array\n",
        "    thread hilo1(sumar_datos, 0, tamano_array/2);\n",
        "    thread hilo2(sumar_datos, tamano_array/2, tamano_array);\n",
        "\n",
        "    hilo1.join();\n",
        "    hilo2.join();\n",
        "\n",
        "    cout << endl << \"La suma es: \" << resultado << endl;\n",
        "\n",
        "    return 0;\n",
        "}\n"
      ]
    },
    {
      "cell_type": "code",
      "source": [
        "!g++ -std=c++11 -pthread m6_mutex.cpp -o m6_mutex"
      ],
      "metadata": {
        "id": "dNo0RViYXz7V"
      },
      "execution_count": null,
      "outputs": []
    },
    {
      "cell_type": "code",
      "source": [
        "!./m6_mutex"
      ],
      "metadata": {
        "colab": {
          "base_uri": "https://localhost:8080/"
        },
        "id": "y7uYlHC2X7SC",
        "outputId": "9b361bb9-cb40-4243-888d-af9e1aae74c2"
      },
      "execution_count": null,
      "outputs": [
        {
          "output_type": "stream",
          "name": "stdout",
          "text": [
            "El array esta compuesto por los siguientes numeros:\n",
            "32 32 54 12 52 56 8 30 44 94 \n",
            "La suma es: 414\n"
          ]
        }
      ]
    },
    {
      "cell_type": "markdown",
      "source": [
        "# Ejercicio en Java"
      ],
      "metadata": {
        "id": "T68LFjAuE8E9"
      }
    },
    {
      "cell_type": "markdown",
      "source": [
        "Crear un programa que genere dos hilos, un productor y un consumidor, el productor producirá un valor entero (0 a 99) y se lo comunicará al consumidor a traves de una variable compartida entera. \n",
        "\n",
        "La idea es que exista una alternancia estricta entre el productor y el consumidor, además ambos hilos deberán comunicar por pantalla cada vez que producen/consumen y el valor correspondiente.\n",
        "Programar dicho comportamiento para producir 10 valores. "
      ],
      "metadata": {
        "id": "ZHraFbG_JiEZ"
      }
    },
    {
      "cell_type": "code",
      "source": [
        "%%writefile ProducerConsumer.java\n",
        "public class ProducerConsumer \n",
        "{\n",
        "    private static final Object lock = new Object();\n",
        "    private static int sharedValue = -1;\n",
        "    private static boolean isProduced = false;\n",
        "\n",
        "    public static void main(String[] args) \n",
        "    {\n",
        "        Thread producerThread = new Thread(() -> \n",
        "        {\n",
        "            for (int i = 0; i < 10; i++) \n",
        "            {\n",
        "                synchronized (lock) \n",
        "                {\n",
        "                    while (isProduced) \n",
        "                    {\n",
        "                        try \n",
        "                        {\n",
        "                            lock.wait();\n",
        "                        } \n",
        "                        catch (InterruptedException e) \n",
        "                        {\n",
        "                            e.printStackTrace();\n",
        "                        }\n",
        "                    }\n",
        "                    sharedValue = (int) (Math.random() * 100);\n",
        "                    System.out.println(\"Produced: \" + sharedValue);\n",
        "                    isProduced = true;\n",
        "                    lock.notify();\n",
        "                }\n",
        "            }\n",
        "        });\n",
        "\n",
        "        Thread consumerThread = new Thread(() -> \n",
        "        {\n",
        "            for (int i = 0; i < 10; i++) \n",
        "            {\n",
        "                synchronized (lock) \n",
        "                {\n",
        "                    while (!isProduced) \n",
        "                    {\n",
        "                        try \n",
        "                        {\n",
        "                            lock.wait();\n",
        "                        } \n",
        "                        catch (InterruptedException e) \n",
        "                        {\n",
        "                            e.printStackTrace();\n",
        "                        }\n",
        "                    }\n",
        "                    System.out.println(\"Consumed: \" + sharedValue);\n",
        "                    isProduced = false;\n",
        "                    lock.notify();\n",
        "                }\n",
        "            }\n",
        "        });\n",
        "\n",
        "        producerThread.start();\n",
        "        consumerThread.start();\n",
        "    }\n",
        "}"
      ],
      "metadata": {
        "colab": {
          "base_uri": "https://localhost:8080/"
        },
        "id": "3WwBrgw1E-h8",
        "outputId": "4b992cce-8a9c-4ed0-a7ea-168b6197781f"
      },
      "execution_count": null,
      "outputs": [
        {
          "output_type": "stream",
          "name": "stdout",
          "text": [
            "Overwriting ProducerConsumer.java\n"
          ]
        }
      ]
    },
    {
      "cell_type": "code",
      "source": [
        "!javac ProducerConsumer.java"
      ],
      "metadata": {
        "id": "KGezpcXEE-jt"
      },
      "execution_count": null,
      "outputs": []
    },
    {
      "cell_type": "code",
      "source": [
        "!java ProducerConsumer"
      ],
      "metadata": {
        "colab": {
          "base_uri": "https://localhost:8080/"
        },
        "id": "kh9sV6FYFej-",
        "outputId": "39742ea5-44a1-4a7f-c72e-a59a856d18b8"
      },
      "execution_count": null,
      "outputs": [
        {
          "output_type": "stream",
          "name": "stdout",
          "text": [
            "Produced: 70\n",
            "Consumed: 70\n",
            "Produced: 35\n",
            "Consumed: 35\n",
            "Produced: 90\n",
            "Consumed: 90\n",
            "Produced: 51\n",
            "Consumed: 51\n",
            "Produced: 71\n",
            "Consumed: 71\n",
            "Produced: 97\n",
            "Consumed: 97\n",
            "Produced: 71\n",
            "Consumed: 71\n",
            "Produced: 66\n",
            "Consumed: 66\n",
            "Produced: 48\n",
            "Consumed: 48\n",
            "Produced: 8\n",
            "Consumed: 8\n"
          ]
        }
      ]
    },
    {
      "cell_type": "markdown",
      "source": [
        "# Ejercicio Python"
      ],
      "metadata": {
        "id": "D8keGnerEGQR"
      }
    },
    {
      "cell_type": "code",
      "execution_count": null,
      "metadata": {
        "colab": {
          "base_uri": "https://localhost:8080/"
        },
        "id": "i1eYHBZfZPxR",
        "outputId": "ab94f115-b82c-4552-fd97-fa3f31d2d647"
      },
      "outputs": [
        {
          "output_type": "stream",
          "name": "stdout",
          "text": [
            "Writing generar_password.py\n"
          ]
        }
      ],
      "source": [
        "%%writefile generar_password.py\n",
        "import threading\n",
        "import sys\n",
        "\n",
        "NUM_HILOS = 2\n",
        "\n",
        "def convertir_caracteres(cadena, inicio, fin, semaforo, password):\n",
        "    for i in range(inicio, fin):\n",
        "        caracter = cadena[i]\n",
        "        if caracter.islower():\n",
        "            caracter = caracter.upper()\n",
        "        num = ord(caracter) - 64\n",
        "        \n",
        "        #adquiero y libero el semaforo para acceder al recurso compartido: password\n",
        "        semaforo.acquire()\n",
        "        password[i] = num\n",
        "        semaforo.release()\n",
        "\n",
        "if __name__ == '__main__':\n",
        "    \n",
        "    #valido que se ingrese una cadena a codificar\n",
        "    if len(sys.argv) != 2:\n",
        "        print(\"Debe ingresar una cadena de caracteres como parámetro\")\n",
        "        sys.exit(1)\n",
        "\n",
        "    cadena = sys.argv[1]\n",
        "\n",
        "    n = len(cadena)\n",
        "    password = [0] * n\n",
        "    hilos = []\n",
        "    semaforo = threading.Semaphore(1)\n",
        "    elementos_por_hilo = n // NUM_HILOS\n",
        "\n",
        "    for i in range(NUM_HILOS):\n",
        "        inicio = i * elementos_por_hilo\n",
        "        fin = inicio + elementos_por_hilo\n",
        "        if i == NUM_HILOS - 1:\n",
        "            fin = n\n",
        "        hilo = threading.Thread(target=convertir_caracteres, args=(cadena, inicio, fin, semaforo, password))\n",
        "        hilo.start()\n",
        "        hilos.append(hilo)\n",
        "\n",
        "    for hilo in hilos:\n",
        "        hilo.join()\n",
        "\n",
        "    print(\"La contraseña generada es:\", password)"
      ]
    },
    {
      "cell_type": "code",
      "source": [
        "!python generar_password.py ARBOLITO"
      ],
      "metadata": {
        "colab": {
          "base_uri": "https://localhost:8080/"
        },
        "id": "zWUikpoLadrt",
        "outputId": "93b0823c-21df-4526-ffde-1e6d42e6af94"
      },
      "execution_count": null,
      "outputs": [
        {
          "output_type": "stream",
          "name": "stdout",
          "text": [
            "La contraseña generada es: [1, 18, 2, 15, 12, 9, 20, 15]\n"
          ]
        }
      ]
    }
  ]
}