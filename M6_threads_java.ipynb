{
  "nbformat": 4,
  "nbformat_minor": 0,
  "metadata": {
    "colab": {
      "provenance": [],
      "include_colab_link": true
    },
    "kernelspec": {
      "name": "python3",
      "display_name": "Python 3"
    },
    "language_info": {
      "name": "python"
    }
  },
  "cells": [
    {
      "cell_type": "markdown",
      "metadata": {
        "id": "view-in-github",
        "colab_type": "text"
      },
      "source": [
        "<a href=\"https://colab.research.google.com/github/Gonzalo-Messina/Programacion-Concurrente/blob/main/M6_threads_java.ipynb\" target=\"_parent\"><img src=\"https://colab.research.google.com/assets/colab-badge.svg\" alt=\"Open In Colab\"/></a>"
      ]
    },
    {
      "cell_type": "markdown",
      "source": [
        "# Ejemplo de Threads en Java"
      ],
      "metadata": {
        "id": "yqnvS0EFP-bq"
      }
    },
    {
      "cell_type": "markdown",
      "source": [
        "## Creacion de archivos"
      ],
      "metadata": {
        "id": "v-bv9bLqQmWK"
      }
    },
    {
      "cell_type": "code",
      "execution_count": null,
      "metadata": {
        "colab": {
          "base_uri": "https://localhost:8080/"
        },
        "id": "5ODsf48sP2tV",
        "outputId": "90d0223b-f42a-4151-9b72-a13080a8e189"
      },
      "outputs": [
        {
          "output_type": "stream",
          "name": "stdout",
          "text": [
            "Writing App.java\n"
          ]
        }
      ],
      "source": [
        "%%writefile App.java\n",
        "import java.util.ArrayList;\n",
        "import java.util.List;\n",
        "import java.util.Map;\n",
        "import java.util.Random;\n",
        "\n",
        "public class App \n",
        "{\n",
        "  public static final int MIN_VALUE = -32;\n",
        "  public static final int MAX_VALUE = 32;\n",
        "  public static final int NUMBER_OF_MATRICES = 2;\n",
        "\n",
        "  public static void main(String[] args) throws Exception\n",
        "  {\n",
        "    // Inicializamos matrices\n",
        "    int matrixSize = parseInteger(args);\n",
        "    List<int[][]> matrices = initializeMatrices(NUMBER_OF_MATRICES, matrixSize, MIN_VALUE, MAX_VALUE);\n",
        "    int[][] matrixA = matrices.get(0);\n",
        "    int[][] matrixB = matrices.get(1);\n",
        "\n",
        "    // Creamos la caluladora\n",
        "    MatrixCalculatorFactory calculatorFactory = new MatrixCalculatorFactory();\n",
        "    MatrixCalculator sequentialMatrixCalculator = calculatorFactory.createMatrixCalculator(MatrixCalculatorFactory.SEQUENTIAL_CALCULATOR);\n",
        "    MatrixCalculator parallelMatrixCalculator = calculatorFactory.createMatrixCalculator((MatrixCalculatorFactory.PARALLEL_CALCULATOR));\n",
        "    \n",
        "    // Calculamos resultados\n",
        "    int[][] sequentialResult = sequentialMatrixCalculator.multiply(matrixA, matrixB);\n",
        "    int[][] parallelResult = parallelMatrixCalculator.multiply(matrixA, matrixB);\n",
        "\n",
        "    // Mostramos por pantalla los resultados o el error si hubiera.\n",
        "    if (compare(sequentialResult, parallelResult))\n",
        "    {\n",
        "      List<Map.Entry<String, int[][]>> labeledMatrices = List.of(\n",
        "        Map.entry(\"Matriz A\", matrixA),\n",
        "        Map.entry(\"Matriz B\", matrixB),\n",
        "        Map.entry(\"Resultado secuencial\", sequentialResult),\n",
        "        Map.entry(\"Resultado paralelo\", parallelResult)\n",
        "      );\n",
        "      printMatrices(labeledMatrices);\n",
        "    } \n",
        "    else\n",
        "    {\n",
        "      System.out.println(\"Las dos matrices no dieron igual!!\");\n",
        "    }\n",
        "  }\n",
        "  \n",
        "  public static int parseInteger(String args[])\n",
        "  {\n",
        "    int squareMatrixSize = Integer.MIN_VALUE;\n",
        "    try\n",
        "    {\n",
        "      squareMatrixSize = Integer.parseInt(args[0]);\n",
        "      if(squareMatrixSize < 5 || squareMatrixSize > 20) \n",
        "      {\n",
        "        System.err.println(\"El tamaño de la matriz debe ser un número entero entre 5 y 20\");\n",
        "        System.exit(1);\n",
        "      }\n",
        "    }\n",
        "    catch (NumberFormatException e)\n",
        "    {\n",
        "      System.err.println(\"El primer parámetro debe ser un número entero\");\n",
        "      System.exit(1);\n",
        "    }\n",
        "    return squareMatrixSize;\n",
        "  }\n",
        "  \n",
        "  // Inicializa una matrix cuadrada de tamaño n con números aleatorios entre min (inclusivo) y max (inclusivo)\n",
        "  public static int[][] initializeMatrix(int n, int min, int max)\n",
        "  {\n",
        "    int[][] matrix = new int[n][n];\n",
        "    Random randomizer = new Random();\n",
        "    for(int i = 0; i < n; i++)\n",
        "    {\n",
        "      for(int j = 0; j < n; j++)\n",
        "      {\n",
        "        matrix[i][j] = randomizer.nextInt((max + 1) - min) + min;\n",
        "      }\n",
        "    }\n",
        "    return matrix;\n",
        "  }\n",
        "\n",
        "  // Inicializa una lista de matrices cuadradas de tamaño n con números aleatorios entre min (inclusivo) y max (inclusivo)\n",
        "  public static List<int[][]> initializeMatrices(int numberOfMatrices, int matrixDimension, int minValue, int maxValue)\n",
        "  {\n",
        "    List<int[][]> matrices = new ArrayList<>();\n",
        "    for(int i = 0; i < numberOfMatrices; i++)\n",
        "    {\n",
        "      matrices.add(initializeMatrix(matrixDimension, minValue, maxValue));\n",
        "    }\n",
        "    return matrices;\n",
        "  }\n",
        "  \n",
        "\n",
        "  // Compara dos matrices y devuelve true si son iguales, false en caso de que cualquier elemento de igual indice sea distinto\n",
        "  public static boolean compare(int[][] matrixA, int[][] matrixB)\n",
        "  {\n",
        "    for(int i = 0; i < matrixA.length; i++)\n",
        "    {\n",
        "      for(int j = 0; j < matrixA.length; j++)\n",
        "      {\n",
        "        if(matrixA[i][j] != matrixB[i][j])\n",
        "        {\n",
        "          return false;\n",
        "        }\n",
        "      }\n",
        "    }\n",
        "    return true;\n",
        "  }\n",
        "  \n",
        "  // Recibe una matriz y la imprime por consola\n",
        "  public static void printMatrix(int[][] matrix)\n",
        "  {\n",
        "    for(int i = 0; i < matrix.length; i++)\n",
        "    {\n",
        "      System.out.print(\"|\");\n",
        "      for(int j = 0; j < matrix.length; j++)\n",
        "      {\n",
        "        System.out.print(String.format(\"%5d|\",matrix[i][j]));\n",
        "      }\n",
        "      System.out.println();\n",
        "    }\n",
        "    System.out.println();\n",
        "  }\n",
        "\n",
        "    // Recibe una lista de tuplas de nombre, matriz y las imprime por consola\n",
        "  public static void printMatrices(List<Map.Entry<String, int[][]>> matrices)\n",
        "  {\n",
        "    for(Map.Entry<String, int[][]> entryMap : matrices)\n",
        "    {\n",
        "      System.out.println(entryMap.getKey());\n",
        "      printMatrix(entryMap.getValue());\n",
        "    }\n",
        "  }\n",
        "}\n"
      ]
    },
    {
      "cell_type": "markdown",
      "source": [
        "ConcurrentMatrixMultiplicator es una estrategia de multiplicacion que consiste en crear una pool de tantos Threads como filas tengan las matrices cuadradas y luego iniciarlos todos de manera que iteren por las columnas de sus filas para hacer la multiplicación con la otra matriz."
      ],
      "metadata": {
        "id": "hdp4UdR8Uq-g"
      }
    },
    {
      "cell_type": "code",
      "source": [
        "%%writefile ConcurrentMatrixMultiplicator.java\n",
        "import java.util.ArrayList;\n",
        "import java.util.List;\n",
        "\n",
        "public class ConcurrentMatrixMultiplicator implements IMatrixMultiplicationStrategy\n",
        "  {\n",
        "    public int[][] matrixMultiplication(int[][] a, int[][] b) {\n",
        "      int rowsA = a.length;\n",
        "      int rowsB = b.length;\n",
        "      int[][] ch = new int[rowsA][rowsB];\n",
        "      \n",
        "      // LLevamos registro de todos los threads lanzados para esperarlos antes de devolver el resultado\n",
        "      List<Thread> threadPool = new ArrayList<Thread>(a.length*b.length);\n",
        "      for (int i = 0; i < a.length; i++) {\n",
        "        // Las variables en el Thread tienen que ser inmutables.\n",
        "        final int iCopy = i;\n",
        "        Thread t = new Thread(() -> {\n",
        "          for (int j = 0; j < b[0].length; j++) {\n",
        "            for (int k = 0; k < a[0].length; k++) {\n",
        "              ch[iCopy][j] += a[iCopy][k] * b[k][j];\n",
        "  \n",
        "            }\n",
        "          }\n",
        "        });\n",
        "\n",
        "        // Agregamos el thread a la pool para lanzarlo luego.\n",
        "        // Si bien podriamos lanzar el hilo recien creado ahora mismo, testeos locales con N > 1000 tuvieron mejor rendimiento\n",
        "        //  al crear la pool con todos los hilos y lanzarlos luego.\n",
        "        threadPool.add(t);\n",
        "      }\n",
        "\n",
        "      // Iniciamos los hilos en la pool.\n",
        "      threadPool.forEach(t -> t.start());\n",
        "\n",
        "      // Esperamos los hilos que todavía estén procesando la multiplicación\n",
        "      threadPool.forEach(t -> {\n",
        "        try \n",
        "        {\n",
        "          t.join();\n",
        "        } catch (InterruptedException e)\n",
        "        {\n",
        "          System.out.println(\"Ocurrio un error durante la multiplicacion en paralelo\");\n",
        "          e.printStackTrace();\n",
        "        }\n",
        "      });\n",
        "\n",
        "      return ch;\n",
        "    }\n",
        "  }"
      ],
      "metadata": {
        "colab": {
          "base_uri": "https://localhost:8080/"
        },
        "id": "4XDShE5pQxWW",
        "outputId": "b1fec7a1-d00c-4d13-b8c1-ae952dd44b00"
      },
      "execution_count": null,
      "outputs": [
        {
          "output_type": "stream",
          "name": "stdout",
          "text": [
            "Writing ConcurrentMatrixMultiplicator.java\n"
          ]
        }
      ]
    },
    {
      "cell_type": "code",
      "source": [
        "%%writefile IMatrixMultiplicationStrategy.java\n",
        "public interface IMatrixMultiplicationStrategy\n",
        "{\n",
        "  // Returns product of two matrices\n",
        "  public int[][] matrixMultiplication(int[][] a, int[][] b);\n",
        "}"
      ],
      "metadata": {
        "colab": {
          "base_uri": "https://localhost:8080/"
        },
        "id": "I7qjsQQhQ3ao",
        "outputId": "e8f53b53-2a36-48d8-91d3-d6c7585f2e2e"
      },
      "execution_count": null,
      "outputs": [
        {
          "output_type": "stream",
          "name": "stdout",
          "text": [
            "Writing IMatrixMultiplicationStrategy.java\n"
          ]
        }
      ]
    },
    {
      "cell_type": "markdown",
      "source": [
        "Calculadora de matrices que utiliza una estrategia para hacer los calculos"
      ],
      "metadata": {
        "id": "0h5Wm8sRVGNT"
      }
    },
    {
      "cell_type": "code",
      "source": [
        "%%writefile MatrixCalculator.java\n",
        "public class MatrixCalculator\n",
        "{\n",
        "  private IMatrixMultiplicationStrategy multiplicationStrategy_;\n",
        "\n",
        "  public MatrixCalculator(IMatrixMultiplicationStrategy multiplicationStrategy) \n",
        "  {\n",
        "    this.multiplicationStrategy_ = multiplicationStrategy;\n",
        "  }\n",
        "\n",
        "  public int[][] multiply(int[][] a, int[][] b)\n",
        "  {\n",
        "    return this.multiplicationStrategy_.matrixMultiplication(a, b);\n",
        "  }\n",
        "}"
      ],
      "metadata": {
        "colab": {
          "base_uri": "https://localhost:8080/"
        },
        "id": "LH7_yYKqQ7bO",
        "outputId": "44ce0fc4-6f62-4632-be15-f80f7dadc540"
      },
      "execution_count": null,
      "outputs": [
        {
          "output_type": "stream",
          "name": "stdout",
          "text": [
            "Writing MatrixCalculator.java\n"
          ]
        }
      ]
    },
    {
      "cell_type": "markdown",
      "source": [
        "Factory de calculadora de matrices que setea las estrategias según se indique en el parametro"
      ],
      "metadata": {
        "id": "bmCRSt85VTke"
      }
    },
    {
      "cell_type": "code",
      "source": [
        "%%writefile MatrixCalculatorFactory.java\n",
        "public class MatrixCalculatorFactory\n",
        "  {\n",
        "    public static final String SEQUENTIAL_CALCULATOR = \"sequential\";\n",
        "    public static final String PARALLEL_CALCULATOR = \"parallel\"; \n",
        "\n",
        "    public MatrixCalculator createMatrixCalculator(String strategy)\n",
        "    {\n",
        "      MatrixCalculator calculator = null;\n",
        "      switch (strategy) {\n",
        "        case SEQUENTIAL_CALCULATOR:\n",
        "          calculator = new MatrixCalculator(new SequentialMatrixMultiplicator());\n",
        "          break;\n",
        "        case PARALLEL_CALCULATOR:\n",
        "          calculator = new MatrixCalculator(new ConcurrentMatrixMultiplicator());\n",
        "          break;\n",
        "        default:\n",
        "          System.out.println(\"Por favor, ingrese un algoritmo de multiplicacion valido\");\n",
        "          break;\n",
        "      }\n",
        "      return calculator;\n",
        "    }\n",
        "}"
      ],
      "metadata": {
        "colab": {
          "base_uri": "https://localhost:8080/"
        },
        "id": "_YRHmJzAQ-UG",
        "outputId": "5a936522-5cdc-48e1-e2a9-0124f12589fa"
      },
      "execution_count": null,
      "outputs": [
        {
          "output_type": "stream",
          "name": "stdout",
          "text": [
            "Writing MatrixCalculatorFactory.java\n"
          ]
        }
      ]
    },
    {
      "cell_type": "markdown",
      "source": [
        "SequentialMatrixMultiplicator es una estrategia de multiplicación que consiste en iterar secuencialmente por todos los elementos de una matriz y hacer la multiplicación con la otra"
      ],
      "metadata": {
        "id": "XKxhFLNYVZO-"
      }
    },
    {
      "cell_type": "code",
      "source": [
        "%%writefile SequentialMatrixMultiplicator.java\n",
        "public class SequentialMatrixMultiplicator implements IMatrixMultiplicationStrategy\n",
        "  {\n",
        "    public int[][] matrixMultiplication(int[][] a, int[][] b) {\n",
        "      //Multiply matrix a by matrix b\n",
        "      int rowsA = a.length;\n",
        "      int rowsB = b.length;\n",
        "      int[][] cs = new int[rowsA][rowsB];\n",
        "      \n",
        "      for (int i = 0; i < a.length; i++) {\n",
        "        for (int j = 0; j < b[0].length; j++) {\n",
        "          for (int k = 0; k < a[0].length; k++) {\n",
        "            cs[i][j] += a[i][k] * b[k][j];\n",
        "          }\n",
        "        }\n",
        "      }\n",
        "      return cs;\n",
        "    }\n",
        "  }"
      ],
      "metadata": {
        "colab": {
          "base_uri": "https://localhost:8080/"
        },
        "id": "6rfhe1BgRCf1",
        "outputId": "de435ffb-0932-4229-9340-0a3f9e35d7ec"
      },
      "execution_count": null,
      "outputs": [
        {
          "output_type": "stream",
          "name": "stdout",
          "text": [
            "Writing SequentialMatrixMultiplicator.java\n"
          ]
        }
      ]
    },
    {
      "cell_type": "markdown",
      "source": [
        "## Compilacion"
      ],
      "metadata": {
        "id": "C4bApt1ZRMO8"
      }
    },
    {
      "cell_type": "code",
      "source": [
        "!javac *.java"
      ],
      "metadata": {
        "id": "932YFPmvRQ7y"
      },
      "execution_count": null,
      "outputs": []
    },
    {
      "cell_type": "markdown",
      "source": [
        "## Ejecucion"
      ],
      "metadata": {
        "id": "kKGJ4MbvVpVo"
      }
    },
    {
      "cell_type": "code",
      "source": [
        "!java App 10"
      ],
      "metadata": {
        "colab": {
          "base_uri": "https://localhost:8080/"
        },
        "id": "sUwKdXMPRTBj",
        "outputId": "d0a007f4-d69a-4cbe-afda-5fb6ed3f5f8b"
      },
      "execution_count": null,
      "outputs": [
        {
          "output_type": "stream",
          "name": "stdout",
          "text": [
            "Matriz A\n",
            "|   14|   21|    2|  -30|  -25|    1|   18|   16|   22|   32|\n",
            "|  -23|   -4|   29|  -19|   12|   26|  -32|   11|   31|  -28|\n",
            "|   15|  -19|  -11|    0|   -5|  -25|  -22|   -2|    2|  -25|\n",
            "|  -14|   27|  -32|  -14|  -25|  -22|   -2|  -10|   12|  -25|\n",
            "|   25|   13|  -10|  -13|  -18|   -2|   -7|    0|   23|   10|\n",
            "|  -15|  -12|  -31|  -18|    2|   12|   20|  -31|    8|   28|\n",
            "|   24|   28|   -3|   -3|   24|  -15|  -19|  -26|   10|   -6|\n",
            "|   23|  -19|   28|   17|   -2|   16|    6|    4|  -27|   13|\n",
            "|   26|  -31|   14|   29|    2|   13|    2|  -16|    5|  -28|\n",
            "|  -11|  -23|   18|   -1|  -27|  -19|   25|   -2|    4|  -27|\n",
            "\n",
            "Matriz B\n",
            "|  -14|   18|    0|  -32|   18|   -3|   18|    8|    1|   25|\n",
            "|  -23|  -23|    7|   20|  -19|    3|   16|    5|  -20|   17|\n",
            "|  -14|  -28|   -6|    6|  -23|  -31|  -14|   -7|   11|   -3|\n",
            "|   23|   27|  -29|   24|  -18|   -2|   25|    7|  -19|  -27|\n",
            "|  -24|   -9|  -10|  -13|    2|   -9|   21|  -30|   29|   28|\n",
            "|   12|   -7|    0|  -15|    3|  -31|    6|    1|   29|   30|\n",
            "|  -28|   24|   23|  -15|   27|   15|   10|  -28|   15|   16|\n",
            "|  -21|   16|    7|   31|  -19|  -23|  -24|   20|  -18|    2|\n",
            "|  -10|  -12|  -30|   22|   -7|   31|   17|  -21|    1|  -14|\n",
            "|   32|  -27|   25|   -7|   18|    5|  -10|   29|    5|    1|\n",
            "\n",
            "Resultado secuencial\n",
            "| -821|-1319| 1921|   60|  904|  957| -859| 1026| -346|  885|\n",
            "| -946|-2145|-2060| 1527|-2355|-1630| -728|-1221| 1052|  -53|\n",
            "|   39| 1326|-1222|    1| -221|  712|  -23|   36|-1013|-1214|\n",
            "| -617|  347|  -64| 1274| -291| 2497|  295| -244|-1966|-1022|\n",
            "| -114| -458|  107| -107|  455| 1182|  304|  785| -710|  239|\n",
            "| 1509| -582| 1307|-1865| 2612| 2017|  436| -673| 1638|  590|\n",
            "| -977|-1150|-1008| -644| -171|  953| 1925| -775|  -88|  886|\n",
            "|  788|  613|  527|-1405|  378|-2280| -428|  944|  850|  628|\n",
            "|  262| 1951|-2078|-1113|   75| -671| 1390|-1182|  867| -354|\n",
            "| -734| 1425| -204|  452|  -69|  650| -888|-1152| -388|-1706|\n",
            "\n",
            "Resultado paralelo\n",
            "| -821|-1319| 1921|   60|  904|  957| -859| 1026| -346|  885|\n",
            "| -946|-2145|-2060| 1527|-2355|-1630| -728|-1221| 1052|  -53|\n",
            "|   39| 1326|-1222|    1| -221|  712|  -23|   36|-1013|-1214|\n",
            "| -617|  347|  -64| 1274| -291| 2497|  295| -244|-1966|-1022|\n",
            "| -114| -458|  107| -107|  455| 1182|  304|  785| -710|  239|\n",
            "| 1509| -582| 1307|-1865| 2612| 2017|  436| -673| 1638|  590|\n",
            "| -977|-1150|-1008| -644| -171|  953| 1925| -775|  -88|  886|\n",
            "|  788|  613|  527|-1405|  378|-2280| -428|  944|  850|  628|\n",
            "|  262| 1951|-2078|-1113|   75| -671| 1390|-1182|  867| -354|\n",
            "| -734| 1425| -204|  452|  -69|  650| -888|-1152| -388|-1706|\n",
            "\n"
          ]
        }
      ]
    }
  ]
}