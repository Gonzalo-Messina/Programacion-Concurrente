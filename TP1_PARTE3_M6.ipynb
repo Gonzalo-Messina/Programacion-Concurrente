{
  "cells": [
    {
      "cell_type": "markdown",
      "metadata": {
        "id": "view-in-github",
        "colab_type": "text"
      },
      "source": [
        "<a href=\"https://colab.research.google.com/github/Gonzalo-Messina/Programacion-Concurrente/blob/main/TP1_PARTE3_M6.ipynb\" target=\"_parent\"><img src=\"https://colab.research.google.com/assets/colab-badge.svg\" alt=\"Open In Colab\"/></a>"
      ]
    },
    {
      "cell_type": "markdown",
      "source": [
        "# **Java (Sockets)**\n",
        "Comunicar dos procesos no emparentados a través del paso de mensajes mediante sockets.\n",
        "Existirá un programa “Cliente” que:\n",
        "  • Tomará por parámetro una cadena de caracteres, por ejemplo; “Hirschfeldt2023”.\n",
        "  • Mostrará por pantalla los siguientes resultados:\n",
        "    Cantidad de caracteres totales\n",
        "    Cantidad de letras\n",
        "    Cantidad de dígitos\n",
        "    Cantidad de caracteres que no son letra ni dígito.\n",
        "Existirá otro programa “Servidor” que:\n",
        "  • Será el encargado de generar y enviar la      información requerida por el programa cliente"
      ],
      "metadata": {
        "id": "kdfXh6nV5ssL"
      }
    },
    {
      "cell_type": "code",
      "source": [
        "%%writefile Server.java\n",
        "import java.io.BufferedReader;\n",
        "import java.io.IOException;\n",
        "import java.io.InputStreamReader;\n",
        "import java.io.PrintWriter;\n",
        "import java.net.ServerSocket;\n",
        "import java.net.Socket;\n",
        "\n",
        "public class Server \n",
        "{\n",
        "    public static void main(String[] args) throws IOException \n",
        "    {\n",
        "        int port = 1234;\n",
        "        ServerSocket server = new ServerSocket(port);\n",
        "        System.out.println(\"Server started on port \" + port);\n",
        "        \n",
        "        while (true) \n",
        "        {\n",
        "            Socket client = server.accept();\n",
        "            System.out.println(\"Client connected from \" + client.getInetAddress().getHostName());\n",
        "            \n",
        "            // Read the message sent by the client\n",
        "            BufferedReader in = new BufferedReader(new InputStreamReader(client.getInputStream()));\n",
        "            String message = in.readLine();\n",
        "            \n",
        "            // Generate the required information\n",
        "            int totalChars = message.length();\n",
        "            int letters = message.replaceAll(\"[^a-zA-Z]\", \"\").length();\n",
        "            int digits = message.replaceAll(\"[^0-9]\", \"\").length();\n",
        "            int nonAlphanumeric = totalChars - letters - digits;\n",
        "            \n",
        "            // Send the information to the client\n",
        "            PrintWriter out = new PrintWriter(client.getOutputStream(), true);\n",
        "            out.println(totalChars);\n",
        "            out.println(letters);\n",
        "            out.println(digits);\n",
        "            out.println(nonAlphanumeric);\n",
        "            \n",
        "            client.close();\n",
        "            System.out.println(\"Client disconnected\");\n",
        "        }\n",
        "    }\n",
        "}\n"
      ],
      "metadata": {
        "id": "E4OpZ3Sv4MS5",
        "outputId": "569b01db-d629-4fa7-88b4-f595d3dcd85b",
        "colab": {
          "base_uri": "https://localhost:8080/"
        }
      },
      "execution_count": null,
      "outputs": [
        {
          "output_type": "stream",
          "name": "stdout",
          "text": [
            "Writing Server.java\n"
          ]
        }
      ]
    },
    {
      "cell_type": "code",
      "source": [
        "%%writefile Client.java\n",
        "import java.io.BufferedReader;\n",
        "import java.io.IOException;\n",
        "import java.io.InputStreamReader;\n",
        "import java.io.PrintWriter;\n",
        "import java.net.Socket;\n",
        "\n",
        "public class Client \n",
        "{\n",
        "    public static void main(String[] args) throws IOException \n",
        "    {\n",
        "        String host = \"localhost\";\n",
        "        int port = 1234;\n",
        "        \n",
        "        // Get the message from command line parameters\n",
        "        String message = args[0];\n",
        "        \n",
        "        Socket server = new Socket(host, port);\n",
        "        \n",
        "        // Send the message to the server\n",
        "        PrintWriter out = new PrintWriter(server.getOutputStream(), true);\n",
        "        out.println(message);\n",
        "        \n",
        "        BufferedReader in = new BufferedReader(new InputStreamReader(server.getInputStream()));\n",
        "        int totalChars = Integer.parseInt(in.readLine());\n",
        "        int letters = Integer.parseInt(in.readLine());\n",
        "        int digits = Integer.parseInt(in.readLine());\n",
        "        int nonAlphanumeric = Integer.parseInt(in.readLine());\n",
        "        \n",
        "        System.out.println(\"Total characters: \" + totalChars);\n",
        "        System.out.println(\"Letters: \" + letters);\n",
        "        System.out.println(\"Digits: \" + digits);\n",
        "        System.out.println(\"Non-alphanumeric characters: \" + nonAlphanumeric);\n",
        "        \n",
        "        server.close();\n",
        "    }\n",
        "}\n"
      ],
      "metadata": {
        "id": "9pxQ3VtI4WXN",
        "outputId": "ccc08bd8-5ca2-4db3-8186-087791cf6a75",
        "colab": {
          "base_uri": "https://localhost:8080/"
        }
      },
      "execution_count": null,
      "outputs": [
        {
          "output_type": "stream",
          "name": "stdout",
          "text": [
            "Writing Client.java\n"
          ]
        }
      ]
    },
    {
      "cell_type": "code",
      "source": [
        "!javac Server.java && javac Client.java"
      ],
      "metadata": {
        "id": "kMJ4n2ob4eln"
      },
      "execution_count": null,
      "outputs": []
    },
    {
      "cell_type": "code",
      "source": [
        "!nohup java Server 1>salida-servidor 2>/dev/null & "
      ],
      "metadata": {
        "id": "wi3r1zvS4uv8"
      },
      "execution_count": null,
      "outputs": []
    },
    {
      "cell_type": "code",
      "source": [
        "!cat salida-servidor"
      ],
      "metadata": {
        "id": "wiAGwQyZ40cy",
        "outputId": "16606994-e4a9-428f-816f-7d9ffb80431f",
        "colab": {
          "base_uri": "https://localhost:8080/"
        }
      },
      "execution_count": null,
      "outputs": [
        {
          "output_type": "stream",
          "name": "stdout",
          "text": [
            "Server started on port 1234\n"
          ]
        }
      ]
    },
    {
      "cell_type": "code",
      "source": [
        "!java Client Password.1"
      ],
      "metadata": {
        "id": "u_ssmx2K44NH",
        "outputId": "38a52e7f-9877-4eaa-8874-5ec85893c864",
        "colab": {
          "base_uri": "https://localhost:8080/"
        }
      },
      "execution_count": null,
      "outputs": [
        {
          "output_type": "stream",
          "name": "stdout",
          "text": [
            "Total characters: 10\n",
            "Letters: 8\n",
            "Digits: 1\n",
            "Non-alphanumeric characters: 1\n"
          ]
        }
      ]
    },
    {
      "cell_type": "code",
      "source": [
        "!cat salida-servidor"
      ],
      "metadata": {
        "id": "25Urf71b5RfK",
        "outputId": "4b718fbd-9b1a-4b72-cb56-8d6fe9620a88",
        "colab": {
          "base_uri": "https://localhost:8080/"
        }
      },
      "execution_count": null,
      "outputs": [
        {
          "output_type": "stream",
          "name": "stdout",
          "text": [
            "Server started on port 1234\n",
            "Client connected from localhost\n",
            "Client disconnected\n"
          ]
        }
      ]
    },
    {
      "cell_type": "markdown",
      "source": [
        "# **C/C++**"
      ],
      "metadata": {
        "id": "NYPAbO5-WyrL"
      }
    },
    {
      "cell_type": "markdown",
      "source": [
        "Cliente - recibe cadena de numeros, muestra resultado por pantalla\n",
        "NOTA: intento hacer threads servidor y cliente porque no se como ejecutar dos programas al mismo tiempo"
      ],
      "metadata": {
        "id": "GF8RmnHp8Hzr"
      }
    },
    {
      "cell_type": "code",
      "execution_count": null,
      "metadata": {
        "id": "waV9fwK58CiP",
        "colab": {
          "base_uri": "https://localhost:8080/"
        },
        "outputId": "e6b1ba9e-e9e8-41dc-d401-f91002250dfc"
      },
      "outputs": [
        {
          "output_type": "stream",
          "name": "stdout",
          "text": [
            "Overwriting cliente.cpp\n"
          ]
        }
      ],
      "source": [
        "%%writefile cliente.cpp\n",
        "#include <stdlib.h>\n",
        "#include <stdio.h>\n",
        "#include <string.h>\n",
        "#include <sys/stat.h>\n",
        "#include <fcntl.h>\n",
        "#include <unistd.h>\n",
        "#include <iostream>\n",
        "#include <sstream>\n",
        "#include <pthread.h>\n",
        "#include <thread>\n",
        "\n",
        "#define MAX_NUMEROS 4\n",
        "using namespace std;\n",
        "\n",
        "int validarCantidadNumeros(const string &s, const char delimiter)\n",
        "{\n",
        "  int cantNum=0,numero;\n",
        "  string token;\n",
        "  stringstream ss(s);\n",
        "  while (getline(ss, token, delimiter))\n",
        "  {\n",
        "    try\n",
        "    {\n",
        "      numero = std::stoi(token);\n",
        "      if(numero < 0)\n",
        "      {\n",
        "        return -1;\n",
        "      }\n",
        "    }\n",
        "    catch (const std::invalid_argument& e)\n",
        "    {\n",
        "      return -1;\n",
        "    }\n",
        "    cantNum++;\n",
        "  }\n",
        "  return cantNum;\n",
        "}\n",
        "\n",
        "int entradaValida(int argc, string entrada)\n",
        "{\n",
        "  if(argc != 2)\n",
        "  {\n",
        "    return -1;\n",
        "  }\n",
        "  int cantNumeros = validarCantidadNumeros(entrada,'-');\n",
        "  if(cantNumeros > MAX_NUMEROS || cantNumeros == -1)\n",
        "  {\n",
        "    return -1;\n",
        "  }\n",
        "  return 0;\n",
        "}\n",
        "\n",
        "void cliente(string entrada)\n",
        "{\n",
        "  if( mkfifo(\"./fifo\",0666) == -1 )\n",
        "\t{\n",
        "\t\tperror(\"Error al crear ./fifo\");\n",
        "\t\tpthread_exit(NULL);\n",
        "\t}\n",
        "  cout << \"open fifo\" << endl;\n",
        "  int fifoWrite = open(\"./fifo\", O_WRONLY);\n",
        "  cout << \"write fifo\" << endl;\n",
        "  if( write( fifoWrite, &entrada, entrada.length() ) == -1 )\n",
        "\t{\n",
        "\t\tperror(\"Error en write()\");\n",
        "\t\tpthread_exit(NULL);\n",
        "\t}\n",
        "  cout << \"close fifo\" << endl;\t\n",
        "\tclose(fifoWrite);\t\n",
        "  cout << \"unlik fifo\" << endl;\n",
        "\tunlink(\"./fifo\");\n",
        "  cout << \"exit\" << endl;\n",
        "  pthread_exit(NULL);\n",
        "}\n",
        "\n",
        "void servidor()\n",
        "{\n",
        "  std::this_thread::sleep_for(std::chrono::seconds(100));\n",
        "  string entrada;\n",
        "  int fifoRead = open(\"./fifo\", O_RDONLY);\n",
        "  if( read( fifoRead, &entrada, sizeof( string ) ) == -1 )\n",
        "\t{\n",
        "\t\tperror(\"Error en read()\");\n",
        "\t\tpthread_exit(NULL);\n",
        "\t}\n",
        "  cout<< \"el servidor recibio esta entrada: \" << entrada << endl;\n",
        "  close(fifoRead);\n",
        "  pthread_exit(NULL);\n",
        "}\n",
        "\n",
        "int main (int argc, char *argv[])\n",
        "{\n",
        "  string entrada = argv[1];\n",
        "  if(entradaValida(argc,entrada) == -1)\n",
        "  {\n",
        "    perror(\"Entrada invalida - Debe ser una cadena con una serie de cuatro números enteros no negativos separados con guión medio (-) \");\n",
        "\t\treturn EXIT_FAILURE;\n",
        "  }\n",
        "  std::thread t_cliente(cliente,entrada);\n",
        "  std::thread t_servidor(servidor);\n",
        "  t_cliente.join();\n",
        "  t_servidor.join();\n",
        "\treturn EXIT_SUCCESS;\n",
        "}"
      ]
    },
    {
      "cell_type": "markdown",
      "source": [
        "Servidor - espera que el cliente mande por medio de fifo la entrada para procesar los calculos y devolver resultados"
      ],
      "metadata": {
        "id": "ZPxEAy-5GZEe"
      }
    },
    {
      "cell_type": "code",
      "source": [
        "%%writefile servidor.cpp\n",
        "#include <stdlib.h>\n",
        "#include <stdio.h>\n",
        "#include <string.h>\n",
        "#include <sys/stat.h>\n",
        "#include <fcntl.h>\n",
        "#include <unistd.h>\n",
        "#include <iostream>\n",
        "#include <sstream>\n",
        "\n",
        "using namespace std;\n",
        "\n",
        "int main (int argc, char *argv[])\n",
        "{\n",
        "  string entrada;\n",
        "  int fifoRead = open(\"./fifo\", O_RDONLY);\n",
        "  if( read( fifoRead, &entrada, sizeof( string ) ) == -1 )\n",
        "\t{\n",
        "\t\tperror(\"Error en read()\");\n",
        "\t\treturn EXIT_FAILURE;\n",
        "\t}\n",
        "  cout<< entrada << endl;\n",
        "  close(fifoRead);\t\n",
        "\treturn EXIT_SUCCESS;\n",
        "}\n"
      ],
      "metadata": {
        "colab": {
          "base_uri": "https://localhost:8080/"
        },
        "id": "8kEDH8pRGVD_",
        "outputId": "ad9d574b-33e4-40e7-d6db-3b8682c06660"
      },
      "execution_count": null,
      "outputs": [
        {
          "output_type": "stream",
          "name": "stdout",
          "text": [
            "Overwriting servidor.cpp\n"
          ]
        }
      ]
    },
    {
      "cell_type": "code",
      "source": [
        "!g++ -std=c++11 -pthread cliente.cpp -o cliente"
      ],
      "metadata": {
        "id": "idd9n9kl9wcy"
      },
      "execution_count": null,
      "outputs": []
    },
    {
      "cell_type": "code",
      "source": [
        "!g++ servidor.cpp -o servidor"
      ],
      "metadata": {
        "id": "WHVF9IF2JNn8"
      },
      "execution_count": null,
      "outputs": []
    },
    {
      "cell_type": "code",
      "source": [
        "!ls -l"
      ],
      "metadata": {
        "colab": {
          "base_uri": "https://localhost:8080/"
        },
        "id": "CKzulNDyDxpY",
        "outputId": "6e884bfb-5cea-4730-c186-a13ee26cda0b"
      },
      "execution_count": null,
      "outputs": [
        {
          "output_type": "stream",
          "name": "stdout",
          "text": [
            "total 64\n",
            "-rwxr-xr-x 1 root root 55616 May  3 20:08 cliente\n",
            "-rw-r--r-- 1 root root  2163 May  3 20:08 cliente.cpp\n",
            "drwxr-xr-x 1 root root  4096 May  1 13:36 sample_data\n"
          ]
        }
      ]
    },
    {
      "cell_type": "code",
      "source": [
        "!rm fifo"
      ],
      "metadata": {
        "id": "u7T-E8Q4GBfm"
      },
      "execution_count": null,
      "outputs": []
    },
    {
      "cell_type": "code",
      "source": [
        "!./cliente 1-2-3"
      ],
      "metadata": {
        "colab": {
          "base_uri": "https://localhost:8080/"
        },
        "id": "KGeKe8RWD1LH",
        "outputId": "20660e12-e8a2-467c-8285-5bcc4e4aeb0d"
      },
      "execution_count": null,
      "outputs": [
        {
          "output_type": "stream",
          "name": "stdout",
          "text": [
            "open fifo\n",
            "write fifo\n",
            "close fifo\n",
            "unlik fifo\n",
            "exit\n",
            "el servidor recibio esta entrada: \n",
            "free(): invalid pointer\n"
          ]
        }
      ]
    },
    {
      "cell_type": "code",
      "source": [
        "!./servidor"
      ],
      "metadata": {
        "id": "vXWu3sz0JdzU"
      },
      "execution_count": null,
      "outputs": []
    },
    {
      "cell_type": "markdown",
      "source": [
        "# Python\n",
        "**Nota: No pudimos hacerlo funcionar aqui en Colab, pero en una terminal linux en maquina local corre bien**"
      ],
      "metadata": {
        "id": "hA3iyg6CTwYS"
      }
    },
    {
      "cell_type": "code",
      "source": [
        "%%writefile texto_a_copiar.txt\n",
        " Lorem ipsum dolor sit amet, consectetur adipiscing elit. Maecenas in luctus eros. Proin quis ex tortor. Integer a orci a mi tempus scelerisque. Vestibulum tempus, lorem quis consectetur vulputate, velit orci elementum arcu, ut volutpat diam odio at justo. Nulla blandit tincidunt bibendum. Vestibulum gravida ipsum ex, ac rutrum ante laoreet nec. Proin placerat fermentum erat efficitur tempor. Etiam laoreet, lectus gravida commodo tempus, magna justo scelerisque urna, quis ultricies tortor tortor vel augue. Sed tempor sem fringilla mi ultrices semper vitae vitae orci. Cras cursus viverra tortor non finibus. Aliquam turpis turpis, fringilla nec libero ut, scelerisque placerat augue.\n",
        "\n",
        "Pellentesque id sapien quam. Etiam lorem ipsum, sodales ut odio ac, sodales lobortis leo. Nunc eu sapien ac lacus suscipit suscipit id quis ex. Morbi justo ligula, feugiat in lacus id, dictum cursus odio. Morbi consequat nisi eget elementum accumsan. Quisque dictum nec est in dignissim. Sed pulvinar lacus sit amet mi convallis, at consectetur velit blandit. Vestibulum sodales eros non arcu viverra iaculis. In non dui ligula. Nullam molestie placerat augue, sit amet suscipit massa sollicitudin non. Etiam ultricies sapien vel tortor tempus, ac pellentesque enim egestas. Sed non leo purus. Ut vehicula consectetur leo.\n",
        "\n",
        "Sed ac fringilla est. Aliquam erat volutpat. Nullam ultricies faucibus diam eget dictum. Aliquam nec porta purus. Vivamus id neque varius, ornare ante at, commodo dui. Suspendisse rhoncus a nulla faucibus euismod. Donec volutpat suscipit lectus at semper. Etiam commodo rutrum felis, vel auctor ante porta vel. Nulla facilisi. Fusce porta augue quis nunc commodo, ac sodales purus sagittis. Mauris lobortis augue nec tempor tempor."
      ],
      "metadata": {
        "id": "GKSWUA2HT8KC"
      },
      "execution_count": null,
      "outputs": []
    },
    {
      "cell_type": "code",
      "source": [
        "%%writefile pipe.py\n",
        "import os\n",
        "import pickle\n",
        "import sys\n",
        "from multiprocessing import Pipe\n",
        "\n",
        "CANTIDAD_BYTES_TRANSFERENCIA_DEFAULT = 512\n",
        "\n",
        "# Se crea el pipe\n",
        "recepcion, envio = Pipe( False )\n",
        "\n",
        "def copiar_archivo(input_file, output_file, chunk):\n",
        "    # Creo un proceso hijo\n",
        "    pid = os.fork()\n",
        "    if pid < 0:\n",
        "        print(\"Error al crear el nuevo proceso\")\n",
        "        sys.exit(1)\n",
        "\n",
        "    if pid:\n",
        "        # Proceso padre\n",
        "        with open(input_file, 'rb') as f:\n",
        "            \n",
        "            while True:\n",
        "                # Leer los datos del archivo original\n",
        "                data = f.read(chunk)\n",
        "                if not data:\n",
        "                    break\n",
        "                # Envio los datos al proceso hijo\n",
        "                recepcion.close()\n",
        "                envio.send_bytes(pickle.dumps(data))\n",
        "\n",
        "            # Envio un marcador para indicar que se han enviado todos los datos\n",
        "            envio.send_bytes(pickle.dumps(None))\n",
        "\n",
        "            # Cierro el pipe de escritura\n",
        "            envio.close()\n",
        "    else:\n",
        "        # Proceso hijo\n",
        "        with open(output_file, 'wb') as f:\n",
        "            while True:\n",
        "                # Recibo los datos del padre\n",
        "                data = pickle.loads(recepcion.recv_bytes(chunk))\n",
        "                if not data:\n",
        "                    break\n",
        "                # Escribo los datos en el nuevo archivo\n",
        "                f.write(data)\n",
        "\n",
        "            # Cierro el pipe de lectura\n",
        "            recepcion.close()\n",
        "\n",
        "if __name__ == '__main__':\n",
        "    if len(sys.argv) < 2:\n",
        "        print(\"ERROR! Debe ingresar el path del archivo a copiar\")\n",
        "        sys.exit(1)\n",
        "        \n",
        "    path = sys.argv[1]\n",
        "    chunk = int(sys.argv[2]) if len(sys.argv) > 2 else CANTIDAD_BYTES_TRANSFERENCIA_DEFAULT\n",
        "    filename, ext = os.path.splitext(path)\n",
        "    nuevo_path = filename + '_copia' + ext\n",
        "    \n",
        "    copiar_archivo(path,nuevo_path,chunk)"
      ],
      "metadata": {
        "id": "iVTVJjnXUCqK"
      },
      "execution_count": null,
      "outputs": []
    },
    {
      "cell_type": "code",
      "source": [
        "!python ./pipe.py texto_a_copiar.txt 64"
      ],
      "metadata": {
        "id": "EWwH16tPUEr0"
      },
      "execution_count": null,
      "outputs": []
    },
    {
      "cell_type": "code",
      "source": [
        "!ls"
      ],
      "metadata": {
        "id": "nAPW4tmXUGlj"
      },
      "execution_count": null,
      "outputs": []
    },
    {
      "cell_type": "code",
      "source": [
        "!cat texto_a_copiar_copia.txt"
      ],
      "metadata": {
        "id": "W-9jWQ8SUILN"
      },
      "execution_count": null,
      "outputs": []
    },
    {
      "cell_type": "code",
      "source": [
        "!rm texto_a_copiar_copia.txt"
      ],
      "metadata": {
        "id": "-HxcH9nbUJ5u"
      },
      "execution_count": null,
      "outputs": []
    }
  ],
  "metadata": {
    "colab": {
      "toc_visible": true,
      "provenance": [],
      "include_colab_link": true
    },
    "kernelspec": {
      "display_name": "Python 3",
      "name": "python3"
    }
  },
  "nbformat": 4,
  "nbformat_minor": 0
}