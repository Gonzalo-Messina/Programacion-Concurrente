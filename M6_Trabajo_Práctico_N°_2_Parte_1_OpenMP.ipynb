{
  "nbformat": 4,
  "nbformat_minor": 0,
  "metadata": {
    "colab": {
      "provenance": [],
      "authorship_tag": "ABX9TyMyCcqR0+DFy4qZLf/utElH",
      "include_colab_link": true
    },
    "kernelspec": {
      "name": "python3",
      "display_name": "Python 3"
    },
    "language_info": {
      "name": "python"
    }
  },
  "cells": [
    {
      "cell_type": "markdown",
      "metadata": {
        "id": "view-in-github",
        "colab_type": "text"
      },
      "source": [
        "<a href=\"https://colab.research.google.com/github/Gonzalo-Messina/Programacion-Concurrente/blob/main/M6_Trabajo_Pr%C3%A1ctico_N%C2%B0_2_Parte_1_OpenMP.ipynb\" target=\"_parent\"><img src=\"https://colab.research.google.com/assets/colab-badge.svg\" alt=\"Open In Colab\"/></a>"
      ]
    },
    {
      "cell_type": "markdown",
      "source": [
        "\n",
        "1.1. Ejercicio 1 - Hola Mundo estilo Programacion Concurrente"
      ],
      "metadata": {
        "id": "X_BhTWNJ4rrR"
      }
    },
    {
      "cell_type": "markdown",
      "source": [
        "1.1.1. Preguntas ejercicio 1:\n",
        "a) Identifique los 3 componentes de openMP en el ejercicio 1.\n",
        "\n",
        "Los tres componentes de openMP son directivas de compilador:\n",
        "\n",
        "\n",
        "*   \"#pragma omp parallel\"\n",
        "*   \"#pragma omp single\"\n",
        "*   \"#pragma omp master\"\n",
        "*   \"#pragma omp for schedule(dynamic, 5)\"\n",
        "\n",
        "\n",
        "\n",
        "\n",
        "Bibliotecas de funciones:\n",
        "omp_get_thread_num()\n",
        "\n",
        "Variables de entorno:\n",
        "env OMP_NUM_THREADS=5\n",
        "\n",
        "\n",
        "b) Realice pruebas modificando la cantidad de hilos (1, 3, 7). Que conclusiones pudo determinar?.\n",
        "\n",
        "\n",
        "\n",
        "*   Si aumento la cantidad de hilos se ve como se reparten las iteraciones entre los hilos, si tengo un solo hilo se ejecuta de manera secuencial\n",
        "\n",
        "\n",
        "\n",
        "c) ¿Cuál es la diferencia las formas de asignación static y dynamic en la cláusula schedule?, ¿Qué sucede si utiliza dynamic en el código?\n",
        "\n",
        "\n",
        "\n",
        "*   **STATIC:** todas las iteraciones se reparten entre los threads antes de que ejecuten el bucle. Se reparten las iteraciones equitativamente entre todos los threads\n",
        "*   **DYNAMIC:** Al igual que en static se reparten todas las iteraciones entre los threads. Cuando un thread en concreto acaba las iteraciones asignadas, entonces ejecuta una de las iteraciones que estaban por ejecutar.\n",
        "\n",
        "Si se utiliza dynamic en el codigo a la salida se ve como la distribucion de la iteraciones no es equitativa, en algunas ejecuciones el hilo 0 hizo casi todas las iteraciones, en otra un hilo hizo muchas mas iteraciones q los otros y asi. En cambio si se ejecuta con static se ve como cada hilo ejecutan la misma cantidad de iteraciones aproximadamente.\n",
        "\n",
        "\n",
        "\n",
        "\n",
        "\n",
        "d) En el for: ¿Que sucede con el valor de j, sí se parametriza como lastprivate?\n",
        "\n",
        "\n",
        "\n",
        "*   Si declaro la variable j como lastprivate, cada hilo tiene una copia local del dato, por lo tanto la copia global es actulizada por el hilo que ejecuta la última iteración.\n",
        "\n"
      ],
      "metadata": {
        "id": "P5qtsy3d4tTU"
      }
    },
    {
      "cell_type": "code",
      "source": [
        "%%writefile code.cpp\n",
        "\n",
        "// Hola Mundo desde OpenMP usando c ejecutado en Colab. \n",
        "\n",
        "#include <iostream>\n",
        "#include <vector>\n",
        "#include <omp.h>    // Cabecera OpenMP   \n",
        "\n",
        "int main(int argc, char* argv[]) \n",
        "{\n",
        "  int i,j=0;\n",
        "  std::cout<<\"Inicio...\"<<std::endl;\n",
        "\n",
        "  //-----------------------------------------------------------------------------------------------\n",
        "  // Region paralela\n",
        "  #pragma omp parallel\n",
        "  { \n",
        "    std::cout<<\"Hola mundo!!!... soy el hilo \"<< omp_get_thread_num()<<\" de \"<<  omp_get_num_threads() <<\" procesadores \"<< omp_get_num_procs()<< std::endl;  \n",
        "\n",
        "    #pragma omp single\n",
        "    {\n",
        "      std::cout<<\"Hola mundo!!!... soy el hilo \"<< omp_get_thread_num()<<\" uno de muchos.\"<< std::endl;\n",
        "    }\n",
        "    #pragma omp master\n",
        "    {\n",
        "      std::cout<<\"Hola mundo!!!... soy el hilo maestro: \"<< omp_get_thread_num()<< std::endl;\n",
        "    }\n",
        "\n",
        "    //#pragma omp for schedule(dynamic, 5)\n",
        "    #pragma omp for lastprivate(j)\n",
        "    for(i=0;i<20;i++)\n",
        "    {\n",
        "      j++;\n",
        "      std::cout<<\"Hola mundo!!!... soy el hilo \"<< omp_get_thread_num()<<\" itero para i. \"<<i<<\" actualizo j \"<<j<< std::endl;\n",
        "    }\n",
        "  }\n",
        "  // Region paralela\n",
        "  //-----------------------------------------------------------------------------------------------\n",
        "\n",
        "  std::cout<<\"Fin... con j=\"<<j<<std::endl;\n",
        "}"
      ],
      "metadata": {
        "colab": {
          "base_uri": "https://localhost:8080/"
        },
        "id": "PH50sSPN6l3D",
        "outputId": "e80b54f4-830d-45c2-85fd-7235aab211c9"
      },
      "execution_count": 7,
      "outputs": [
        {
          "output_type": "stream",
          "name": "stdout",
          "text": [
            "Writing code.cpp\n"
          ]
        }
      ]
    },
    {
      "cell_type": "code",
      "source": [
        "!g++ -o hello -fopenmp code.cpp"
      ],
      "metadata": {
        "id": "Wja14Dt36nvx"
      },
      "execution_count": 8,
      "outputs": []
    },
    {
      "cell_type": "code",
      "source": [
        "%env OMP_NUM_THREADS=7\n",
        "!./hello"
      ],
      "metadata": {
        "colab": {
          "base_uri": "https://localhost:8080/"
        },
        "id": "NKMbObJm6pTM",
        "outputId": "96d7ca13-4643-4b19-c0ff-60bc72b81003"
      },
      "execution_count": 11,
      "outputs": [
        {
          "output_type": "stream",
          "name": "stdout",
          "text": [
            "env: OMP_NUM_THREADS=7\n",
            "Inicio...\n",
            "Hola mundo!!!... soy el hilo 0 de 7 procesadores 2\n",
            "Hola mundo!!!... soy el hilo 0 uno de muchos.\n",
            "Hola mundo!!!... soy el hilo 5 de 7 procesadores 2\n",
            "Hola mundo!!!... soy el hilo 6 de 7 procesadores 2\n",
            "Hola mundo!!!... soy el hilo 4 de 7 procesadores 2\n",
            "Hola mundo!!!... soy el hilo 3 de 7 procesadores 2\n",
            "Hola mundo!!!... soy el hilo 1 de 7 procesadores 2\n",
            "Hola mundo!!!... soy el hilo 2 de 7 procesadores 2\n",
            "Hola mundo!!!... soy el hilo maestro: 0\n",
            "Hola mundo!!!... soy el hilo 0 itero para i. 0 actualizo j 1\n",
            "Hola mundo!!!... soy el hilo 0 itero para i. 1 actualizo j 2\n",
            "Hola mundo!!!... soy el hilo 0 itero para i. 2 actualizo j 3\n",
            "Hola mundo!!!... soy el hilo 5 itero para i. 15 actualizo j 1\n",
            "Hola mundo!!!... soy el hilo 5 itero para i. 16 actualizo j 2\n",
            "Hola mundo!!!... soy el hilo 5 itero para i. 17 actualizo j 3\n",
            "Hola mundo!!!... soy el hilo 6 itero para i. 18 actualizo j 1\n",
            "Hola mundo!!!... soy el hilo 6 itero para i. 19 actualizo j 2\n",
            "Hola mundo!!!... soy el hilo 4 itero para i. 12 actualizo j 1\n",
            "Hola mundo!!!... soy el hilo 4 itero para i. 13 actualizo j 2\n",
            "Hola mundo!!!... soy el hilo 4 itero para i. 14 actualizo j 3\n",
            "Hola mundo!!!... soy el hilo 3 itero para i. 9 actualizo j 1\n",
            "Hola mundo!!!... soy el hilo 3 itero para i. 10 actualizo j 2\n",
            "Hola mundo!!!... soy el hilo 3 itero para i. 11 actualizo j 3\n",
            "Hola mundo!!!... soy el hilo 1 itero para i. 3 actualizo j 1\n",
            "Hola mundo!!!... soy el hilo 1 itero para i. 4 actualizo j 2\n",
            "Hola mundo!!!... soy el hilo 1 itero para i. 5 actualizo j 3\n",
            "Hola mundo!!!... soy el hilo 2 itero para i. 6 actualizo j 1\n",
            "Hola mundo!!!... soy el hilo 2 itero para i. 7 actualizo j 2\n",
            "Hola mundo!!!... soy el hilo 2 itero para i. 8 actualizo j 3\n",
            "Fin... con j=2\n"
          ]
        }
      ]
    },
    {
      "cell_type": "markdown",
      "source": [
        "**1.2.1 Preguntas Ejercicio 2**\n",
        "\n",
        "a) Ejecute el ejercicio 1.2.2:\n",
        "\n",
        "- Con la variable cantidad_N para: 50, 500, 5.000.\n",
        "- Con los valores hilos_ 2, 4, 6.\n",
        "\n",
        "b) Repita la prueba (a), con ciclos 1, 10, 30. ¿Cuál fue la diferencia?\n",
        "\n",
        " \n",
        "\n",
        "*   La diferencia se ve que al aumentar la cantidad de ciclos con pocos hilos, el speedup aumenta indicando la ganancia que tendria de hacerlo de forma paralela. Y si aumento los ciclos y la cantidad de hilos la eficiencia baja, en cambio si tengo pocos ciclos y bajo la cantidad de hilos la eficiencia aumenta\n",
        "\n",
        "\n",
        "c) ¿Por qué el SpeedUp no mejora a medida que aumentan la cantidad de hilos?\n",
        "\n",
        "\n",
        "\n",
        "*   Hay varias razones por la cual el speedup puede no aumentar al aumentar la cantidad de hilos, pero en este caso es debido al hardware de la maquina virtual, al generar mas hilos que procesadores se produce una competencia por los recursos lo cual no es optimo\n",
        "\n",
        "\n",
        "\n",
        "d) ¿Qué sucede con la eficiencia a medida que aumentan la cantidad_N?¿Porqué no llega al valor ideal?.\n",
        "\n",
        "\n",
        "\n",
        "*   Al aumentar la cantidad_N la eficiencia aumenta acercandome al valor ideal, pero no se llega al valor ideal ya que este esta relacionado al speedup (el cual tampoco es ideal)\n"
      ],
      "metadata": {
        "id": "KgPWwGPcDTn8"
      }
    },
    {
      "cell_type": "code",
      "source": [
        " %%writefile code_axpy.cpp\n",
        "// Axpy con OpenMP usando c ejecutado en Colab. \n",
        "\n",
        "#include <iostream>\n",
        "#include <vector>\n",
        "#include <cstdlib>\n",
        "#include <sys/time.h>\n",
        "#include <omp.h>    // Cabecera OpenMP   \n",
        "\n",
        "// ----------------------------------------------------------------------------\n",
        "// Macros que miden el tiempo.\n",
        "\n",
        "static double dHashTiempoHistory[3];\n",
        "static struct timeval tv;\n",
        "\n",
        "#define TIEMPO_INI( h ) gettimeofday(&tv,NULL); dHashTiempoHistory[ h ] = tv.tv_sec + tv.tv_usec/1000000.0;\n",
        "    \n",
        "    \n",
        "#define TIEMPO_FIN( h ) gettimeofday(&tv,NULL); dHashTiempoHistory[ h ] = ((tv.tv_sec + tv.tv_usec/1000000.0) - dHashTiempoHistory[ h ]) * 1000; // Devuelvo en milisegundos\n",
        "#define TIEMPO_GET( h ) dHashTiempoHistory[ h ]\n",
        "\n",
        "#define HTH_TOTAL         1\n",
        "#define HTH_AXPY_SEC      2\n",
        "#define HTH_AXPY_OMP      3\n",
        "\n",
        "using namespace std;\n",
        "\n",
        "// ----------------------------------------------------------------------------\n",
        "\n",
        "void axpy( double alfa, vector<double> &X, vector<double> &Y )\n",
        "{\n",
        "  int i;\n",
        "\n",
        "  #pragma omp parallel for\n",
        "  for(i=0;i<Y.size();i++)\n",
        "  {\n",
        "    Y[i] = alfa * X[i] + Y[i];\n",
        "  }\n",
        "}\n",
        "\n",
        "// ----------------------------------------------------------------------------\n",
        "\n",
        "int main(int argc, char* argv[]) \n",
        "{ \n",
        "  int i,c;\n",
        "  TIEMPO_INI( HTH_TOTAL )\n",
        "\n",
        "  // Leo los parametros.\n",
        "  if( argc != 4 )\n",
        "  {\n",
        "      std::cerr<<\"Error en los parametros de indicar: (alfa) (Tamanio vector) (ciclos ejecucion).\"<<argc<<std::endl;\n",
        "      exit( -1 );\n",
        "  }\n",
        "\n",
        "  float alfa     = atof( argv[1] );\n",
        "  int cantidad_N = atoi( argv[2] );\n",
        "  int ciclos     = atoi( argv[3] );\n",
        "\n",
        "  // --------------------------------------------\n",
        "  // Defino la memoria de los vectores.\n",
        "\n",
        "  vector<double> X( cantidad_N );\n",
        "  vector<double> Y( cantidad_N );\n",
        "\n",
        "  for (int i=0;i<X.size();i++)\n",
        "  {\n",
        "    X[i] = (rand()/(double)RAND_MAX)*0.73;\n",
        "    Y[i] = (rand()/(double)RAND_MAX)*0.71;\n",
        "  }\n",
        "\n",
        "  // --------------------------------------------\n",
        "  // Realizo la función Axpy con OpenMP.\n",
        "\n",
        "  TIEMPO_INI( HTH_AXPY_OMP )\n",
        "\n",
        "  for(c=0;c<ciclos;c++)\n",
        "  {\n",
        "    axpy( alfa, X, Y );\n",
        "  }\n",
        "\n",
        "  TIEMPO_FIN( HTH_AXPY_OMP )\n",
        "\n",
        "  // --------------------------------------------\n",
        "  // Realizo la función Axpy en forma secuencial.\n",
        "\n",
        "  omp_set_num_threads(1);\n",
        "\n",
        "  TIEMPO_INI( HTH_AXPY_SEC )\n",
        "\n",
        "  for(c=0;c<ciclos;c++)\n",
        "  {\n",
        "    axpy( alfa, X, Y );\n",
        "  }\n",
        "\n",
        "  TIEMPO_FIN( HTH_AXPY_SEC )\n",
        "\n",
        "  TIEMPO_FIN( HTH_TOTAL )\n",
        "\n",
        "  std::cout<<\"Valores Reales  : \"<<std::endl;\n",
        "  std::cout<<\"Tiempo TOTAL     : \"<<TIEMPO_GET(HTH_TOTAL   )<<\" [ms]\"<<std::endl;\n",
        "  std::cout<<\"Tiempo axpy Sec  : \"<<TIEMPO_GET(HTH_AXPY_SEC)<<\" [ms]\"<<std::endl;\n",
        "  std::cout<<\"Tiempo axpy Omp  : \"<<TIEMPO_GET(HTH_AXPY_OMP)<<\" [ms]\"<<std::endl;\n",
        "  std::cout<<std::endl;\n",
        "  std::cout<<\"SpeedUp          : (tiempo Secuencial/tiempo paralelo) : \"<<TIEMPO_GET(HTH_AXPY_SEC)<<\" / \"<<TIEMPO_GET(HTH_AXPY_OMP)<<\" = \"<<TIEMPO_GET(HTH_AXPY_SEC)/TIEMPO_GET(HTH_AXPY_OMP)<<std::endl;\n",
        "  std::cout<<\"Eficiencia       : SpeedUp/nro procesadores            : \"<<TIEMPO_GET(HTH_AXPY_SEC)/TIEMPO_GET(HTH_AXPY_OMP)<<\" / \"<<omp_get_num_procs()<<\" = \"<<TIEMPO_GET(HTH_AXPY_SEC)/(omp_get_num_procs()*TIEMPO_GET(HTH_AXPY_OMP))<<std::endl;\n",
        "  std::cout<<\"Coste Sec        : nro procesadores*Tiempo             : \"<<1<<\" * \"<<TIEMPO_GET(HTH_AXPY_SEC)<<\" = \"<<TIEMPO_GET(HTH_AXPY_SEC)<<std::endl;\n",
        "  std::cout<<\"Coste Omp        : nro procesadores*Tiempo             : \"<<omp_get_num_procs()<<\" * \"<<TIEMPO_GET(HTH_AXPY_OMP)<<\" = \"<<omp_get_num_procs()*TIEMPO_GET(HTH_AXPY_OMP)<<std::endl;\n",
        "  std::cout<<\"Funcion Overhead : Coste Omp - tiempo Secuencial       : \"<<omp_get_num_procs()*TIEMPO_GET(HTH_AXPY_OMP)<<\" - \"<<TIEMPO_GET(HTH_AXPY_SEC)<<\" = \"<<(omp_get_num_procs()*TIEMPO_GET(HTH_AXPY_OMP))-TIEMPO_GET(HTH_AXPY_SEC)<<std::endl;\n",
        "\n",
        "\n",
        "  std::cout<<std::endl;\n",
        "  std::cout<<\"Valores Ideal: \"<<std::endl;\n",
        "  TIEMPO_GET(HTH_AXPY_OMP) = TIEMPO_GET(HTH_AXPY_SEC) / omp_get_num_procs();\n",
        "  std::cout<<\"Tiempo axpy Sec  : \"<<TIEMPO_GET(HTH_AXPY_SEC)<<\" [ms]\"<<std::endl;\n",
        "  std::cout<<\"Tiempo axpy Omp  : \"<<TIEMPO_GET(HTH_AXPY_OMP)<<\" [ms]\"<<std::endl;\n",
        "\n",
        "  std::cout<<\"SpeedUp          : (tiempo Secuencial/tiempo paralelo) : \"<<TIEMPO_GET(HTH_AXPY_SEC)<<\" / \"<<TIEMPO_GET(HTH_AXPY_OMP)<<\" = \"<<TIEMPO_GET(HTH_AXPY_SEC)/TIEMPO_GET(HTH_AXPY_OMP)<<std::endl;\n",
        "  std::cout<<\"Eficiencia       : SpeedUp/nro procesadores            : \"<<TIEMPO_GET(HTH_AXPY_SEC)/TIEMPO_GET(HTH_AXPY_OMP)<<\" / \"<<omp_get_num_procs()<<\" = \"<<TIEMPO_GET(HTH_AXPY_SEC)/(omp_get_num_procs()*TIEMPO_GET(HTH_AXPY_OMP))<<std::endl;\n",
        "  std::cout<<\"Coste Sec        : nro procesadores*Tiempo             : \"<<1<<\" * \"<<TIEMPO_GET(HTH_AXPY_SEC)<<\" = \"<<TIEMPO_GET(HTH_AXPY_SEC)<<std::endl;\n",
        "  std::cout<<\"Coste Omp        : nro procesadores*Tiempo             : \"<<omp_get_num_procs()<<\" * \"<<TIEMPO_GET(HTH_AXPY_OMP)<<\" = \"<<omp_get_num_procs()*TIEMPO_GET(HTH_AXPY_OMP)<<std::endl;\n",
        "  std::cout<<\"Funcion Overhead : Coste Omp - tiempo Secuencial       : \"<<omp_get_num_procs()*TIEMPO_GET(HTH_AXPY_OMP)<<\" - \"<<TIEMPO_GET(HTH_AXPY_SEC)<<\" = \"<<(omp_get_num_procs()*TIEMPO_GET(HTH_AXPY_OMP))-TIEMPO_GET(HTH_AXPY_SEC)<<std::endl;\n",
        "\n",
        "\n",
        "}\n",
        "// ----------------------------------------------------------------------------"
      ],
      "metadata": {
        "colab": {
          "base_uri": "https://localhost:8080/"
        },
        "id": "QEHM69H9Dig7",
        "outputId": "f7873b22-8774-45f1-9bff-16391a28a2f7"
      },
      "execution_count": 12,
      "outputs": [
        {
          "output_type": "stream",
          "name": "stdout",
          "text": [
            "Overwriting code_axpy.cpp\n"
          ]
        }
      ]
    },
    {
      "cell_type": "code",
      "source": [
        "!g++ -o axpy -fopenmp code_axpy.cpp"
      ],
      "metadata": {
        "id": "c-bsibZGFUpn"
      },
      "execution_count": 13,
      "outputs": []
    },
    {
      "cell_type": "code",
      "source": [
        "\n",
        "# --------------------------------------------\n",
        "#@title Parámetros de ejecución { vertical-output: true }\n",
        "\n",
        "Cantidad_N = 5000#@param {type: \"number\"}\n",
        "Alfa       = 1.0#@param {type: \"number\"}\n",
        "Ciclos     = 10#@param {type: \"slider\", min: 10, max: 200}\n",
        "Hilos      = 1#@param {type: \"slider\", min: 1, max: 10}\n",
        "\n",
        "# --------------------------------------------\n",
        "\n",
        "%env OMP_NUM_THREADS=$Hilos\n",
        "!./axpy $Alfa $Cantidad_N $Ciclos"
      ],
      "metadata": {
        "colab": {
          "base_uri": "https://localhost:8080/"
        },
        "id": "Ix1M9BjBFaA7",
        "outputId": "42d72a78-b0b6-4505-c634-c59bcf4a57b0"
      },
      "execution_count": 18,
      "outputs": [
        {
          "output_type": "stream",
          "name": "stdout",
          "text": [
            "env: OMP_NUM_THREADS=1\n",
            "Valores Reales  : \n",
            "Tiempo TOTAL     : 1.74403 [ms]\n",
            "Tiempo axpy Sec  : 0.711203 [ms]\n",
            "Tiempo axpy Omp  : 0.726938 [ms]\n",
            "\n",
            "SpeedUp          : (tiempo Secuencial/tiempo paralelo) : 0.711203 / 0.726938 = 0.978354\n",
            "Eficiencia       : SpeedUp/nro procesadores            : 0.978354 / 2 = 0.489177\n",
            "Coste Sec        : nro procesadores*Tiempo             : 1 * 0.711203 = 0.711203\n",
            "Coste Omp        : nro procesadores*Tiempo             : 2 * 0.726938 = 1.45388\n",
            "Funcion Overhead : Coste Omp - tiempo Secuencial       : 1.45388 - 0.711203 = 0.742674\n",
            "\n",
            "Valores Ideal: \n",
            "Tiempo axpy Sec  : 0.711203 [ms]\n",
            "Tiempo axpy Omp  : 0.355601 [ms]\n",
            "SpeedUp          : (tiempo Secuencial/tiempo paralelo) : 0.711203 / 0.355601 = 2\n",
            "Eficiencia       : SpeedUp/nro procesadores            : 2 / 2 = 1\n",
            "Coste Sec        : nro procesadores*Tiempo             : 1 * 0.711203 = 0.711203\n",
            "Coste Omp        : nro procesadores*Tiempo             : 2 * 0.355601 = 0.711203\n",
            "Funcion Overhead : Coste Omp - tiempo Secuencial       : 0.711203 - 0.711203 = 0\n"
          ]
        }
      ]
    },
    {
      "cell_type": "code",
      "source": [
        "!cat /proc/cpuinfo"
      ],
      "metadata": {
        "colab": {
          "base_uri": "https://localhost:8080/"
        },
        "id": "oITjXUI_FeBo",
        "outputId": "6fbd309d-98ce-4873-b616-0cd371bf408a"
      },
      "execution_count": null,
      "outputs": [
        {
          "output_type": "stream",
          "name": "stdout",
          "text": [
            "processor\t: 0\n",
            "vendor_id\t: GenuineIntel\n",
            "cpu family\t: 6\n",
            "model\t\t: 79\n",
            "model name\t: Intel(R) Xeon(R) CPU @ 2.20GHz\n",
            "stepping\t: 0\n",
            "microcode\t: 0xffffffff\n",
            "cpu MHz\t\t: 2199.998\n",
            "cache size\t: 56320 KB\n",
            "physical id\t: 0\n",
            "siblings\t: 2\n",
            "core id\t\t: 0\n",
            "cpu cores\t: 1\n",
            "apicid\t\t: 0\n",
            "initial apicid\t: 0\n",
            "fpu\t\t: yes\n",
            "fpu_exception\t: yes\n",
            "cpuid level\t: 13\n",
            "wp\t\t: yes\n",
            "flags\t\t: fpu vme de pse tsc msr pae mce cx8 apic sep mtrr pge mca cmov pat pse36 clflush mmx fxsr sse sse2 ss ht syscall nx pdpe1gb rdtscp lm constant_tsc rep_good nopl xtopology nonstop_tsc cpuid tsc_known_freq pni pclmulqdq ssse3 fma cx16 pcid sse4_1 sse4_2 x2apic movbe popcnt aes xsave avx f16c rdrand hypervisor lahf_lm abm 3dnowprefetch invpcid_single ssbd ibrs ibpb stibp fsgsbase tsc_adjust bmi1 hle avx2 smep bmi2 erms invpcid rtm rdseed adx smap xsaveopt arat md_clear arch_capabilities\n",
            "bugs\t\t: cpu_meltdown spectre_v1 spectre_v2 spec_store_bypass l1tf mds swapgs taa mmio_stale_data retbleed\n",
            "bogomips\t: 4399.99\n",
            "clflush size\t: 64\n",
            "cache_alignment\t: 64\n",
            "address sizes\t: 46 bits physical, 48 bits virtual\n",
            "power management:\n",
            "\n",
            "processor\t: 1\n",
            "vendor_id\t: GenuineIntel\n",
            "cpu family\t: 6\n",
            "model\t\t: 79\n",
            "model name\t: Intel(R) Xeon(R) CPU @ 2.20GHz\n",
            "stepping\t: 0\n",
            "microcode\t: 0xffffffff\n",
            "cpu MHz\t\t: 2199.998\n",
            "cache size\t: 56320 KB\n",
            "physical id\t: 0\n",
            "siblings\t: 2\n",
            "core id\t\t: 0\n",
            "cpu cores\t: 1\n",
            "apicid\t\t: 1\n",
            "initial apicid\t: 1\n",
            "fpu\t\t: yes\n",
            "fpu_exception\t: yes\n",
            "cpuid level\t: 13\n",
            "wp\t\t: yes\n",
            "flags\t\t: fpu vme de pse tsc msr pae mce cx8 apic sep mtrr pge mca cmov pat pse36 clflush mmx fxsr sse sse2 ss ht syscall nx pdpe1gb rdtscp lm constant_tsc rep_good nopl xtopology nonstop_tsc cpuid tsc_known_freq pni pclmulqdq ssse3 fma cx16 pcid sse4_1 sse4_2 x2apic movbe popcnt aes xsave avx f16c rdrand hypervisor lahf_lm abm 3dnowprefetch invpcid_single ssbd ibrs ibpb stibp fsgsbase tsc_adjust bmi1 hle avx2 smep bmi2 erms invpcid rtm rdseed adx smap xsaveopt arat md_clear arch_capabilities\n",
            "bugs\t\t: cpu_meltdown spectre_v1 spectre_v2 spec_store_bypass l1tf mds swapgs taa mmio_stale_data retbleed\n",
            "bogomips\t: 4399.99\n",
            "clflush size\t: 64\n",
            "cache_alignment\t: 64\n",
            "address sizes\t: 46 bits physical, 48 bits virtual\n",
            "power management:\n",
            "\n"
          ]
        }
      ]
    }
  ]
}